{
 "cells": [
  {
   "cell_type": "markdown",
   "metadata": {},
   "source": [
    "# Анализ белгородских мест общесвтенного питания\n",
    "\n",
    "### Анализ производится из данных, которые удалось собрать при парсинге yandex карт"
   ]
  },
  {
   "cell_type": "code",
   "execution_count": 1,
   "metadata": {},
   "outputs": [],
   "source": [
    "import numpy as np \n",
    "import pandas as pd \n",
    "import scipy.stats as sts \n",
    "import matplotlib.pyplot as plt \n",
    "import seaborn as sns "
   ]
  },
  {
   "cell_type": "code",
   "execution_count": 2,
   "metadata": {},
   "outputs": [
    {
     "data": {
      "text/html": [
       "<div>\n",
       "<style scoped>\n",
       "    .dataframe tbody tr th:only-of-type {\n",
       "        vertical-align: middle;\n",
       "    }\n",
       "\n",
       "    .dataframe tbody tr th {\n",
       "        vertical-align: top;\n",
       "    }\n",
       "\n",
       "    .dataframe thead th {\n",
       "        text-align: right;\n",
       "    }\n",
       "</style>\n",
       "<table border=\"1\" class=\"dataframe\">\n",
       "  <thead>\n",
       "    <tr style=\"text-align: right;\">\n",
       "      <th></th>\n",
       "      <th>Unnamed: 0</th>\n",
       "      <th>adress</th>\n",
       "      <th>rait</th>\n",
       "      <th>rait_count</th>\n",
       "      <th>link</th>\n",
       "      <th>closing_time</th>\n",
       "      <th>category</th>\n",
       "    </tr>\n",
       "    <tr>\n",
       "      <th>name</th>\n",
       "      <th></th>\n",
       "      <th></th>\n",
       "      <th></th>\n",
       "      <th></th>\n",
       "      <th></th>\n",
       "      <th></th>\n",
       "      <th></th>\n",
       "    </tr>\n",
       "  </thead>\n",
       "  <tbody>\n",
       "    <tr>\n",
       "      <th>Farfor</th>\n",
       "      <td>0</td>\n",
       "      <td>Харьковский пер., 36Д, Белгород</td>\n",
       "      <td>4.3</td>\n",
       "      <td>391 оценка</td>\n",
       "      <td>https://yandex.ru/maps/org/farfor/73233893783</td>\n",
       "      <td>Открыто до 23:00</td>\n",
       "      <td>Доставка еды и обедов</td>\n",
       "    </tr>\n",
       "    <tr>\n",
       "      <th>Перчини Grill&amp;Wine</th>\n",
       "      <td>1</td>\n",
       "      <td>просп. Славы, 90А, Белгород</td>\n",
       "      <td>4.5</td>\n",
       "      <td>(2416)</td>\n",
       "      <td>https://yandex.ru/maps/org/perchini_grill_wine...</td>\n",
       "      <td>Открыто до 23:00</td>\n",
       "      <td>Ресторан</td>\n",
       "    </tr>\n",
       "    <tr>\n",
       "      <th>Ниндзя ФУД</th>\n",
       "      <td>2</td>\n",
       "      <td>ул. Костюкова, 39, Белгород</td>\n",
       "      <td>4.7</td>\n",
       "      <td>(651)</td>\n",
       "      <td>https://yandex.ru/maps/org/nindzya_fud/1868725...</td>\n",
       "      <td>Открыто до 23:00</td>\n",
       "      <td>Кафе</td>\n",
       "    </tr>\n",
       "    <tr>\n",
       "      <th>Дао</th>\n",
       "      <td>3</td>\n",
       "      <td>Харьковская ул., 3, Белгород, этаж 1</td>\n",
       "      <td>4.4</td>\n",
       "      <td>407 оценок</td>\n",
       "      <td>https://yandex.ru/maps/org/dao/17169128887</td>\n",
       "      <td>Открыто до 22:00</td>\n",
       "      <td>Ресторан</td>\n",
       "    </tr>\n",
       "    <tr>\n",
       "      <th>Тшм</th>\n",
       "      <td>4</td>\n",
       "      <td>Белгородский просп., 93, Белгород</td>\n",
       "      <td>3.7</td>\n",
       "      <td>239 оценок</td>\n",
       "      <td>https://yandex.ru/maps/org/tshm/190737174920</td>\n",
       "      <td>Круглосуточно</td>\n",
       "      <td>Быстрое питание</td>\n",
       "    </tr>\n",
       "  </tbody>\n",
       "</table>\n",
       "</div>"
      ],
      "text/plain": [
       "                    Unnamed: 0                                adress  rait  \\\n",
       "name                                                                         \n",
       "Farfor                       0       Харьковский пер., 36Д, Белгород   4.3   \n",
       "Перчини Grill&Wine           1           просп. Славы, 90А, Белгород   4.5   \n",
       "Ниндзя ФУД                   2           ул. Костюкова, 39, Белгород   4.7   \n",
       "Дао                          3  Харьковская ул., 3, Белгород, этаж 1   4.4   \n",
       "Тшм                          4     Белгородский просп., 93, Белгород   3.7   \n",
       "\n",
       "                    rait_count  \\\n",
       "name                             \n",
       "Farfor              391 оценка   \n",
       "Перчини Grill&Wine      (2416)   \n",
       "Ниндзя ФУД               (651)   \n",
       "Дао                 407 оценок   \n",
       "Тшм                 239 оценок   \n",
       "\n",
       "                                                                 link  \\\n",
       "name                                                                    \n",
       "Farfor                  https://yandex.ru/maps/org/farfor/73233893783   \n",
       "Перчини Grill&Wine  https://yandex.ru/maps/org/perchini_grill_wine...   \n",
       "Ниндзя ФУД          https://yandex.ru/maps/org/nindzya_fud/1868725...   \n",
       "Дао                        https://yandex.ru/maps/org/dao/17169128887   \n",
       "Тшм                      https://yandex.ru/maps/org/tshm/190737174920   \n",
       "\n",
       "                        closing_time               category  \n",
       "name                                                         \n",
       "Farfor              Открыто до 23:00  Доставка еды и обедов  \n",
       "Перчини Grill&Wine  Открыто до 23:00               Ресторан  \n",
       "Ниндзя ФУД          Открыто до 23:00                   Кафе  \n",
       "Дао                 Открыто до 22:00               Ресторан  \n",
       "Тшм                    Круглосуточно        Быстрое питание  "
      ]
     },
     "execution_count": 2,
     "metadata": {},
     "output_type": "execute_result"
    }
   ],
   "source": [
    "df = pd.read_csv('data/belgorod_food_places.csv', index_col='name')\n",
    "df.head()"
   ]
  },
  {
   "cell_type": "markdown",
   "metadata": {},
   "source": [
    "## Колонки \n",
    "* *name* - наименование заведения общественного питания \n",
    "\n",
    "* *Unnamed* - будел удалена\n",
    "\n",
    "* *adress* - адрес заведения\n",
    "\n",
    "* *rait* - рейтинг заведения по 5-ти балльной шкале\n",
    "\n",
    "* *rait_count* - количесвто оценок\n",
    "\n",
    "* *link* - ссылка на заведение в яндекс картах\n",
    "\n",
    "* *closing_time* - время закрытия\n",
    "\n",
    "* *category* - категория зведения  "
   ]
  },
  {
   "cell_type": "code",
   "execution_count": 3,
   "metadata": {},
   "outputs": [],
   "source": [
    "df = df.drop(df.columns[[0]], axis=1)"
   ]
  },
  {
   "cell_type": "code",
   "execution_count": 4,
   "metadata": {},
   "outputs": [
    {
     "name": "stdout",
     "output_type": "stream",
     "text": [
      "<class 'pandas.core.frame.DataFrame'>\n",
      "Index: 215 entries, Farfor to Кафе шашлычная Сытое пузо\n",
      "Data columns (total 6 columns):\n",
      " #   Column        Non-Null Count  Dtype  \n",
      "---  ------        --------------  -----  \n",
      " 0   adress        213 non-null    object \n",
      " 1   rait          212 non-null    float64\n",
      " 2   rait_count    212 non-null    object \n",
      " 3   link          212 non-null    object \n",
      " 4   closing_time  215 non-null    object \n",
      " 5   category      213 non-null    object \n",
      "dtypes: float64(1), object(5)\n",
      "memory usage: 11.8+ KB\n"
     ]
    }
   ],
   "source": [
    "df.info()"
   ]
  },
  {
   "cell_type": "code",
   "execution_count": 5,
   "metadata": {},
   "outputs": [
    {
     "data": {
      "text/html": [
       "<div>\n",
       "<style scoped>\n",
       "    .dataframe tbody tr th:only-of-type {\n",
       "        vertical-align: middle;\n",
       "    }\n",
       "\n",
       "    .dataframe tbody tr th {\n",
       "        vertical-align: top;\n",
       "    }\n",
       "\n",
       "    .dataframe thead th {\n",
       "        text-align: right;\n",
       "    }\n",
       "</style>\n",
       "<table border=\"1\" class=\"dataframe\">\n",
       "  <thead>\n",
       "    <tr style=\"text-align: right;\">\n",
       "      <th></th>\n",
       "      <th>rait</th>\n",
       "    </tr>\n",
       "  </thead>\n",
       "  <tbody>\n",
       "    <tr>\n",
       "      <th>count</th>\n",
       "      <td>212.000000</td>\n",
       "    </tr>\n",
       "    <tr>\n",
       "      <th>mean</th>\n",
       "      <td>4.306132</td>\n",
       "    </tr>\n",
       "    <tr>\n",
       "      <th>std</th>\n",
       "      <td>0.448917</td>\n",
       "    </tr>\n",
       "    <tr>\n",
       "      <th>min</th>\n",
       "      <td>1.600000</td>\n",
       "    </tr>\n",
       "    <tr>\n",
       "      <th>25%</th>\n",
       "      <td>4.100000</td>\n",
       "    </tr>\n",
       "    <tr>\n",
       "      <th>50%</th>\n",
       "      <td>4.300000</td>\n",
       "    </tr>\n",
       "    <tr>\n",
       "      <th>75%</th>\n",
       "      <td>4.500000</td>\n",
       "    </tr>\n",
       "    <tr>\n",
       "      <th>max</th>\n",
       "      <td>5.000000</td>\n",
       "    </tr>\n",
       "  </tbody>\n",
       "</table>\n",
       "</div>"
      ],
      "text/plain": [
       "             rait\n",
       "count  212.000000\n",
       "mean     4.306132\n",
       "std      0.448917\n",
       "min      1.600000\n",
       "25%      4.100000\n",
       "50%      4.300000\n",
       "75%      4.500000\n",
       "max      5.000000"
      ]
     },
     "execution_count": 5,
     "metadata": {},
     "output_type": "execute_result"
    }
   ],
   "source": [
    "df.describe()"
   ]
  },
  {
   "cell_type": "code",
   "execution_count": 6,
   "metadata": {},
   "outputs": [
    {
     "data": {
      "text/html": [
       "<div>\n",
       "<style scoped>\n",
       "    .dataframe tbody tr th:only-of-type {\n",
       "        vertical-align: middle;\n",
       "    }\n",
       "\n",
       "    .dataframe tbody tr th {\n",
       "        vertical-align: top;\n",
       "    }\n",
       "\n",
       "    .dataframe thead th {\n",
       "        text-align: right;\n",
       "    }\n",
       "</style>\n",
       "<table border=\"1\" class=\"dataframe\">\n",
       "  <thead>\n",
       "    <tr style=\"text-align: right;\">\n",
       "      <th></th>\n",
       "      <th>adress</th>\n",
       "      <th>rait_count</th>\n",
       "      <th>link</th>\n",
       "      <th>closing_time</th>\n",
       "      <th>category</th>\n",
       "    </tr>\n",
       "  </thead>\n",
       "  <tbody>\n",
       "    <tr>\n",
       "      <th>count</th>\n",
       "      <td>213</td>\n",
       "      <td>212</td>\n",
       "      <td>212</td>\n",
       "      <td>215</td>\n",
       "      <td>213</td>\n",
       "    </tr>\n",
       "    <tr>\n",
       "      <th>unique</th>\n",
       "      <td>194</td>\n",
       "      <td>185</td>\n",
       "      <td>210</td>\n",
       "      <td>28</td>\n",
       "      <td>19</td>\n",
       "    </tr>\n",
       "    <tr>\n",
       "      <th>top</th>\n",
       "      <td>ул. Победы, 71, Белгород</td>\n",
       "      <td>153 оценки</td>\n",
       "      <td>https://yandex.ru/maps/org/farfor/73233893783</td>\n",
       "      <td>Открыто до 23:00</td>\n",
       "      <td>Быстрое питание</td>\n",
       "    </tr>\n",
       "    <tr>\n",
       "      <th>freq</th>\n",
       "      <td>3</td>\n",
       "      <td>4</td>\n",
       "      <td>2</td>\n",
       "      <td>43</td>\n",
       "      <td>56</td>\n",
       "    </tr>\n",
       "  </tbody>\n",
       "</table>\n",
       "</div>"
      ],
      "text/plain": [
       "                          adress  rait_count  \\\n",
       "count                        213         212   \n",
       "unique                       194         185   \n",
       "top     ул. Победы, 71, Белгород  153 оценки   \n",
       "freq                           3           4   \n",
       "\n",
       "                                                 link      closing_time  \\\n",
       "count                                             212               215   \n",
       "unique                                            210                28   \n",
       "top     https://yandex.ru/maps/org/farfor/73233893783  Открыто до 23:00   \n",
       "freq                                                2                43   \n",
       "\n",
       "               category  \n",
       "count               213  \n",
       "unique               19  \n",
       "top     Быстрое питание  \n",
       "freq                 56  "
      ]
     },
     "execution_count": 6,
     "metadata": {},
     "output_type": "execute_result"
    }
   ],
   "source": [
    "df.describe(include='object')"
   ]
  },
  {
   "cell_type": "code",
   "execution_count": null,
   "metadata": {},
   "outputs": [
    {
     "data": {
      "text/plain": [
       "rait\n",
       "4.3    30\n",
       "4.4    30\n",
       "4.1    23\n",
       "4.2    23\n",
       "4.5    19\n",
       "4.0    17\n",
       "5.0    13\n",
       "4.9    10\n",
       "4.7     9\n",
       "3.9     9\n",
       "4.8     8\n",
       "4.6     7\n",
       "3.8     5\n",
       "3.7     2\n",
       "3.6     2\n",
       "3.4     1\n",
       "1.6     1\n",
       "2.0     1\n",
       "2.2     1\n",
       "2.7     1\n",
       "Name: count, dtype: int64"
      ]
     },
     "execution_count": 7,
     "metadata": {},
     "output_type": "execute_result"
    }
   ],
   "source": [
    "df.rait.value_counts()"
   ]
  },
  {
   "cell_type": "code",
   "execution_count": 21,
   "metadata": {},
   "outputs": [
    {
     "data": {
      "image/png": "[encoded data removed]",
      "text/plain": [
       "<Figure size 640x480 with 1 Axes>"
      ]
     },
     "metadata": {},
     "output_type": "display_data"
    }
   ],
   "source": [
    "df.rait.value_counts().hist();"
   ]
  },
  {
   "cell_type": "code",
   "execution_count": 18,
   "metadata": {},
   "outputs": [
    {
     "data": {
      "text/plain": [
       "closing_time\n",
       "Открыто до 23:00           43\n",
       "Открыто до 22:00           42\n",
       "Открыто до 00:00           25\n",
       "Круглосуточно              21\n",
       "Открыто до 20:00           18\n",
       "Открыто до 21:00           13\n",
       "Открыто до 22:30            7\n",
       "График работы не указан     6\n",
       "Закрыто до завтра           6\n",
       "Открыто до 21:30            4\n",
       "Открыто до 17:00            4\n",
       "Открыто до 22:45            3\n",
       "Открыто до 01:00            3\n",
       "Открыто до 18:00            2\n",
       "До закрытия 30 мин          2\n",
       "Открыто до 02:00            2\n",
       "Организация переехала       2\n",
       "Закрыто до 20:00            2\n",
       "Открыто до 01:45            1\n",
       "Открыто до 21:45            1\n",
       "Открыто до 23:30            1\n",
       "Открыто до 00:02            1\n",
       "Открыто до 21:41            1\n",
       "До открытия 30 мин          1\n",
       "Открыто до 21:40            1\n",
       "Открыто до четверга         1\n",
       "Временно не работает        1\n",
       "Открыто до 19:00            1\n",
       "Name: count, dtype: int64"
      ]
     },
     "execution_count": 18,
     "metadata": {},
     "output_type": "execute_result"
    }
   ],
   "source": [
    "df.closing_time.value_counts()"
   ]
  },
  {
   "cell_type": "code",
   "execution_count": 22,
   "metadata": {},
   "outputs": [
    {
     "data": {
      "text/plain": [
       "category\n",
       "Быстрое питание                         56\n",
       "Кафе                                    30\n",
       "Доставка еды и обедов                   28\n",
       "Ресторан                                28\n",
       "Пиццерия                                18\n",
       "Суши-бар                                14\n",
       "Бар, паб                                 8\n",
       "Кофейня                                  8\n",
       "Столовая                                 4\n",
       "Магазин кулинарии                        3\n",
       "Караоке-клуб                             2\n",
       "Кондитерская                             2\n",
       "Диетические и диабетические продукты     2\n",
       "Магазин суши и роллов                    2\n",
       "Магазин пива                             2\n",
       "Магазин продуктов                        2\n",
       "Пекарня                                  2\n",
       "Кейтеринг                                1\n",
       "Комбинат питания                         1\n",
       "Name: count, dtype: int64"
      ]
     },
     "execution_count": 22,
     "metadata": {},
     "output_type": "execute_result"
    }
   ],
   "source": [
    "df.category.value_counts()"
   ]
  },
  {
   "cell_type": "code",
   "execution_count": 26,
   "metadata": {},
   "outputs": [
    {
     "data": {
      "text/plain": [
       "np.int64(3)"
      ]
     },
     "execution_count": 26,
     "metadata": {},
     "output_type": "execute_result"
    }
   ],
   "source": [
    "df.rait.isnull().sum()"
   ]
  },
  {
   "cell_type": "code",
   "execution_count": 27,
   "metadata": {},
   "outputs": [
    {
     "data": {
      "text/html": [
       "<div>\n",
       "<style scoped>\n",
       "    .dataframe tbody tr th:only-of-type {\n",
       "        vertical-align: middle;\n",
       "    }\n",
       "\n",
       "    .dataframe tbody tr th {\n",
       "        vertical-align: top;\n",
       "    }\n",
       "\n",
       "    .dataframe thead th {\n",
       "        text-align: right;\n",
       "    }\n",
       "</style>\n",
       "<table border=\"1\" class=\"dataframe\">\n",
       "  <thead>\n",
       "    <tr style=\"text-align: right;\">\n",
       "      <th></th>\n",
       "      <th>adress</th>\n",
       "      <th>rait</th>\n",
       "      <th>rait_count</th>\n",
       "      <th>link</th>\n",
       "      <th>closing_time</th>\n",
       "      <th>category</th>\n",
       "    </tr>\n",
       "    <tr>\n",
       "      <th>name</th>\n",
       "      <th></th>\n",
       "      <th></th>\n",
       "      <th></th>\n",
       "      <th></th>\n",
       "      <th></th>\n",
       "      <th></th>\n",
       "    </tr>\n",
       "  </thead>\n",
       "  <tbody>\n",
       "    <tr>\n",
       "      <th>Обеды в офис г. Белгород</th>\n",
       "      <td>ул. 60 лет Октября, 2В, 10-й микрорайон, Белгород</td>\n",
       "      <td>NaN</td>\n",
       "      <td>NaN</td>\n",
       "      <td>NaN</td>\n",
       "      <td>Организация переехала</td>\n",
       "      <td>Доставка еды и обедов</td>\n",
       "    </tr>\n",
       "    <tr>\n",
       "      <th>Кебаб</th>\n",
       "      <td>Привольная ул., 1А, Белгород</td>\n",
       "      <td>NaN</td>\n",
       "      <td>NaN</td>\n",
       "      <td>NaN</td>\n",
       "      <td>Круглосуточно</td>\n",
       "      <td>Быстрое питание</td>\n",
       "    </tr>\n",
       "    <tr>\n",
       "      <th>Принц Пирогов</th>\n",
       "      <td>Гражданский просп., 18, Белгород</td>\n",
       "      <td>NaN</td>\n",
       "      <td>NaN</td>\n",
       "      <td>NaN</td>\n",
       "      <td>Организация переехала</td>\n",
       "      <td>Пекарня</td>\n",
       "    </tr>\n",
       "  </tbody>\n",
       "</table>\n",
       "</div>"
      ],
      "text/plain": [
       "                                                                     adress  \\\n",
       "name                                                                          \n",
       "Обеды в офис г. Белгород  ул. 60 лет Октября, 2В, 10-й микрорайон, Белгород   \n",
       "Кебаб                                          Привольная ул., 1А, Белгород   \n",
       "Принц Пирогов                              Гражданский просп., 18, Белгород   \n",
       "\n",
       "                          rait rait_count link           closing_time  \\\n",
       "name                                                                    \n",
       "Обеды в офис г. Белгород   NaN        NaN  NaN  Организация переехала   \n",
       "Кебаб                      NaN        NaN  NaN          Круглосуточно   \n",
       "Принц Пирогов              NaN        NaN  NaN  Организация переехала   \n",
       "\n",
       "                                       category  \n",
       "name                                             \n",
       "Обеды в офис г. Белгород  Доставка еды и обедов  \n",
       "Кебаб                           Быстрое питание  \n",
       "Принц Пирогов                           Пекарня  "
      ]
     },
     "execution_count": 27,
     "metadata": {},
     "output_type": "execute_result"
    }
   ],
   "source": [
    "df[df['rait'].isnull()]"
   ]
  },
  {
   "cell_type": "markdown",
   "metadata": {},
   "source": [
    "## Думая можно выбросить из датасета данных сомнительные заведения"
   ]
  },
  {
   "cell_type": "code",
   "execution_count": 30,
   "metadata": {},
   "outputs": [
    {
     "data": {
      "text/plain": [
       "np.int64(0)"
      ]
     },
     "execution_count": 30,
     "metadata": {},
     "output_type": "execute_result"
    }
   ],
   "source": [
    "df = df[~df['rait'].isnull()]\n",
    "df['rait'] = df['rait'].astype(float)\n",
    "df.rait.isnull().sum()"
   ]
  },
  {
   "cell_type": "code",
   "execution_count": 31,
   "metadata": {},
   "outputs": [
    {
     "data": {
      "image/png": "[encoded data removed]",
      "text/plain": [
       "<Figure size 640x480 with 1 Axes>"
      ]
     },
     "metadata": {},
     "output_type": "display_data"
    }
   ],
   "source": [
    "df = df[~df['rait'].isnull()]\n",
    "df['rait'] = df['rait'].astype(float)\n",
    "df.rait.hist();"
   ]
  }
 ],
 "metadata": {
  "kernelspec": {
   "display_name": ".venv",
   "language": "python",
   "name": "python3"
  },
  "language_info": {
   "codemirror_mode": {
    "name": "ipython",
    "version": 3
   },
   "file_extension": ".py",
   "mimetype": "text/x-python",
   "name": "python",
   "nbconvert_exporter": "python",
   "pygments_lexer": "ipython3",
   "version": "3.12.3"
  }
 },
 "nbformat": 4,
 "nbformat_minor": 2
}
