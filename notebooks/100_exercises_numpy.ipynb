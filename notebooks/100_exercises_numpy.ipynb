{
 "cells": [
  {
   "cell_type": "markdown",
   "id": "8abbf79b-3b20-4d8e-a1e7-be183d8532a1",
   "metadata": {},
   "source": [
    "<h1>100 numpy exercises </h1>"
   ]
  },
  {
   "cell_type": "markdown",
   "id": "3820c76c-0528-4a3f-9da9-f4600eb7bc76",
   "metadata": {},
   "source": [
    "<h2>1. Import the numpy package under the name np</h2>"
   ]
  },
  {
   "cell_type": "code",
   "execution_count": 1,
   "id": "613b85a5-2616-4d52-8db8-6cae442ab0cb",
   "metadata": {},
   "outputs": [],
   "source": [
    "import numpy as np"
   ]
  },
  {
   "cell_type": "markdown",
   "id": "98b3e4c6-03e8-4ba8-8b3d-0c89043c59c0",
   "metadata": {},
   "source": [
    "<h2>2. Print the numpy version and the configuration</h2>"
   ]
  },
  {
   "cell_type": "code",
   "execution_count": 2,
   "id": "195101e2-2729-41c4-983f-2fb31ce35631",
   "metadata": {},
   "outputs": [
    {
     "name": "stdout",
     "output_type": "stream",
     "text": [
      "2.0.0\n",
      "Build Dependencies:\n",
      "  blas:\n",
      "    detection method: pkgconfig\n",
      "    found: true\n",
      "    include directory: /opt/_internal/cpython-3.12.2/lib/python3.12/site-packages/scipy_openblas64/include\n",
      "    lib directory: /opt/_internal/cpython-3.12.2/lib/python3.12/site-packages/scipy_openblas64/lib\n",
      "    name: scipy-openblas\n",
      "    openblas configuration: OpenBLAS 0.3.27  USE64BITINT DYNAMIC_ARCH NO_AFFINITY\n",
      "      Zen MAX_THREADS=64\n",
      "    pc file directory: /project/.openblas\n",
      "    version: 0.3.27\n",
      "  lapack:\n",
      "    detection method: pkgconfig\n",
      "    found: true\n",
      "    include directory: /opt/_internal/cpython-3.12.2/lib/python3.12/site-packages/scipy_openblas64/include\n",
      "    lib directory: /opt/_internal/cpython-3.12.2/lib/python3.12/site-packages/scipy_openblas64/lib\n",
      "    name: scipy-openblas\n",
      "    openblas configuration: OpenBLAS 0.3.27  USE64BITINT DYNAMIC_ARCH NO_AFFINITY\n",
      "      Zen MAX_THREADS=64\n",
      "    pc file directory: /project/.openblas\n",
      "    version: 0.3.27\n",
      "Compilers:\n",
      "  c:\n",
      "    commands: cc\n",
      "    linker: ld.bfd\n",
      "    name: gcc\n",
      "    version: 10.2.1\n",
      "  c++:\n",
      "    commands: c++\n",
      "    linker: ld.bfd\n",
      "    name: gcc\n",
      "    version: 10.2.1\n",
      "  cython:\n",
      "    commands: cython\n",
      "    linker: cython\n",
      "    name: cython\n",
      "    version: 3.0.10\n",
      "Machine Information:\n",
      "  build:\n",
      "    cpu: x86_64\n",
      "    endian: little\n",
      "    family: x86_64\n",
      "    system: linux\n",
      "  host:\n",
      "    cpu: x86_64\n",
      "    endian: little\n",
      "    family: x86_64\n",
      "    system: linux\n",
      "Python Information:\n",
      "  path: /tmp/build-env-zb_wmzi7/bin/python\n",
      "  version: '3.12'\n",
      "SIMD Extensions:\n",
      "  baseline:\n",
      "  - SSE\n",
      "  - SSE2\n",
      "  - SSE3\n",
      "  found:\n",
      "  - SSSE3\n",
      "  - SSE41\n",
      "  - POPCNT\n",
      "  - SSE42\n",
      "  - AVX\n",
      "  - F16C\n",
      "  - FMA3\n",
      "  - AVX2\n",
      "  not found:\n",
      "  - AVX512F\n",
      "  - AVX512CD\n",
      "  - AVX512_KNL\n",
      "  - AVX512_KNM\n",
      "  - AVX512_SKX\n",
      "  - AVX512_CLX\n",
      "  - AVX512_CNL\n",
      "  - AVX512_ICL\n",
      "\n"
     ]
    }
   ],
   "source": [
    "print(np.__version__)\n",
    "np.show_config()"
   ]
  },
  {
   "cell_type": "markdown",
   "id": "7e2b6956-55b9-4b17-a845-695343b7c47c",
   "metadata": {},
   "source": [
    "<h2>3. Create a null vector of size 10</h2>"
   ]
  },
  {
   "cell_type": "code",
   "execution_count": 3,
   "id": "a627ab57-8f09-4462-bb59-c2c90c8719fd",
   "metadata": {},
   "outputs": [
    {
     "data": {
      "text/plain": [
       "array([0., 0., 0., 0., 0., 0., 0., 0., 0., 0.])"
      ]
     },
     "execution_count": 3,
     "metadata": {},
     "output_type": "execute_result"
    }
   ],
   "source": [
    "null_vector = np.zeros(10)\n",
    "null_vector"
   ]
  },
  {
   "cell_type": "markdown",
   "id": "1f2791fd-7794-4f44-ba18-ec2acaae4b52",
   "metadata": {},
   "source": [
    "<h2>4. How to find the memory size of any arra</h2> "
   ]
  },
  {
   "cell_type": "code",
   "execution_count": 4,
   "id": "98299091-07f1-4b1b-902a-5d680448845c",
   "metadata": {},
   "outputs": [
    {
     "data": {
      "text/plain": [
       "80"
      ]
     },
     "execution_count": 4,
     "metadata": {},
     "output_type": "execute_result"
    }
   ],
   "source": [
    "size = null_vector.size * null_vector.itemsize\n",
    "size"
   ]
  },
  {
   "cell_type": "markdown",
   "id": "02bb4558-4cec-48a1-9254-cda34c466544",
   "metadata": {},
   "source": [
    "<h2>5. How to get the documentation of the numpy add function from the command line?</h2>"
   ]
  },
  {
   "cell_type": "code",
   "execution_count": 5,
   "id": "9e7be350-f663-4911-a1a7-c4d6fefbbecf",
   "metadata": {},
   "outputs": [
    {
     "name": "stdout",
     "output_type": "stream",
     "text": [
      "Return the number of dimensions of an array.\n",
      "\n",
      "Parameters\n",
      "----------\n",
      "a : array_like\n",
      "    Input array.  If it is not already an ndarray, a conversion is\n",
      "    attempted.\n",
      "\n",
      "Returns\n",
      "-------\n",
      "number_of_dimensions : int\n",
      "    The number of dimensions in `a`.  Scalars are zero-dimensional.\n",
      "\n",
      "See Also\n",
      "--------\n",
      "ndarray.ndim : equivalent method\n",
      "shape : dimensions of array\n",
      "ndarray.shape : dimensions of array\n",
      "\n",
      "Examples\n",
      "--------\n",
      ">>> np.ndim([[1,2,3],[4,5,6]])\n",
      "2\n",
      ">>> np.ndim(np.array([[1,2,3],[4,5,6]]))\n",
      "2\n",
      ">>> np.ndim(1)\n",
      "0\n",
      "None\n"
     ]
    }
   ],
   "source": [
    "print(np.info(np.ndim))"
   ]
  },
  {
   "cell_type": "markdown",
   "id": "e84d43a0-56a5-4394-abc1-bc5f666adbde",
   "metadata": {},
   "source": [
    "<h2>6. Create a null vector of size 10 but the fifth value which is 1</h2> "
   ]
  },
  {
   "cell_type": "code",
   "execution_count": 6,
   "id": "8aa6cdcc-2222-4281-8671-5092e6564056",
   "metadata": {},
   "outputs": [
    {
     "data": {
      "text/plain": [
       "array([0., 0., 0., 0., 1., 0., 0., 0., 0., 0.])"
      ]
     },
     "execution_count": 6,
     "metadata": {},
     "output_type": "execute_result"
    }
   ],
   "source": [
    "v = np.zeros(10)\n",
    "v[4] = 1\n",
    "v"
   ]
  },
  {
   "cell_type": "markdown",
   "id": "4d22c24f-da4d-4d76-9405-8d8166905437",
   "metadata": {},
   "source": [
    "<h2>7. Create a vector with values ranging from 10 to 49</h2>"
   ]
  },
  {
   "cell_type": "code",
   "execution_count": 7,
   "id": "4174bd1f-b40f-433d-af6a-7051ad1ee862",
   "metadata": {},
   "outputs": [
    {
     "data": {
      "text/plain": [
       "array([10, 11, 12, 13, 14, 15, 16, 17, 18, 19, 20, 21, 22, 23, 24, 25, 26, 27, 28, 29, 30, 31, 32, 33, 34, 35, 36, 37, 38, 39,\n",
       "       40, 41, 42, 43, 44, 45, 46, 47, 48, 49])"
      ]
     },
     "execution_count": 7,
     "metadata": {},
     "output_type": "execute_result"
    }
   ],
   "source": [
    "np.set_printoptions(linewidth=130)  # Установка параметров печати.\n",
    "#Параметры этого метода позволяют определить способы отображения чисел с плавающей запятой,\n",
    "#массивов и других объектов NumPy.\n",
    "#linewidth - кол-во знаков печати в ширину.\n",
    "v = np.arange(10, 50)\n",
    "v"
   ]
  },
  {
   "cell_type": "markdown",
   "id": "ef659356-296a-44bc-9e57-365eadd4beb9",
   "metadata": {},
   "source": [
    "<h2>8. Reverse a vector (first element becomes last)</h2>"
   ]
  },
  {
   "cell_type": "code",
   "execution_count": 8,
   "id": "40b7b31b-decc-44d9-962f-f6b9f2307d4f",
   "metadata": {},
   "outputs": [
    {
     "data": {
      "text/plain": [
       "array([49, 48, 47, 46, 45, 44, 43, 42, 41, 40, 39, 38, 37, 36, 35, 34, 33, 32, 31, 30, 29, 28, 27, 26, 25, 24, 23, 22, 21, 20,\n",
       "       19, 18, 17, 16, 15, 14, 13, 12, 11, 10])"
      ]
     },
     "execution_count": 8,
     "metadata": {},
     "output_type": "execute_result"
    }
   ],
   "source": [
    "v = v[::-1]\n",
    "v"
   ]
  },
  {
   "cell_type": "markdown",
   "id": "ace6db44-f4eb-45b0-b918-4e887d9e854d",
   "metadata": {},
   "source": [
    "<h2>9. Create a 3x3 matrix with values ranging from 0 to 8 </h2>"
   ]
  },
  {
   "cell_type": "code",
   "execution_count": 9,
   "id": "a6bcdb33-7c7a-4605-9deb-0326ff2ca777",
   "metadata": {},
   "outputs": [
    {
     "data": {
      "text/plain": [
       "array([[0, 1, 2],\n",
       "       [3, 4, 5],\n",
       "       [6, 7, 8]])"
      ]
     },
     "execution_count": 9,
     "metadata": {},
     "output_type": "execute_result"
    }
   ],
   "source": [
    "v = np.arange(9).reshape(3, 3)\n",
    "v"
   ]
  },
  {
   "cell_type": "markdown",
   "id": "d02ae140-8e1a-4244-a1c5-ef6baad2808b",
   "metadata": {},
   "source": [
    "<h2>10. Find indices of non-zero elements from array [1,2,0,0,4,0]</h2>"
   ]
  },
  {
   "cell_type": "code",
   "execution_count": 10,
   "id": "e146d472-cdd2-4ed5-8a2c-0dbd3b5c6d6a",
   "metadata": {},
   "outputs": [
    {
     "data": {
      "text/plain": [
       "(array([0, 1, 4]),)"
      ]
     },
     "execution_count": 10,
     "metadata": {},
     "output_type": "execute_result"
    }
   ],
   "source": [
    "v = np.array([1,2,0,0,4,0])\n",
    "v_n = np.nonzero(v)\n",
    "v_n"
   ]
  },
  {
   "cell_type": "markdown",
   "id": "0fe6e9a2-0ebb-46fb-9fb6-bf590de897e2",
   "metadata": {},
   "source": [
    "<h2>11. Create a 3x3 identity matrix</h2>"
   ]
  },
  {
   "cell_type": "code",
   "execution_count": 11,
   "id": "28dfe509-cacc-4457-9d2a-94a367a4a721",
   "metadata": {},
   "outputs": [
    {
     "data": {
      "text/plain": [
       "array([[1., 0., 0.],\n",
       "       [0., 1., 0.],\n",
       "       [0., 0., 1.]])"
      ]
     },
     "execution_count": 11,
     "metadata": {},
     "output_type": "execute_result"
    }
   ],
   "source": [
    "m = np.eye(3)\n",
    "m"
   ]
  },
  {
   "cell_type": "markdown",
   "id": "84b2abd7-b227-459f-9491-ec12239ee90c",
   "metadata": {},
   "source": [
    "<h2>12. Create a 3x3x3 array with random values</h2>"
   ]
  },
  {
   "cell_type": "code",
   "execution_count": 12,
   "id": "2a0bb233-bf52-44e6-88cc-d92f4030f1d1",
   "metadata": {},
   "outputs": [
    {
     "data": {
      "text/plain": [
       "array([[[1, 0, 2],\n",
       "        [0, 1, 1],\n",
       "        [2, 0, 2]],\n",
       "\n",
       "       [[2, 2, 2],\n",
       "        [0, 2, 0],\n",
       "        [0, 0, 1]],\n",
       "\n",
       "       [[1, 2, 2],\n",
       "        [1, 0, 0],\n",
       "        [2, 2, 1]]])"
      ]
     },
     "execution_count": 12,
     "metadata": {},
     "output_type": "execute_result"
    }
   ],
   "source": [
    "v = np.random.randint(low=0 , high= 3,size=(3,3,3))\n",
    "v"
   ]
  },
  {
   "cell_type": "markdown",
   "id": "27963717-9395-4d92-8408-9d33aa46de95",
   "metadata": {},
   "source": [
    "<h2>13. Create a 10x10 array with random values and find the minimum and maximum values</h2>"
   ]
  },
  {
   "cell_type": "code",
   "execution_count": 13,
   "id": "fc84756b-d97e-4e77-8760-942e1c7f5ef2",
   "metadata": {},
   "outputs": [
    {
     "data": {
      "text/plain": [
       "(np.int64(99), np.int64(0))"
      ]
     },
     "execution_count": 13,
     "metadata": {},
     "output_type": "execute_result"
    }
   ],
   "source": [
    "v = np.random.randint(low=0 , high= 100,size=(10, 10))\n",
    "(np.max(v), np.min(v))"
   ]
  },
  {
   "cell_type": "markdown",
   "id": "656dca31-f8e2-4418-a777-9796a5c190a9",
   "metadata": {},
   "source": [
    "<h2>14. Create a random vector of size 30 and find the mean value</h2>"
   ]
  },
  {
   "cell_type": "code",
   "execution_count": 14,
   "id": "e9e7374b-4310-43f6-b0ec-7fde3879d759",
   "metadata": {},
   "outputs": [
    {
     "data": {
      "text/plain": [
       "np.float64(0.5125367131637497)"
      ]
     },
     "execution_count": 14,
     "metadata": {},
     "output_type": "execute_result"
    }
   ],
   "source": [
    "np.set_printoptions(suppress=True, precision=5, linewidth=50)\n",
    "v = np.random.random(size=(100))\n",
    "np.mean(v)"
   ]
  },
  {
   "cell_type": "markdown",
   "id": "89d1d36f-f958-4b41-9c6c-fffaabb6b1a8",
   "metadata": {},
   "source": [
    "<h2>15. Create a 2d array with 1 on the border and 0 inside</h2>"
   ]
  },
  {
   "cell_type": "code",
   "execution_count": 15,
   "id": "e86e7818-1800-4c15-bdd8-dfe18ede74fa",
   "metadata": {},
   "outputs": [
    {
     "data": {
      "text/plain": [
       "array([[1., 1., 1., 1., 1.],\n",
       "       [1., 0., 0., 0., 1.],\n",
       "       [1., 0., 0., 0., 1.],\n",
       "       [1., 0., 0., 0., 1.],\n",
       "       [1., 1., 1., 1., 1.]])"
      ]
     },
     "execution_count": 15,
     "metadata": {},
     "output_type": "execute_result"
    }
   ],
   "source": [
    "m = np.ones((5, 5))\n",
    "m[1:-1,1:-1] = 0\n",
    "m"
   ]
  },
  {
   "cell_type": "markdown",
   "id": "d22a8707-02d7-40d5-8034-27e4956c970e",
   "metadata": {},
   "source": [
    "<h2>16. How to add a border (filled with 0's) around an existing array?</h2>"
   ]
  },
  {
   "cell_type": "code",
   "execution_count": 16,
   "id": "00a6a853-2df3-45a2-8f2a-dc11e3c38bc4",
   "metadata": {},
   "outputs": [
    {
     "data": {
      "text/plain": [
       "array([[0., 0., 0., 0., 0., 0., 0.],\n",
       "       [0., 1., 1., 1., 1., 1., 0.],\n",
       "       [0., 1., 1., 1., 1., 1., 0.],\n",
       "       [0., 1., 1., 1., 1., 1., 0.],\n",
       "       [0., 1., 1., 1., 1., 1., 0.],\n",
       "       [0., 1., 1., 1., 1., 1., 0.],\n",
       "       [0., 0., 0., 0., 0., 0., 0.]])"
      ]
     },
     "execution_count": 16,
     "metadata": {},
     "output_type": "execute_result"
    }
   ],
   "source": [
    "v = np.ones((5,5))\n",
    "v = np.pad(v, pad_width=1, mode='constant', constant_values=0)\n",
    "v"
   ]
  },
  {
   "cell_type": "code",
   "execution_count": 17,
   "id": "0ae47999-2703-4603-91fb-f6584729d796",
   "metadata": {},
   "outputs": [
    {
     "data": {
      "text/plain": [
       "array([[0., 0., 0., 0., 0.],\n",
       "       [0., 1., 1., 1., 0.],\n",
       "       [0., 1., 1., 1., 0.],\n",
       "       [0., 1., 1., 1., 0.],\n",
       "       [0., 0., 0., 0., 0.]])"
      ]
     },
     "execution_count": 17,
     "metadata": {},
     "output_type": "execute_result"
    }
   ],
   "source": [
    "# если нужно отрезать (обнулить) от существующего массива\n",
    "v = np.ones((5,5))\n",
    "v[:, [0, -1]] = 0\n",
    "v[[0, -1], :] = 0\n",
    "v"
   ]
  },
  {
   "cell_type": "markdown",
   "id": "9b7cdbf5-a146-4d63-9c78-85e9cf789356",
   "metadata": {},
   "source": [
    "<h2>17. What is the result of the following expression?</h2>\n",
    "\n",
    "Каков результат следующих выражений ?\n",
    "\n",
    "<div>0 * np.nan</div>\n",
    "<div>np.nan == np.nan</div>\n",
    "<div>np.inf > np.nan</div>\n",
    "<div>np.nan - np.nan</div>\n",
    "<div>np.nan in set([np.nan])</div>\n",
    "<div>0.3 == 3 * 0.1</div>"
   ]
  },
  {
   "cell_type": "code",
   "execution_count": 18,
   "id": "03074cec-7cda-483b-8997-023deb8b0c9d",
   "metadata": {},
   "outputs": [
    {
     "name": "stdout",
     "output_type": "stream",
     "text": [
      "nan\n",
      "False\n",
      "False\n",
      "nan\n",
      "True\n",
      "False\n"
     ]
    }
   ],
   "source": [
    "print(0 * np.nan)\n",
    "print(np.nan == np.nan)\n",
    "print(np.inf > np.nan)\n",
    "print(np.nan - np.nan)\n",
    "print(np.nan in set([np.nan]))\n",
    "print(0.3 == 3 * 0.1)"
   ]
  },
  {
   "cell_type": "markdown",
   "id": "268423e5-f383-4d11-a1ac-48af76e85498",
   "metadata": {},
   "source": [
    "<h2>18. Create a 5x5 matrix with values 1,2,3,4 just below the diagonal</h2>"
   ]
  },
  {
   "cell_type": "code",
   "execution_count": 19,
   "id": "069fb778-ad8a-4496-8d7f-38b610029f60",
   "metadata": {},
   "outputs": [
    {
     "data": {
      "text/plain": [
       "array([[0, 0, 0, 0, 0],\n",
       "       [1, 0, 0, 0, 0],\n",
       "       [0, 2, 0, 0, 0],\n",
       "       [0, 0, 3, 0, 0],\n",
       "       [0, 0, 0, 4, 0]])"
      ]
     },
     "execution_count": 19,
     "metadata": {},
     "output_type": "execute_result"
    }
   ],
   "source": [
    "np.diag([1, 2, 3, 4], k=-1)"
   ]
  },
  {
   "cell_type": "markdown",
   "id": "fdd5359f-a534-49da-a5da-8c996d9f6e85",
   "metadata": {},
   "source": [
    "<h2>19. Create a 8x8 matrix and fill it with a checkerboard pattern</h2>"
   ]
  },
  {
   "cell_type": "code",
   "execution_count": 20,
   "id": "e50243a9-7ad4-4695-b21e-ce3800f07d66",
   "metadata": {},
   "outputs": [
    {
     "data": {
      "text/plain": [
       "array([[0, 1, 0, 1, 0, 1, 0, 1],\n",
       "       [1, 0, 1, 0, 1, 0, 1, 0],\n",
       "       [0, 1, 0, 1, 0, 1, 0, 1],\n",
       "       [1, 0, 1, 0, 1, 0, 1, 0],\n",
       "       [0, 1, 0, 1, 0, 1, 0, 1],\n",
       "       [1, 0, 1, 0, 1, 0, 1, 0],\n",
       "       [0, 1, 0, 1, 0, 1, 0, 1],\n",
       "       [1, 0, 1, 0, 1, 0, 1, 0]], dtype=uint8)"
      ]
     },
     "execution_count": 20,
     "metadata": {},
     "output_type": "execute_result"
    }
   ],
   "source": [
    "m = np.zeros((8, 8), dtype='uint8')\n",
    "m[1::2,::2] = 1\n",
    "m[::2,1::2] = 1\n",
    "m"
   ]
  },
  {
   "cell_type": "markdown",
   "id": "6569f3ee-863f-44fe-8ab0-bdfe1f0ecb9f",
   "metadata": {},
   "source": [
    "<h2>20. Consider a (6,7,8) shape array, what is the index (x,y,z) of the 100th element?</h2>"
   ]
  },
  {
   "cell_type": "code",
   "execution_count": 21,
   "id": "407592a9-f156-4a22-9c4a-1c092d195ac3",
   "metadata": {},
   "outputs": [
    {
     "name": "stdout",
     "output_type": "stream",
     "text": [
      "(np.int64(1), np.int64(5), np.int64(3))\n"
     ]
    }
   ],
   "source": [
    "N = 100  # номер индекса (предполагаем, что счет элемментов начинается с 1 (единицы))\n",
    "print(np.unravel_index(indices=N-1,shape=(6,7,8)))"
   ]
  },
  {
   "cell_type": "markdown",
   "id": "944c7fdd-ed85-410c-9516-f9358f65f837",
   "metadata": {},
   "source": [
    "<h2>21. Create a checkerboard 8x8 matrix using the tile function</h2>"
   ]
  },
  {
   "cell_type": "code",
   "execution_count": 22,
   "id": "21d60732-55ae-4c91-9323-419d44af8fb0",
   "metadata": {},
   "outputs": [
    {
     "data": {
      "text/plain": [
       "array([[1, 0, 1, 0, 1, 0, 1, 0],\n",
       "       [0, 1, 0, 1, 0, 1, 0, 1],\n",
       "       [1, 0, 1, 0, 1, 0, 1, 0],\n",
       "       [0, 1, 0, 1, 0, 1, 0, 1],\n",
       "       [1, 0, 1, 0, 1, 0, 1, 0],\n",
       "       [0, 1, 0, 1, 0, 1, 0, 1],\n",
       "       [1, 0, 1, 0, 1, 0, 1, 0],\n",
       "       [0, 1, 0, 1, 0, 1, 0, 1]])"
      ]
     },
     "execution_count": 22,
     "metadata": {},
     "output_type": "execute_result"
    }
   ],
   "source": [
    "m = np.array([[1,0], [0,1]])\n",
    "np.tile(A=m, reps=(4,4))"
   ]
  },
  {
   "cell_type": "markdown",
   "id": "810d8d4c-5df2-4fa4-bff8-41c62621664b",
   "metadata": {},
   "source": [
    "<h2>22. Normalize a 5x5 random matrix </h2>"
   ]
  },
  {
   "cell_type": "code",
   "execution_count": 23,
   "id": "42bc3d02-71e0-49d2-be66-32c2d8c5fe9a",
   "metadata": {},
   "outputs": [
    {
     "name": "stdout",
     "output_type": "stream",
     "text": [
      "Исходная матрица: \n",
      " [[0.6938 0.1753 0.2448 0.1106 0.519 ]\n",
      " [0.7017 0.7779 0.8577 0.345  0.3405]\n",
      " [0.3993 0.6862 0.6758 0.2512 0.9287]\n",
      " [0.7018 0.8652 0.1126 0.6842 0.4076]\n",
      " [0.5627 0.7739 0.0879 0.4835 0.1384]]\n",
      "Проверим, что матрица НЕ нормализованна по L1-норме: \n",
      " [[1.7434]\n",
      " [3.0228]\n",
      " [2.9413]\n",
      " [2.7715]\n",
      " [2.0464]]\n",
      "Нормализованная по L1-норме матрица m: \n",
      " [[0.3979 0.1005 0.1404 0.0634 0.2977]\n",
      " [0.2321 0.2573 0.2837 0.1141 0.1126]\n",
      " [0.1358 0.2333 0.2298 0.0854 0.3157]\n",
      " [0.2532 0.3122 0.0406 0.2469 0.1471]\n",
      " [0.275  0.3782 0.043  0.2363 0.0676]]\n",
      "Проверим, что матрица m нормализованна по L1-норме: \n",
      " [[1.]\n",
      " [1.]\n",
      " [1.]\n",
      " [1.]\n",
      " [1.]]\n"
     ]
    }
   ],
   "source": [
    "np.set_printoptions(precision=4)\n",
    "m = np.random.random((5,5))\n",
    "print('Исходная матрица: \\n', m)\n",
    "print('Проверим, что матрица НЕ нормализованна по L1-норме: \\n', np.sum(m, axis=1)[:, np.newaxis])\n",
    "\n",
    "m_normilized = m / (np.sum(m, axis=1)[:, np.newaxis])\n",
    "print('Нормализованная по L1-норме матрица m: \\n', m_normilized)\n",
    "print('Проверим, что матрица m нормализованна по L1-норме: \\n', np.sum(m_normilized, axis=1)[:, np.newaxis])"
   ]
  },
  {
   "cell_type": "code",
   "execution_count": 24,
   "id": "9b341b10-9782-4306-be71-450e340b2f35",
   "metadata": {},
   "outputs": [
    {
     "name": "stdout",
     "output_type": "stream",
     "text": [
      "Нормализованная по L1-норме матрица m c помощью метода linalg.norm: \n",
      " [[0.3979 0.1005 0.1404 0.0634 0.2977]\n",
      " [0.2321 0.2573 0.2837 0.1141 0.1126]\n",
      " [0.1358 0.2333 0.2298 0.0854 0.3157]\n",
      " [0.2532 0.3122 0.0406 0.2469 0.1471]\n",
      " [0.275  0.3782 0.043  0.2363 0.0676]]\n",
      "Проверим, что полученные нормализованные матрицы одинаковы: \n",
      " [[0. 0. 0. 0. 0.]\n",
      " [0. 0. 0. 0. 0.]\n",
      " [0. 0. 0. 0. 0.]\n",
      " [0. 0. 0. 0. 0.]\n",
      " [0. 0. 0. 0. 0.]]\n"
     ]
    }
   ],
   "source": [
    "# еще один способ нормализации c помощью метода linalg.norm\n",
    "from numpy import linalg as LA\n",
    "m_normilized2 = m/LA.norm(m, axis=1, ord=1)[:, np.newaxis]\n",
    "print('Нормализованная по L1-норме матрица m c помощью метода linalg.norm: \\n', m_normilized2)\n",
    "print('Проверим, что полученные нормализованные матрицы одинаковы: \\n', m_normilized2-m_normilized)"
   ]
  },
  {
   "cell_type": "markdown",
   "id": "d2cf120b-16a3-4b80-bee1-2ea7a3341613",
   "metadata": {},
   "source": [
    "<h2>23. Create a custom dtype that describes a color as four unsigned bytes (RGBA)</h2>"
   ]
  },
  {
   "cell_type": "code",
   "execution_count": 25,
   "id": "6e527c9e-0499-4823-94ea-8ed9813281a9",
   "metadata": {},
   "outputs": [
    {
     "name": "stdout",
     "output_type": "stream",
     "text": [
      "type of array point <class 'numpy.ndarray'>\n"
     ]
    },
    {
     "data": {
      "text/plain": [
       "array([  0, 255], dtype=uint8)"
      ]
     },
     "execution_count": 25,
     "metadata": {},
     "output_type": "execute_result"
    }
   ],
   "source": [
    "# в python в matplotlib значений RGBA это значения на отрезке от 0 до 1. Но при верстке сайтов \n",
    "color = np.dtype([('red', np.uint8),\n",
    "                  ('green', np.uint8),\n",
    "                  ('blue', np.uint8),\n",
    "                  ('alpha', np.uint8)])\n",
    "# инициализируем массив point с посмотрим на массив и на его тип\n",
    "point = np.array([(0, 0, 0, 0), (255, 255, 255, 50)],dtype=color)\n",
    "print('type of array point', type(point))\n",
    "# выведем значения яркости трех цветов и прозрачности второй точки\n",
    "point[1]\n",
    "# на выходе получаем картеж\n",
    "# выведем значения яркости красного цвета двух точек\n",
    "point['red']\n",
    "# на выходе получаем массив"
   ]
  },
  {
   "cell_type": "markdown",
   "id": "7559bc51-7fc1-43f9-b877-e470fb375b94",
   "metadata": {},
   "source": [
    "<h2>24. Multiply a 5x3 matrix by a 3x2 matrix (real matrix product) </h2>"
   ]
  },
  {
   "cell_type": "code",
   "execution_count": 26,
   "id": "5b7839fb-6205-42c3-8d75-136b2cdc08a4",
   "metadata": {},
   "outputs": [
    {
     "data": {
      "text/plain": [
       "array([[472, 443],\n",
       "       [602, 622],\n",
       "       [662, 597],\n",
       "       [ 62,  60],\n",
       "       [346, 359]])"
      ]
     },
     "execution_count": 26,
     "metadata": {},
     "output_type": "execute_result"
    }
   ],
   "source": [
    "m1 = np.random.randint(low=0 , high= 20, size=(5, 3))\n",
    "m2 = np.random.randint(low=0 , high= 20, size=(3, 2))\n",
    "m3 = m1 @ m2 # m3 = np.dot(m1, m2)\n",
    "m3"
   ]
  },
  {
   "cell_type": "markdown",
   "id": "f09348d4-9a0b-4d5f-bbda-e406cff6e910",
   "metadata": {},
   "source": [
    "<h2>25. Given a 1D array, negate all elements which are between 3 and 8, in place. </h2>"
   ]
  },
  {
   "cell_type": "code",
   "execution_count": 27,
   "id": "bf29dcb9-629d-4afc-9195-1401f7ed200b",
   "metadata": {},
   "outputs": [
    {
     "data": {
      "text/plain": [
       "array([-6,  1,  1, 11,  0,  0, -6, 11, -3, 10,\n",
       "       -7, -5,  1,  9, 10, -3,  2,  9, -5, -3])"
      ]
     },
     "execution_count": 27,
     "metadata": {},
     "output_type": "execute_result"
    }
   ],
   "source": [
    "v = np.random.randint(low=0 , high= 12, size=(20))\n",
    "v[(v <= 8) & (v >= 3)] *= -1\n",
    "v"
   ]
  },
  {
   "cell_type": "markdown",
   "id": "c8ba8f8c-c5de-43ad-8805-a22f715a65f0",
   "metadata": {},
   "source": [
    "<h2>26. What is the output of the following script?</h2>"
   ]
  },
  {
   "cell_type": "code",
   "execution_count": 28,
   "id": "768d7073-7363-4dbd-b1fc-207da5f8d806",
   "metadata": {},
   "outputs": [
    {
     "name": "stdout",
     "output_type": "stream",
     "text": [
      "9\n",
      "10\n"
     ]
    }
   ],
   "source": [
    "print(sum(range(5),-1))\n",
    "from numpy import *\n",
    "print(sum(range(5),-1))"
   ]
  },
  {
   "cell_type": "markdown",
   "id": "60464b84-d6f6-4d62-86be-65ddd5bfa455",
   "metadata": {},
   "source": [
    "<h2>27. Consider an integer vector Z, which of these expressions are legal?</h2>"
   ]
  },
  {
   "cell_type": "code",
   "execution_count": 29,
   "id": "987848cd-009d-49c0-9b5c-79a07c5e747c",
   "metadata": {},
   "outputs": [
    {
     "name": "stdout",
     "output_type": "stream",
     "text": [
      "Исходный вектор:\n",
      " [0 1 2 3 4 5 6 7 8 9] \n",
      "\n",
      "v**v:\n",
      " [        1         1         4        27\n",
      "       256      3125     46656    823543\n",
      "  16777216 387420489] \n",
      "\n",
      "2 << v >> 2:\n",
      " [  0   1   2   4   8  16  32  64 128 256] \n",
      "\n",
      "v <- v\n",
      " [False False False False False False False False\n",
      " False False] \n",
      "\n",
      "1j*v\n",
      " [0.+0.j 0.+1.j 0.+2.j 0.+3.j 0.+4.j 0.+5.j 0.+6.j\n",
      " 0.+7.j 0.+8.j 0.+9.j] \n",
      "\n",
      "v/1/1 [0. 1. 2. 3. 4. 5. 6. 7. 8. 9.] \n",
      "\n"
     ]
    }
   ],
   "source": [
    "v=np.arange(10)\n",
    "print('Исходный вектор:\\n',v, '\\n')\n",
    "print('v**v:\\n', v**v, '\\n')\n",
    "print('2 << v >> 2:\\n', 2 << v >> 2, '\\n')\n",
    "print('v <- v\\n', v <- v, '\\n')\n",
    "print('1j*v\\n', 1j*v, '\\n')\n",
    "print('v/1/1', v/1/1, '\\n')"
   ]
  },
  {
   "cell_type": "code",
   "execution_count": 30,
   "id": "0ddaee3c-c8f0-4af1-bbfa-4d7401aa82a6",
   "metadata": {},
   "outputs": [
    {
     "name": "stdout",
     "output_type": "stream",
     "text": [
      "при попытке выполнения v<v>v получаем ошибку выполнения: <class 'ValueError'>\n"
     ]
    }
   ],
   "source": [
    "try:\n",
    "    print(v<v>v)\n",
    "except Exception as err:\n",
    "    print('при попытке выполнения v<v>v получаем ошибку выполнения:', err.__class__)"
   ]
  },
  {
   "cell_type": "markdown",
   "id": "b403feae-eccf-4007-854e-16acc1238056",
   "metadata": {},
   "source": [
    "<h2>28. What are the result of the following expressions?</h2>"
   ]
  },
  {
   "cell_type": "code",
   "execution_count": 31,
   "id": "36e4e434-7ae7-4d15-9c8a-68565f72f549",
   "metadata": {},
   "outputs": [
    {
     "name": "stdout",
     "output_type": "stream",
     "text": [
      "Результат выполнения np.array(0) / np.array(0):\n",
      " nan \n",
      "\n",
      "Результат выполнения np.array(0) // np.array(0):\n",
      " 0 \n",
      "\n",
      "Результат выполнения np.array([np.nan]).astype(int).astype(float):\n",
      " [-9.2234e+18] \n",
      "\n"
     ]
    },
    {
     "name": "stderr",
     "output_type": "stream",
     "text": [
      "/tmp/ipykernel_12215/2077636124.py:1: RuntimeWarning: invalid value encountered in divide\n",
      "  print('Результат выполнения np.array(0) / np.array(0):\\n', np.array(0) / np.array(0), '\\n')\n",
      "/tmp/ipykernel_12215/2077636124.py:2: RuntimeWarning: divide by zero encountered in floor_divide\n",
      "  print('Результат выполнения np.array(0) // np.array(0):\\n', np.array(0) // np.array(0), '\\n')\n",
      "/tmp/ipykernel_12215/2077636124.py:3: RuntimeWarning: invalid value encountered in cast\n",
      "  print('Результат выполнения np.array([np.nan]).astype(int).astype(float):\\n', np.array([np.nan]).astype(int).astype(float), '\\n')\n"
     ]
    }
   ],
   "source": [
    "print('Результат выполнения np.array(0) / np.array(0):\\n', np.array(0) / np.array(0), '\\n')\n",
    "print('Результат выполнения np.array(0) // np.array(0):\\n', np.array(0) // np.array(0), '\\n')\n",
    "print('Результат выполнения np.array([np.nan]).astype(int).astype(float):\\n', np.array([np.nan]).astype(int).astype(float), '\\n')"
   ]
  },
  {
   "cell_type": "markdown",
   "id": "ba33fa0a-0086-4bee-a0f0-2b7f0e271835",
   "metadata": {},
   "source": [
    "<h2>29. How to round away from zero a float array ?</h2>"
   ]
  },
  {
   "cell_type": "code",
   "execution_count": 34,
   "id": "af2e5362-0d8f-44b7-b686-d24412ea2373",
   "metadata": {},
   "outputs": [
    {
     "name": "stdout",
     "output_type": "stream",
     "text": [
      "\n",
      " [-1.75 -1.5  -1.25 -1.   -0.75 -0.5  -0.25  0.\n",
      "  0.25  0.5   0.75  1.    1.25  1.5   1.75]\n",
      "Округленный стандартным методом np.around вектор:\n",
      " [-2. -2. -1. -1. -1. -0. -0.  0.  0.  0.  1.  1.\n",
      "  1.  2.  2.]\n",
      "Округленный стандартным методом np.round вектор:\n",
      " [-2. -2. -1. -1. -1. -0. -0.  0.  0.  0.  1.  1.\n",
      "  1.  2.  2.]\n"
     ]
    }
   ],
   "source": [
    "# инициализируем симметричный относительно нуля вектор, по которому просто проверять округление\n",
    "v = (np.arange(15)-7)/4\n",
    "print('\\n', v)\n",
    "v_round1 = np.around(v,decimals=0)\n",
    "print('Округленный стандартным методом np.around вектор:\\n', v_round1)\n",
    "v_round2 = np.round(v,decimals=0)\n",
    "print('Округленный стандартным методом np.round вектор:\\n', v_round2)"
   ]
  },
  {
   "cell_type": "code",
   "execution_count": 33,
   "id": "2f8a50dc-23e2-438f-a0b8-2244312f3035",
   "metadata": {},
   "outputs": [
    {
     "name": "stdout",
     "output_type": "stream",
     "text": [
      "Округленный ВВЕРХ вектор первым способом:\n",
      " [-2. -2. -2. -1. -1. -1. -1.  0.  1.  1.  1.  1.\n",
      "  2.  2.  2.]\n",
      "Округленный ВВЕРХ вектор v вторым способом:\n",
      " [-2. -2. -2. -1. -1. -1. -1.  0.  1.  1.  1.  1.\n",
      "  2.  2.  2.]\n"
     ]
    }
   ],
   "source": [
    "v_round_away1 = np.copysign(np.ceil(np.abs(v)), v)\n",
    "print('Округленный ВВЕРХ вектор первым способом:\\n', v_round_away1)\n",
    "v_round_away2 = np.where(v>0, np.ceil(v), np.floor(v))\n",
    "print('Округленный ВВЕРХ вектор v вторым способом:\\n', v_round_away2)"
   ]
  },
  {
   "cell_type": "markdown",
   "id": "68e1feb8-62e0-481d-b186-9bd99d688228",
   "metadata": {},
   "source": [
    "<h2>30. How to find common values between two arrays?</h2>"
   ]
  },
  {
   "cell_type": "code",
   "execution_count": 36,
   "id": "c3455b8b-8729-402e-a469-6743cb4db721",
   "metadata": {},
   "outputs": [
    {
     "name": "stdout",
     "output_type": "stream",
     "text": [
      "[22  3 41 46 46 22  8 25 27 21 39 47 37 24 30 24\n",
      " 26 41  6  8]\n",
      "[ 5 22 17 31 26 31 48  1 30 38 49  6 49 29 27  8\n",
      " 28 10 34 32]\n",
      "[ 6  8 22 26 27 30]\n"
     ]
    }
   ],
   "source": [
    "v1 = np.random.randint(low=0 , high= 50, size=(20))\n",
    "print(v1)\n",
    "v2 = np.random.randint(low=0 , high= 50, size=(20))\n",
    "print(v2)\n",
    "print(intersect1d(v1, v2))"
   ]
  },
  {
   "cell_type": "code",
   "execution_count": null,
   "id": "766b2a06-6e57-41e7-b2ea-d1bf2635d588",
   "metadata": {},
   "outputs": [],
   "source": []
  }
 ],
 "metadata": {
  "kernelspec": {
   "display_name": "Python 3 (ipykernel)",
   "language": "python",
   "name": "python3"
  },
  "language_info": {
   "codemirror_mode": {
    "name": "ipython",
    "version": 3
   },
   "file_extension": ".py",
   "mimetype": "text/x-python",
   "name": "python",
   "nbconvert_exporter": "python",
   "pygments_lexer": "ipython3",
   "version": "3.12.3"
  }
 },
 "nbformat": 4,
 "nbformat_minor": 5
}
