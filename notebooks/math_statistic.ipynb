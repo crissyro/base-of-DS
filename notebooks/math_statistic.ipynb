{
  "cells": [
    {
      "cell_type": "markdown",
      "metadata": {
        "id": "RWSvSSM-llvQ"
      },
      "source": [
        "# Характеристики и функции распределений случайных величин\n",
        "\n",
        "## Основные характеристики случайных величин\n",
        "\n",
        "### 1. Математическое ожидание (Expected Value)\n",
        "\n",
        "Математическое ожидание показывает среднее значение, которое примет случайная величина \\( X \\) при большом количестве испытаний.\n",
        "\n",
        "$$\n",
        "E(X) = \\sum_{i=1}^{n} x_i \\cdot P(x_i)\n",
        "$$\n",
        "\n",
        "или, для непрерывной случайной величины:\n",
        "\n",
        "$$\n",
        "E(X) = \\int_{-\\infty}^{\\infty} x \\cdot f(x) \\, dx\n",
        "$$\n",
        "\n",
        "### 2. Дисперсия (Variance)\n",
        "\n",
        "Дисперсия \\( Var(X) \\) измеряет разброс значений относительно математического ожидания.\n",
        "\n",
        "$$\n",
        "Var(X) = E[(X - E(X))^2]\n",
        "$$\n",
        "\n",
        "или\n",
        "\n",
        "$$\n",
        "Var(X) = E(X^2) - (E(X))^2\n",
        "$$\n",
        "\n",
        "### 3. Среднеквадратическое отклонение (Standard Deviation)\n",
        "\n",
        "Среднеквадратическое отклонение — это корень квадратный из дисперсии, измеряющий разброс в тех же единицах, что и исходные данные.\n",
        "\n",
        "$$\n",
        "\\sigma = \\sqrt{Var(X)}\n",
        "$$\n",
        "\n",
        "### 4. Мода (Mode)\n",
        "\n",
        "Мода — это значение случайной величины, которое встречается с наибольшей вероятностью.\n",
        "\n",
        "- Для дискретных распределений: значение \\( x \\) с наибольшей вероятностью \\( P(x) \\).\n",
        "- Для непрерывных распределений: значение \\( x \\), при котором функция плотности \\( f(x) \\) максимальна.\n",
        "\n",
        "### 5. Медиана (Median)\n",
        "\n",
        "Медиана — значение, которое делит распределение на две равные части.\n",
        "\n",
        "$$\n",
        "P(X \\leq \\text{Median}) = 0.5\n",
        "$$\n",
        "\n",
        "### 6. Квантиль (Quantile)\n",
        "\n",
        "Квантиль \\( q_p \\) — это значение случайной величины, ниже которого находится определённая доля распределения.\n",
        "\n",
        "$$\n",
        "P(X \\leq q_p) = p\n",
        "$$\n",
        "\n",
        "## Основные функции распределений и их характеристики\n",
        "\n",
        "### 1. Равномерное распределение (Uniform Distribution)\n",
        "\n",
        "Функция плотности для равномерного распределения на отрезке \\([a, b]\\):\n",
        "\n",
        "$$\n",
        "f(x) =\n",
        "\\begin{cases}\n",
        "\\frac{1}{b - a} & a \\leq x \\leq b \\\\\n",
        "0 & \\text{иначе}\n",
        "\\end{cases}\n",
        "$$\n",
        "\n",
        "- Математическое ожидание: $ E(X) = \\frac{a + b}{2} $\n",
        "- Дисперсия: $ Var(X) = \\frac{(b - a)^2}{12} $\n",
        "\n",
        "### 2. Нормальное распределение (Normal Distribution)\n",
        "\n",
        "Функция плотности для нормального распределения с параметрами $ \\mu $ (среднее) и $ \\sigma^2 $ (дисперсия):\n",
        "\n",
        "$$\n",
        "f(x) = \\frac{1}{\\sqrt{2 \\pi \\sigma^2}} e^{-\\frac{(x - \\mu)^2}{2\\sigma^2}}\n",
        "$$\n",
        "\n",
        "- Математическое ожидание: $ E(X) = \\mu $\n",
        "- Дисперсия: $ Var(X) = \\sigma^2 $\n",
        "\n",
        "### 3. Экспоненциальное распределение (Exponential Distribution)\n",
        "\n",
        "Функция плотности для экспоненциального распределения с параметром $$ \\lambda > 0 $$:\n",
        "\n",
        "$$\n",
        "f(x) =\n",
        "\\begin{cases}\n",
        "\\lambda e^{-\\lambda x} & x \\geq 0 \\\\\n",
        "0 & x < 0\n",
        "\\end{cases}\n",
        "$$\n",
        "\n",
        "- Математическое ожидание: $ E(X) = \\frac{1}{\\lambda} $\n",
        "- Дисперсия: $ Var(X) = \\frac{1}{\\lambda^2} $\n",
        "\n",
        "### 4. Биномиальное распределение (Binomial Distribution)\n",
        "\n",
        "Вероятность того, что случайная величина \\( X \\) примет значение \\( k \\) при \\( n \\) независимых испытаниях с вероятностью успеха \\( p \\):\n",
        "\n",
        "$$\n",
        "P(X = k) = \\binom{n}{k} p^k (1 - p)^{n - k}\n",
        "$$\n",
        "\n",
        "- Математическое ожидание: $$ E(X) = n \\cdot p $$\n",
        "- Дисперсия: $$ Var(X) = n \\cdot p \\cdot (1 - p) $$\n",
        "\n",
        "### 5. Пуассоновское распределение (Poisson Distribution)\n",
        "\n",
        "Вероятность того, что случайная величина \\( X \\) примет значение \\( k \\) при среднем числе событий \\( \\lambda \\) за фиксированный интервал времени:\n",
        "\n",
        "$$\n",
        "P(X = k) = \\frac{\\lambda^k e^{-\\lambda}}{k!}\n",
        "$$\n",
        "\n",
        "- Математическое ожидание: $ E(X) = \\lambda $\n",
        "- Дисперсия: $ Var(X) = \\lambda $\n",
        "\n",
        "### 6. Геометрическое распределение (Geometric Distribution)\n",
        "\n",
        "Вероятность того, что первое успешное испытание произойдет на \\( k \\)-м испытании при вероятности успеха \\( p \\):\n",
        "\n",
        "$$\n",
        "P(X = k) = (1 - p)^{k - 1} p\n",
        "$$\n",
        "\n",
        "- Математическое ожидание: $ E(X) = \\frac{1}{p} $\n",
        "- Дисперсия: $ Var(X) = \\frac{1 - p}{p^2} $\n"
      ]
    },
    {
      "cell_type": "code",
      "execution_count": 1,
      "metadata": {
        "id": "TiDMfzSWr5HB"
      },
      "outputs": [],
      "source": [
        "import numpy as np\n",
        "import pandas as pd\n",
        "from scipy import stats\n",
        "\n",
        "import matplotlib.pyplot as plt\n",
        "\n",
        "%matplotlib inline"
      ]
    },
    {
      "cell_type": "code",
      "execution_count": 2,
      "metadata": {
        "id": "9plWe92vt8Kr"
      },
      "outputs": [],
      "source": [
        "norm_dist = stats.norm(loc=0, scale=1)"
      ]
    },
    {
      "cell_type": "markdown",
      "metadata": {
        "id": "hlfY0wVuueBA"
      },
      "source": [
        "Когда конкретный генератор готов, у него можно вызывать разные методы:\n",
        "\n",
        "* **rvs** сгенерирует нам выборку из распределения объёма size\n",
        "\n",
        "* **cdf** вычислит для нас значение функции распределения (cumulative distribution function) в указанной точке\n",
        "\n",
        "* **pdf** вычислит значение плотности распредеелния (probability density function) в указанной точке\n",
        "\n",
        "* **ppf** вычислит квантиль, указанного уровня\n",
        "\n",
        "[Документация](https://docs.scipy.org/doc/scipy-0.14.0/reference/stats.html)"
      ]
    },
    {
      "cell_type": "code",
      "execution_count": 3,
      "metadata": {
        "colab": {
          "base_uri": "https://localhost:8080/"
        },
        "id": "87Sv8Fb7u621",
        "outputId": "339562f1-b6cb-43c0-d93d-28b40cb43ad2"
      },
      "outputs": [
        {
          "data": {
            "text/plain": [
              "array([-0.68373885,  1.20560344,  1.07557062,  0.40989549,  0.6077561 ,\n",
              "       -0.16885394,  1.72915356,  0.31103477,  0.43606821,  1.06884371,\n",
              "        1.17645739,  0.94734075, -0.1090643 ,  0.37178575, -0.79311674,\n",
              "        0.95416234, -2.40526708,  0.7677672 ,  0.54402103,  0.18787617,\n",
              "        0.6005145 ,  1.02361964,  1.54520495, -1.80309101,  0.89305776,\n",
              "       -0.15361748, -0.67438923, -0.1600161 , -0.07763893,  2.19542084,\n",
              "       -0.75153447, -0.05924126, -1.01756083, -0.54644813, -0.61369637,\n",
              "       -0.69848483, -0.81093721,  0.4459084 , -0.38590107, -0.37813622,\n",
              "       -0.34475402, -1.12632289, -0.61016697,  0.1831577 , -0.10221573,\n",
              "        2.54874376, -0.38914892,  0.74521001, -0.09028117,  0.71380582])"
            ]
          },
          "execution_count": 3,
          "metadata": {},
          "output_type": "execute_result"
        }
      ],
      "source": [
        "list = norm_dist.rvs(99)\n",
        "list[:50]"
      ]
    },
    {
      "cell_type": "code",
      "execution_count": null,
      "metadata": {
        "colab": {
          "base_uri": "https://localhost:8080/"
        },
        "id": "y8hDnPCF0Slb",
        "outputId": "7b5cdf83-e6b5-4c66-acdb-6e91c30c8f00"
      },
      "outputs": [
        {
          "data": {
            "text/plain": [
              "0.021400233916549105"
            ]
          },
          "execution_count": 26,
          "metadata": {},
          "output_type": "execute_result"
        }
      ],
      "source": [
        "p = norm_dist.cdf(3) - norm_dist.cdf(2)\n",
        "p"
      ]
    },
    {
      "cell_type": "code",
      "execution_count": 6,
      "metadata": {
        "colab": {
          "base_uri": "https://localhost:8080/",
          "height": 466
        },
        "id": "fJaIrdjdv2YD",
        "outputId": "cf2ddafd-af79-4ca5-9fd6-658723ca4c09"
      },
      "outputs": [
        {
          "data": {
            "text/plain": [
              "<matplotlib.lines.Line2D at 0x724bfc91b1a0>"
            ]
          },
          "execution_count": 6,
          "metadata": {},
          "output_type": "execute_result"
        },
        {
          "data": {
            "image/png": "[encoded data removed]",
            "text/plain": [
              "<Figure size 640x480 with 1 Axes>"
            ]
          },
          "metadata": {},
          "output_type": "display_data"
        }
      ],
      "source": [
        "x = np.linspace(-4, 4, 100)\n",
        "y = norm_dist.pdf(x)\n",
        "\n",
        "plt.plot(x ,y, 'r')\n",
        "plt.ylabel(\"$ f(x) $\")\n",
        "plt.xlabel(\"$ x $\")\n",
        "\n",
        "plt.scatter([2, 3], [norm_dist.pdf(2), norm_dist.pdf(3)], color=\"green\")\n",
        "\n",
        "\n",
        "dx = np.linspace(2, 3, 100)\n",
        "dy = norm_dist.pdf(dx)\n",
        "plt.fill_between(dx, 0, dy, color=\"green\", alpha=0.2)\n",
        "\n",
        "plt.axvline(2, color=\"green\", linestyle=\"--\")\n",
        "plt.axvline(3, color=\"green\", linestyle=\"--\")"
      ]
    },
    {
      "cell_type": "code",
      "execution_count": null,
      "metadata": {
        "colab": {
          "base_uri": "https://localhost:8080/",
          "height": 466
        },
        "id": "_W99mcOPyNg4",
        "outputId": "4c55d4ca-633d-45b1-f0c0-dc79bd7be5df"
      },
      "outputs": [
        {
          "data": {
            "text/plain": [
              "<matplotlib.lines.Line2D at 0x7ebf58310eb0>"
            ]
          },
          "execution_count": 38,
          "metadata": {},
          "output_type": "execute_result"
        },
        {
          "data": {
            "image/png": "[encoded data removed]",
            "text/plain": [
              "<Figure size 640x480 with 1 Axes>"
            ]
          },
          "metadata": {},
          "output_type": "display_data"
        }
      ],
      "source": [
        "x = np.linspace(-4, 4, 100)\n",
        "y = norm_dist.cdf(x)\n",
        "\n",
        "plt.plot(x ,y, 'r')\n",
        "plt.ylabel(\"$ f(x) $\")\n",
        "plt.xlabel(\"$ x $\")\n",
        "\n",
        "plt.scatter([2, 3], [norm_dist.cdf(2), norm_dist.cdf(3)], color=\"green\")\n",
        "\n",
        "\n",
        "dx = np.linspace(2, 3, 100)\n",
        "dy = norm_dist.cdf(dx)\n",
        "plt.fill_between(dx, 0, dy, color=\"green\", alpha=0.2)\n",
        "\n",
        "plt.axvline(2, color=\"green\", linestyle=\"--\")\n",
        "plt.axvline(3, color=\"green\", linestyle=\"--\")"
      ]
    },
    {
      "cell_type": "code",
      "execution_count": 13,
      "metadata": {
        "colab": {
          "base_uri": "https://localhost:8080/",
          "height": 1000
        },
        "id": "ZFHlHSeOXUAF",
        "outputId": "8d716bda-111c-4b8d-e76c-64c56308f034"
      },
      "outputs": [
        {
          "data": {
            "image/png": "[encoded data removed]",
            "text/plain": [
              "<Figure size 640x480 with 1 Axes>"
            ]
          },
          "metadata": {},
          "output_type": "display_data"
        },
        {
          "data": {
            "image/png": "[encoded data removed]",
            "text/plain": [
              "<Figure size 640x480 with 1 Axes>"
            ]
          },
          "metadata": {},
          "output_type": "display_data"
        },
        {
          "data": {
            "image/png": "[encoded data removed]",
            "text/plain": [
              "<Figure size 640x480 with 1 Axes>"
            ]
          },
          "metadata": {},
          "output_type": "display_data"
        },
        {
          "data": {
            "image/png": "[encoded data removed]",
            "text/plain": [
              "<Figure size 640x480 with 1 Axes>"
            ]
          },
          "metadata": {},
          "output_type": "display_data"
        }
      ],
      "source": [
        "distributions = {\n",
        "    \"Binomial\": (stats.binom, {\"n\": 50, \"p\": 0.4}),\n",
        "    \"Normal\": (stats.norm, {\"loc\": 0, \"scale\": 1}),\n",
        "    \"Exponential\": (stats.expon, {\"scale\": 1}),\n",
        "    \"Poisson\": (stats.poisson, {\"mu\": 5})\n",
        "}\n",
        "\n",
        "x_markers = [2, 3]\n",
        "\n",
        "for name, (distribution, params) in distributions.items():\n",
        "\n",
        "    x = np.linspace(-10, 10, 1000) if name != \"Binomial\" else np.arange(0, 50)\n",
        "    y = distribution.cdf(x, **params)\n",
        "\n",
        "    plt.plot(x, y, 'r', label=f'{name} CDF')\n",
        "    plt.ylabel(\"$ f(x) $\")\n",
        "    plt.xlabel(\"$ x $\")\n",
        "    plt.title(f\"{name} Distribution CDF\")\n",
        "\n",
        "    plt.scatter(x_markers, distribution.cdf(x_markers, **params), color=\"green\")\n",
        "\n",
        "    dx = np.linspace(x_markers[0], x_markers[1], 100)\n",
        "    dy = distribution.cdf(dx, **params)\n",
        "    plt.fill_between(dx, 0, dy, color=\"green\", alpha=0.2)\n",
        "\n",
        "    plt.axvline(x_markers[0], color=\"green\", linestyle=\"--\")\n",
        "    plt.axvline(x_markers[1], color=\"green\", linestyle=\"--\")\n",
        "\n",
        "    plt.legend()\n",
        "    plt.show()"
      ]
    },
    {
      "cell_type": "markdown",
      "metadata": {
        "id": "J5RDUXQPUYp1"
      },
      "source": [
        "# Эмпирическое распределение"
      ]
    },
    {
      "cell_type": "code",
      "execution_count": null,
      "metadata": {
        "colab": {
          "base_uri": "https://localhost:8080/"
        },
        "id": "tEjsQCxcUdbI",
        "outputId": "0c57c3d7-a91a-495e-f7e0-fd2d08615575"
      },
      "outputs": [
        {
          "data": {
            "text/plain": [
              "array([ 1.73183782,  0.17860358, -0.48733266, -1.02589007,  2.02751071,\n",
              "        1.53557997, -0.10093077,  0.01194927, -1.43519693,  2.19003471,\n",
              "        0.41007601,  1.69818088, -0.72577947,  0.97522825, -1.199868  ,\n",
              "       -1.73894304, -1.2448594 ,  0.02778889, -0.82114358,  0.01964194])"
            ]
          },
          "execution_count": 39,
          "metadata": {},
          "output_type": "execute_result"
        }
      ],
      "source": [
        "sample = norm_dist.rvs(500)\n",
        "sample[:20]"
      ]
    },
    {
      "cell_type": "code",
      "execution_count": null,
      "metadata": {
        "colab": {
          "base_uri": "https://localhost:8080/"
        },
        "id": "qC9MnMd6U5Ef",
        "outputId": "7061ff80-8596-4ada-af4e-98d351f3771b"
      },
      "outputs": [
        {
          "data": {
            "text/plain": [
              "500"
            ]
          },
          "execution_count": 40,
          "metadata": {},
          "output_type": "execute_result"
        }
      ],
      "source": [
        "sample.size"
      ]
    },
    {
      "cell_type": "code",
      "execution_count": null,
      "metadata": {
        "colab": {
          "base_uri": "https://localhost:8080/"
        },
        "id": "fKvbNVhdVBGp",
        "outputId": "428978a1-4302-4842-ae02-9defd1d3b041"
      },
      "outputs": [
        {
          "data": {
            "text/plain": [
              "0.02595429258868037"
            ]
          },
          "execution_count": 41,
          "metadata": {},
          "output_type": "execute_result"
        }
      ],
      "source": [
        "np.mean(sample) # среднее"
      ]
    },
    {
      "cell_type": "code",
      "execution_count": null,
      "metadata": {
        "colab": {
          "base_uri": "https://localhost:8080/"
        },
        "id": "CLzXRIw0VGe1",
        "outputId": "74db276b-f3e9-4940-8f7b-ad29ee28b723"
      },
      "outputs": [
        {
          "data": {
            "text/plain": [
              "1.0665523432029935"
            ]
          },
          "execution_count": 42,
          "metadata": {},
          "output_type": "execute_result"
        }
      ],
      "source": [
        "np.var(sample) # диспрерсия"
      ]
    },
    {
      "cell_type": "code",
      "execution_count": null,
      "metadata": {
        "colab": {
          "base_uri": "https://localhost:8080/"
        },
        "id": "AFk0_YojVLjX",
        "outputId": "9051a1a5-bea8-4a2c-d316-1ece90543964"
      },
      "outputs": [
        {
          "data": {
            "text/plain": [
              "1.032740210896716"
            ]
          },
          "execution_count": 43,
          "metadata": {},
          "output_type": "execute_result"
        }
      ],
      "source": [
        "np.std(sample) # стандартное отклонение"
      ]
    },
    {
      "cell_type": "code",
      "execution_count": null,
      "metadata": {
        "colab": {
          "base_uri": "https://localhost:8080/"
        },
        "id": "JGUopjN1VShe",
        "outputId": "a0c60669-57e3-48e2-9406-45156f001cec"
      },
      "outputs": [
        {
          "data": {
            "text/plain": [
              "0.0341287191860731"
            ]
          },
          "execution_count": 44,
          "metadata": {},
          "output_type": "execute_result"
        }
      ],
      "source": [
        "np.median(sample) # медиана"
      ]
    },
    {
      "cell_type": "markdown",
      "metadata": {
        "id": "kmkjCzypVocx"
      },
      "source": [
        "**Гистограмма** = это эмпирическая оценка для плотности распределения"
      ]
    },
    {
      "cell_type": "code",
      "execution_count": null,
      "metadata": {
        "colab": {
          "base_uri": "https://localhost:8080/",
          "height": 430
        },
        "id": "GgS-RRkdVyrj",
        "outputId": "28b82886-a6fb-47bb-9ae0-f2fa9beb9cfd"
      },
      "outputs": [
        {
          "data": {
            "image/png": "[encoded data removed]",
            "text/plain": [
              "<Figure size 640x480 with 1 Axes>"
            ]
          },
          "metadata": {},
          "output_type": "display_data"
        }
      ],
      "source": [
        "plt.hist(sample, bins=75); # bins - число столбцов"
      ]
    },
    {
      "cell_type": "code",
      "execution_count": null,
      "metadata": {
        "colab": {
          "base_uri": "https://localhost:8080/",
          "height": 466
        },
        "id": "LtWkH4LEWYFH",
        "outputId": "6463d119-7f04-4a18-fe2f-962340dc743a"
      },
      "outputs": [
        {
          "data": {
            "text/plain": [
              "Text(0.5, 0, '$ x $')"
            ]
          },
          "execution_count": 50,
          "metadata": {},
          "output_type": "execute_result"
        },
        {
          "data": {
            "image/png": "[encoded data removed]",
            "text/plain": [
              "<Figure size 640x480 with 1 Axes>"
            ]
          },
          "metadata": {},
          "output_type": "display_data"
        }
      ],
      "source": [
        "x = np.linspace(-3, 3, 100)\n",
        "pdf = norm_dist.pdf(x)\n",
        "\n",
        "plt.plot(x, pdf, lw=2) # плотность\n",
        "\n",
        "plt.hist(sample, bins=40, density=True)\n",
        "\n",
        "plt.ylabel(\"$ f(x) $\")\n",
        "plt.xlabel(\"$ x $\")"
      ]
    },
    {
      "cell_type": "code",
      "execution_count": null,
      "metadata": {
        "colab": {
          "base_uri": "https://localhost:8080/",
          "height": 466
        },
        "id": "3C31AiJ0XPya",
        "outputId": "9fb3090d-f6a8-4ae3-9af8-406b7028fdf7"
      },
      "outputs": [
        {
          "data": {
            "text/plain": [
              "Text(0.5, 0, '$ x $')"
            ]
          },
          "execution_count": 54,
          "metadata": {},
          "output_type": "execute_result"
        },
        {
          "data": {
            "image/png": "[encoded data removed]",
            "text/plain": [
              "<Figure size 640x480 with 1 Axes>"
            ]
          },
          "metadata": {},
          "output_type": "display_data"
        }
      ],
      "source": [
        "from statsmodels.distributions.empirical_distribution import ECDF\n",
        "\n",
        "ecdf = ECDF(sample) # строим эмпирическую функцию\n",
        "\n",
        "plt.step(ecdf.x, ecdf.y, \"r\")\n",
        "plt.ylabel(\"$ f(x) $\")\n",
        "plt.xlabel(\"$ x $\")"
      ]
    },
    {
      "cell_type": "code",
      "execution_count": null,
      "metadata": {
        "colab": {
          "base_uri": "https://localhost:8080/",
          "height": 466
        },
        "id": "r6f8RGGeXzF8",
        "outputId": "4952dda8-4e43-4611-d5d5-22eb782aa7ea"
      },
      "outputs": [
        {
          "data": {
            "text/plain": [
              "<matplotlib.lines.Line2D at 0x7ebf576773a0>"
            ]
          },
          "execution_count": 56,
          "metadata": {},
          "output_type": "execute_result"
        },
        {
          "data": {
            "image/png": "[encoded data removed]",
            "text/plain": [
              "<Figure size 640x480 with 1 Axes>"
            ]
          },
          "metadata": {},
          "output_type": "display_data"
        }
      ],
      "source": [
        "x = np.linspace(-4, 4, 100)\n",
        "y = norm_dist.cdf(x)\n",
        "\n",
        "plt.plot(x ,y, 'r')\n",
        "plt.ylabel(\"$ f(x) $\")\n",
        "plt.xlabel(\"$ x $\")\n",
        "\n",
        "plt.scatter([2, 3], [norm_dist.cdf(2), norm_dist.cdf(3)], color=\"green\")\n",
        "\n",
        "ecdf = ECDF(sample) # строим эмпирическую функцию\n",
        "\n",
        "plt.step(ecdf.x, ecdf.y, \"b\")\n",
        "\n",
        "\n",
        "dx = np.linspace(2, 3, 100)\n",
        "dy = norm_dist.cdf(dx)\n",
        "plt.fill_between(dx, 0, dy, color=\"green\", alpha=0.2)\n",
        "\n",
        "plt.axvline(2, color=\"green\", linestyle=\"--\")\n",
        "plt.axvline(3, color=\"green\", linestyle=\"--\")"
      ]
    },
    {
      "cell_type": "markdown",
      "metadata": {
        "id": "ikvRHjAXhhr_"
      },
      "source": [
        "# Практика на датасете"
      ]
    },
    {
      "cell_type": "code",
      "execution_count": 17,
      "metadata": {
        "colab": {
          "base_uri": "https://localhost:8080/"
        },
        "id": "tUwHb2ephms1",
        "outputId": "99b8ee98-69aa-4745-be8b-1cb86157a0b1"
      },
      "outputs": [
        {
          "data": {
            "text/plain": [
              "(19124, 10)"
            ]
          },
          "execution_count": 17,
          "metadata": {},
          "output_type": "execute_result"
        }
      ],
      "source": [
        "df = pd.read_csv(\"sample_data/youtube_data_short.csv\", sep=\"\\t\")\n",
        "df.shape"
      ]
    },
    {
      "cell_type": "code",
      "execution_count": 18,
      "metadata": {
        "colab": {
          "base_uri": "https://localhost:8080/",
          "height": 206
        },
        "id": "WcGbrFMhh88F",
        "outputId": "e1d0167d-d360-4ad4-ef5f-2256c99b54c3"
      },
      "outputs": [
        {
          "data": {
            "application/vnd.google.colaboratory.intrinsic+json": {
              "summary": "{\n  \"name\": \"df\",\n  \"rows\": 19124,\n  \"fields\": [\n    {\n      \"column\": \"title\",\n      \"properties\": {\n        \"dtype\": \"string\",\n        \"num_unique_values\": 18029,\n        \"samples\": [\n          \"\\u041c\\u0438\\u0445\\u0430\\u0438\\u043b \\u041a\\u0440\\u0443\\u0433 - \\u0412\\u043b\\u0430\\u0434\\u0438\\u043c\\u0438\\u0440\\u0441\\u043a\\u0438\\u0439 \\u0446\\u0435\\u043d\\u0442\\u0440\\u0430\\u043b Style Korg HD\",\n          \"\\u0410 \\u0437\\u043d\\u0430\\u0435\\u0448\\u044c, \\u0432\\u0441\\u0451 \\u0435\\u0449\\u0451 \\u0431\\u0443\\u0434\\u0435\\u0442\",\n          \"\\u041b\\u0443\\u0447\\u0448\\u0438\\u0439 \\u0434\\u0440\\u0443\\u0433\"\n        ],\n        \"semantic_type\": \"\",\n        \"description\": \"\"\n      }\n    },\n    {\n      \"column\": \"commentCount\",\n      \"properties\": {\n        \"dtype\": \"number\",\n        \"std\": 4200.463283536096,\n        \"min\": 0.0,\n        \"max\": 303077.0,\n        \"num_unique_values\": 1607,\n        \"samples\": [\n          466.0,\n          608.0,\n          247.0\n        ],\n        \"semantic_type\": \"\",\n        \"description\": \"\"\n      }\n    },\n    {\n      \"column\": \"dislikeCount\",\n      \"properties\": {\n        \"dtype\": \"number\",\n        \"std\": 9339.777800113034,\n        \"min\": 0.0,\n        \"max\": 640698.0,\n        \"num_unique_values\": 1755,\n        \"samples\": [\n          2978.0,\n          10910.0,\n          65322.0\n        ],\n        \"semantic_type\": \"\",\n        \"description\": \"\"\n      }\n    },\n    {\n      \"column\": \"likeCount\",\n      \"properties\": {\n        \"dtype\": \"number\",\n        \"std\": 38903.02814223912,\n        \"min\": 0.0,\n        \"max\": 1686810.0,\n        \"num_unique_values\": 4283,\n        \"samples\": [\n          1630.0,\n          405493.0,\n          4890.0\n        ],\n        \"semantic_type\": \"\",\n        \"description\": \"\"\n      }\n    },\n    {\n      \"column\": \"music_style\",\n      \"properties\": {\n        \"dtype\": \"category\",\n        \"num_unique_values\": 7,\n        \"samples\": [\n          \"popsa\",\n          \"rock\",\n          \"shanson\"\n        ],\n        \"semantic_type\": \"\",\n        \"description\": \"\"\n      }\n    },\n    {\n      \"column\": \"performer\",\n      \"properties\": {\n        \"dtype\": \"category\",\n        \"num_unique_values\": 111,\n        \"samples\": [\n          \"\\u0433\\u0440\\u0430\\u0434\\u0443\\u0441\\u044b\",\n          \"\\u043a\\u0443\\u043a\\u0440\\u044b\\u043d\\u0438\\u043a\\u0441\\u044b\",\n          \"classical_channel\"\n        ],\n        \"semantic_type\": \"\",\n        \"description\": \"\"\n      }\n    },\n    {\n      \"column\": \"viewCount\",\n      \"properties\": {\n        \"dtype\": \"number\",\n        \"std\": 6382347.607949702,\n        \"min\": 0.0,\n        \"max\": 272047706.0,\n        \"num_unique_values\": 14548,\n        \"samples\": [\n          49889.0,\n          40841.0,\n          3236.0\n        ],\n        \"semantic_type\": \"\",\n        \"description\": \"\"\n      }\n    },\n    {\n      \"column\": \"commentators_uniq\",\n      \"properties\": {\n        \"dtype\": \"number\",\n        \"std\": 333.58480371374844,\n        \"min\": 1.0,\n        \"max\": 3702.0,\n        \"num_unique_values\": 1033,\n        \"samples\": [\n          123.0,\n          561.0,\n          1171.0\n        ],\n        \"semantic_type\": \"\",\n        \"description\": \"\"\n      }\n    },\n    {\n      \"column\": \"comments_obscene_cnt\",\n      \"properties\": {\n        \"dtype\": \"number\",\n        \"std\": 37.887946929027535,\n        \"min\": 0.0,\n        \"max\": 693.0,\n        \"num_unique_values\": 261,\n        \"samples\": [\n          14.0,\n          164.0,\n          102.0\n        ],\n        \"semantic_type\": \"\",\n        \"description\": \"\"\n      }\n    },\n    {\n      \"column\": \"video_age\",\n      \"properties\": {\n        \"dtype\": \"number\",\n        \"std\": 1054,\n        \"min\": 0,\n        \"max\": 4574,\n        \"num_unique_values\": 3292,\n        \"samples\": [\n          2476,\n          1452,\n          3129\n        ],\n        \"semantic_type\": \"\",\n        \"description\": \"\"\n      }\n    }\n  ]\n}",
              "type": "dataframe",
              "variable_name": "df"
            },
            "text/html": [
              "\n",
              "  <div id=\"df-6288f133-67ec-4604-aefa-e7877e8ca1d3\" class=\"colab-df-container\">\n",
              "    <div>\n",
              "<style scoped>\n",
              "    .dataframe tbody tr th:only-of-type {\n",
              "        vertical-align: middle;\n",
              "    }\n",
              "\n",
              "    .dataframe tbody tr th {\n",
              "        vertical-align: top;\n",
              "    }\n",
              "\n",
              "    .dataframe thead th {\n",
              "        text-align: right;\n",
              "    }\n",
              "</style>\n",
              "<table border=\"1\" class=\"dataframe\">\n",
              "  <thead>\n",
              "    <tr style=\"text-align: right;\">\n",
              "      <th></th>\n",
              "      <th>title</th>\n",
              "      <th>commentCount</th>\n",
              "      <th>dislikeCount</th>\n",
              "      <th>likeCount</th>\n",
              "      <th>music_style</th>\n",
              "      <th>performer</th>\n",
              "      <th>viewCount</th>\n",
              "      <th>commentators_uniq</th>\n",
              "      <th>comments_obscene_cnt</th>\n",
              "      <th>video_age</th>\n",
              "    </tr>\n",
              "  </thead>\n",
              "  <tbody>\n",
              "    <tr>\n",
              "      <th>0</th>\n",
              "      <td>\"#2Маши \"Свободные линии\"</td>\n",
              "      <td>34.0</td>\n",
              "      <td>43.0</td>\n",
              "      <td>1402.0</td>\n",
              "      <td>popsa</td>\n",
              "      <td>2маши</td>\n",
              "      <td>214301.0</td>\n",
              "      <td>24.0</td>\n",
              "      <td>0.0</td>\n",
              "      <td>1141</td>\n",
              "    </tr>\n",
              "    <tr>\n",
              "      <th>1</th>\n",
              "      <td>\"ALARM\" СЕРГЕЙ ЛАЗАРЕВ ( SERGEY LAZAREV )</td>\n",
              "      <td>NaN</td>\n",
              "      <td>690.0</td>\n",
              "      <td>10532.0</td>\n",
              "      <td>popsa</td>\n",
              "      <td>лазарев</td>\n",
              "      <td>2221419.0</td>\n",
              "      <td>NaN</td>\n",
              "      <td>NaN</td>\n",
              "      <td>3217</td>\n",
              "    </tr>\n",
              "    <tr>\n",
              "      <th>2</th>\n",
              "      <td>\"EARTH SONG\"  SERGEY LAZAREV. DEDICATED TO MIC...</td>\n",
              "      <td>26.0</td>\n",
              "      <td>10.0</td>\n",
              "      <td>269.0</td>\n",
              "      <td>popsa</td>\n",
              "      <td>лазарев</td>\n",
              "      <td>40327.0</td>\n",
              "      <td>23.0</td>\n",
              "      <td>0.0</td>\n",
              "      <td>3546</td>\n",
              "    </tr>\n",
              "    <tr>\n",
              "      <th>3</th>\n",
              "      <td>\"Earth song\" премия МУЗ-тВ 2010 (LIVE)</td>\n",
              "      <td>12.0</td>\n",
              "      <td>7.0</td>\n",
              "      <td>163.0</td>\n",
              "      <td>popsa</td>\n",
              "      <td>лазарев</td>\n",
              "      <td>11907.0</td>\n",
              "      <td>11.0</td>\n",
              "      <td>0.0</td>\n",
              "      <td>3189</td>\n",
              "    </tr>\n",
              "    <tr>\n",
              "      <th>4</th>\n",
              "      <td>\"FAKE\" СЕРГЕЙ ЛАЗАРЕВ (SERGEY)</td>\n",
              "      <td>46.0</td>\n",
              "      <td>19.0</td>\n",
              "      <td>597.0</td>\n",
              "      <td>popsa</td>\n",
              "      <td>лазарев</td>\n",
              "      <td>91483.0</td>\n",
              "      <td>33.0</td>\n",
              "      <td>1.0</td>\n",
              "      <td>3361</td>\n",
              "    </tr>\n",
              "  </tbody>\n",
              "</table>\n",
              "</div>\n",
              "    <div class=\"colab-df-buttons\">\n",
              "\n",
              "  <div class=\"colab-df-container\">\n",
              "    <button class=\"colab-df-convert\" onclick=\"convertToInteractive('df-6288f133-67ec-4604-aefa-e7877e8ca1d3')\"\n",
              "            title=\"Convert this dataframe to an interactive table.\"\n",
              "            style=\"display:none;\">\n",
              "\n",
              "  <svg xmlns=\"http://www.w3.org/2000/svg\" height=\"24px\" viewBox=\"0 -960 960 960\">\n",
              "    <path d=\"M120-120v-720h720v720H120Zm60-500h600v-160H180v160Zm220 220h160v-160H400v160Zm0 220h160v-160H400v160ZM180-400h160v-160H180v160Zm440 0h160v-160H620v160ZM180-180h160v-160H180v160Zm440 0h160v-160H620v160Z\"/>\n",
              "  </svg>\n",
              "    </button>\n",
              "\n",
              "  <style>\n",
              "    .colab-df-container {\n",
              "      display:flex;\n",
              "      gap: 12px;\n",
              "    }\n",
              "\n",
              "    .colab-df-convert {\n",
              "      background-color: #E8F0FE;\n",
              "      border: none;\n",
              "      border-radius: 50%;\n",
              "      cursor: pointer;\n",
              "      display: none;\n",
              "      fill: #1967D2;\n",
              "      height: 32px;\n",
              "      padding: 0 0 0 0;\n",
              "      width: 32px;\n",
              "    }\n",
              "\n",
              "    .colab-df-convert:hover {\n",
              "      background-color: #E2EBFA;\n",
              "      box-shadow: 0px 1px 2px rgba(60, 64, 67, 0.3), 0px 1px 3px 1px rgba(60, 64, 67, 0.15);\n",
              "      fill: #174EA6;\n",
              "    }\n",
              "\n",
              "    .colab-df-buttons div {\n",
              "      margin-bottom: 4px;\n",
              "    }\n",
              "\n",
              "    [theme=dark] .colab-df-convert {\n",
              "      background-color: #3B4455;\n",
              "      fill: #D2E3FC;\n",
              "    }\n",
              "\n",
              "    [theme=dark] .colab-df-convert:hover {\n",
              "      background-color: #434B5C;\n",
              "      box-shadow: 0px 1px 3px 1px rgba(0, 0, 0, 0.15);\n",
              "      filter: drop-shadow(0px 1px 2px rgba(0, 0, 0, 0.3));\n",
              "      fill: #FFFFFF;\n",
              "    }\n",
              "  </style>\n",
              "\n",
              "    <script>\n",
              "      const buttonEl =\n",
              "        document.querySelector('#df-6288f133-67ec-4604-aefa-e7877e8ca1d3 button.colab-df-convert');\n",
              "      buttonEl.style.display =\n",
              "        google.colab.kernel.accessAllowed ? 'block' : 'none';\n",
              "\n",
              "      async function convertToInteractive(key) {\n",
              "        const element = document.querySelector('#df-6288f133-67ec-4604-aefa-e7877e8ca1d3');\n",
              "        const dataTable =\n",
              "          await google.colab.kernel.invokeFunction('convertToInteractive',\n",
              "                                                    [key], {});\n",
              "        if (!dataTable) return;\n",
              "\n",
              "        const docLinkHtml = 'Like what you see? Visit the ' +\n",
              "          '<a target=\"_blank\" href=https://colab.research.google.com/notebooks/data_table.ipynb>data table notebook</a>'\n",
              "          + ' to learn more about interactive tables.';\n",
              "        element.innerHTML = '';\n",
              "        dataTable['output_type'] = 'display_data';\n",
              "        await google.colab.output.renderOutput(dataTable, element);\n",
              "        const docLink = document.createElement('div');\n",
              "        docLink.innerHTML = docLinkHtml;\n",
              "        element.appendChild(docLink);\n",
              "      }\n",
              "    </script>\n",
              "  </div>\n",
              "\n",
              "\n",
              "<div id=\"df-c082cb9e-b45a-4fc7-b1ab-fcde3e6788fd\">\n",
              "  <button class=\"colab-df-quickchart\" onclick=\"quickchart('df-c082cb9e-b45a-4fc7-b1ab-fcde3e6788fd')\"\n",
              "            title=\"Suggest charts\"\n",
              "            style=\"display:none;\">\n",
              "\n",
              "<svg xmlns=\"http://www.w3.org/2000/svg\" height=\"24px\"viewBox=\"0 0 24 24\"\n",
              "     width=\"24px\">\n",
              "    <g>\n",
              "        <path d=\"M19 3H5c-1.1 0-2 .9-2 2v14c0 1.1.9 2 2 2h14c1.1 0 2-.9 2-2V5c0-1.1-.9-2-2-2zM9 17H7v-7h2v7zm4 0h-2V7h2v10zm4 0h-2v-4h2v4z\"/>\n",
              "    </g>\n",
              "</svg>\n",
              "  </button>\n",
              "\n",
              "<style>\n",
              "  .colab-df-quickchart {\n",
              "      --bg-color: #E8F0FE;\n",
              "      --fill-color: #1967D2;\n",
              "      --hover-bg-color: #E2EBFA;\n",
              "      --hover-fill-color: #174EA6;\n",
              "      --disabled-fill-color: #AAA;\n",
              "      --disabled-bg-color: #DDD;\n",
              "  }\n",
              "\n",
              "  [theme=dark] .colab-df-quickchart {\n",
              "      --bg-color: #3B4455;\n",
              "      --fill-color: #D2E3FC;\n",
              "      --hover-bg-color: #434B5C;\n",
              "      --hover-fill-color: #FFFFFF;\n",
              "      --disabled-bg-color: #3B4455;\n",
              "      --disabled-fill-color: #666;\n",
              "  }\n",
              "\n",
              "  .colab-df-quickchart {\n",
              "    background-color: var(--bg-color);\n",
              "    border: none;\n",
              "    border-radius: 50%;\n",
              "    cursor: pointer;\n",
              "    display: none;\n",
              "    fill: var(--fill-color);\n",
              "    height: 32px;\n",
              "    padding: 0;\n",
              "    width: 32px;\n",
              "  }\n",
              "\n",
              "  .colab-df-quickchart:hover {\n",
              "    background-color: var(--hover-bg-color);\n",
              "    box-shadow: 0 1px 2px rgba(60, 64, 67, 0.3), 0 1px 3px 1px rgba(60, 64, 67, 0.15);\n",
              "    fill: var(--button-hover-fill-color);\n",
              "  }\n",
              "\n",
              "  .colab-df-quickchart-complete:disabled,\n",
              "  .colab-df-quickchart-complete:disabled:hover {\n",
              "    background-color: var(--disabled-bg-color);\n",
              "    fill: var(--disabled-fill-color);\n",
              "    box-shadow: none;\n",
              "  }\n",
              "\n",
              "  .colab-df-spinner {\n",
              "    border: 2px solid var(--fill-color);\n",
              "    border-color: transparent;\n",
              "    border-bottom-color: var(--fill-color);\n",
              "    animation:\n",
              "      spin 1s steps(1) infinite;\n",
              "  }\n",
              "\n",
              "  @keyframes spin {\n",
              "    0% {\n",
              "      border-color: transparent;\n",
              "      border-bottom-color: var(--fill-color);\n",
              "      border-left-color: var(--fill-color);\n",
              "    }\n",
              "    20% {\n",
              "      border-color: transparent;\n",
              "      border-left-color: var(--fill-color);\n",
              "      border-top-color: var(--fill-color);\n",
              "    }\n",
              "    30% {\n",
              "      border-color: transparent;\n",
              "      border-left-color: var(--fill-color);\n",
              "      border-top-color: var(--fill-color);\n",
              "      border-right-color: var(--fill-color);\n",
              "    }\n",
              "    40% {\n",
              "      border-color: transparent;\n",
              "      border-right-color: var(--fill-color);\n",
              "      border-top-color: var(--fill-color);\n",
              "    }\n",
              "    60% {\n",
              "      border-color: transparent;\n",
              "      border-right-color: var(--fill-color);\n",
              "    }\n",
              "    80% {\n",
              "      border-color: transparent;\n",
              "      border-right-color: var(--fill-color);\n",
              "      border-bottom-color: var(--fill-color);\n",
              "    }\n",
              "    90% {\n",
              "      border-color: transparent;\n",
              "      border-bottom-color: var(--fill-color);\n",
              "    }\n",
              "  }\n",
              "</style>\n",
              "\n",
              "  <script>\n",
              "    async function quickchart(key) {\n",
              "      const quickchartButtonEl =\n",
              "        document.querySelector('#' + key + ' button');\n",
              "      quickchartButtonEl.disabled = true;  // To prevent multiple clicks.\n",
              "      quickchartButtonEl.classList.add('colab-df-spinner');\n",
              "      try {\n",
              "        const charts = await google.colab.kernel.invokeFunction(\n",
              "            'suggestCharts', [key], {});\n",
              "      } catch (error) {\n",
              "        console.error('Error during call to suggestCharts:', error);\n",
              "      }\n",
              "      quickchartButtonEl.classList.remove('colab-df-spinner');\n",
              "      quickchartButtonEl.classList.add('colab-df-quickchart-complete');\n",
              "    }\n",
              "    (() => {\n",
              "      let quickchartButtonEl =\n",
              "        document.querySelector('#df-c082cb9e-b45a-4fc7-b1ab-fcde3e6788fd button');\n",
              "      quickchartButtonEl.style.display =\n",
              "        google.colab.kernel.accessAllowed ? 'block' : 'none';\n",
              "    })();\n",
              "  </script>\n",
              "</div>\n",
              "    </div>\n",
              "  </div>\n"
            ],
            "text/plain": [
              "                                               title  commentCount  \\\n",
              "0                          \"#2Маши \"Свободные линии\"          34.0   \n",
              "1          \"ALARM\" СЕРГЕЙ ЛАЗАРЕВ ( SERGEY LAZAREV )           NaN   \n",
              "2  \"EARTH SONG\"  SERGEY LAZAREV. DEDICATED TO MIC...          26.0   \n",
              "3             \"Earth song\" премия МУЗ-тВ 2010 (LIVE)          12.0   \n",
              "4                     \"FAKE\" СЕРГЕЙ ЛАЗАРЕВ (SERGEY)          46.0   \n",
              "\n",
              "   dislikeCount  likeCount music_style performer  viewCount  \\\n",
              "0          43.0     1402.0       popsa     2маши   214301.0   \n",
              "1         690.0    10532.0       popsa   лазарев  2221419.0   \n",
              "2          10.0      269.0       popsa   лазарев    40327.0   \n",
              "3           7.0      163.0       popsa   лазарев    11907.0   \n",
              "4          19.0      597.0       popsa   лазарев    91483.0   \n",
              "\n",
              "   commentators_uniq  comments_obscene_cnt  video_age  \n",
              "0               24.0                   0.0       1141  \n",
              "1                NaN                   NaN       3217  \n",
              "2               23.0                   0.0       3546  \n",
              "3               11.0                   0.0       3189  \n",
              "4               33.0                   1.0       3361  "
            ]
          },
          "execution_count": 18,
          "metadata": {},
          "output_type": "execute_result"
        }
      ],
      "source": [
        "df.head()"
      ]
    },
    {
      "cell_type": "code",
      "execution_count": 19,
      "metadata": {
        "colab": {
          "base_uri": "https://localhost:8080/",
          "height": 398
        },
        "id": "hEzhzyijh_0q",
        "outputId": "e41e1c71-592d-4e1b-9733-f6a74e3a5c3a"
      },
      "outputs": [
        {
          "data": {
            "text/html": [
              "<div>\n",
              "<style scoped>\n",
              "    .dataframe tbody tr th:only-of-type {\n",
              "        vertical-align: middle;\n",
              "    }\n",
              "\n",
              "    .dataframe tbody tr th {\n",
              "        vertical-align: top;\n",
              "    }\n",
              "\n",
              "    .dataframe thead th {\n",
              "        text-align: right;\n",
              "    }\n",
              "</style>\n",
              "<table border=\"1\" class=\"dataframe\">\n",
              "  <thead>\n",
              "    <tr style=\"text-align: right;\">\n",
              "      <th></th>\n",
              "      <th>0</th>\n",
              "    </tr>\n",
              "  </thead>\n",
              "  <tbody>\n",
              "    <tr>\n",
              "      <th>title</th>\n",
              "      <td>object</td>\n",
              "    </tr>\n",
              "    <tr>\n",
              "      <th>commentCount</th>\n",
              "      <td>float64</td>\n",
              "    </tr>\n",
              "    <tr>\n",
              "      <th>dislikeCount</th>\n",
              "      <td>float64</td>\n",
              "    </tr>\n",
              "    <tr>\n",
              "      <th>likeCount</th>\n",
              "      <td>float64</td>\n",
              "    </tr>\n",
              "    <tr>\n",
              "      <th>music_style</th>\n",
              "      <td>object</td>\n",
              "    </tr>\n",
              "    <tr>\n",
              "      <th>performer</th>\n",
              "      <td>object</td>\n",
              "    </tr>\n",
              "    <tr>\n",
              "      <th>viewCount</th>\n",
              "      <td>float64</td>\n",
              "    </tr>\n",
              "    <tr>\n",
              "      <th>commentators_uniq</th>\n",
              "      <td>float64</td>\n",
              "    </tr>\n",
              "    <tr>\n",
              "      <th>comments_obscene_cnt</th>\n",
              "      <td>float64</td>\n",
              "    </tr>\n",
              "    <tr>\n",
              "      <th>video_age</th>\n",
              "      <td>int64</td>\n",
              "    </tr>\n",
              "  </tbody>\n",
              "</table>\n",
              "</div><br><label><b>dtype:</b> object</label>"
            ],
            "text/plain": [
              "title                    object\n",
              "commentCount            float64\n",
              "dislikeCount            float64\n",
              "likeCount               float64\n",
              "music_style              object\n",
              "performer                object\n",
              "viewCount               float64\n",
              "commentators_uniq       float64\n",
              "comments_obscene_cnt    float64\n",
              "video_age                 int64\n",
              "dtype: object"
            ]
          },
          "execution_count": 19,
          "metadata": {},
          "output_type": "execute_result"
        }
      ],
      "source": [
        "df.dtypes"
      ]
    },
    {
      "cell_type": "code",
      "execution_count": 55,
      "metadata": {
        "colab": {
          "base_uri": "https://localhost:8080/",
          "height": 300
        },
        "id": "tuH7n0a3e1qp",
        "outputId": "4ac4beef-99a2-4a43-ffb0-a0ac4c71a567"
      },
      "outputs": [
        {
          "data": {
            "application/vnd.google.colaboratory.intrinsic+json": {
              "summary": "{\n  \"name\": \"df\",\n  \"rows\": 8,\n  \"fields\": [\n    {\n      \"column\": \"commentCount\",\n      \"properties\": {\n        \"dtype\": \"number\",\n        \"std\": 106164.07883001988,\n        \"min\": 0.0,\n        \"max\": 303077.0,\n        \"num_unique_values\": 7,\n        \"samples\": [\n          18914.0,\n          394.02606534841914,\n          35.0\n        ],\n        \"semantic_type\": \"\",\n        \"description\": \"\"\n      }\n    },\n    {\n      \"column\": \"dislikeCount\",\n      \"properties\": {\n        \"dtype\": \"number\",\n        \"std\": 225159.81853497782,\n        \"min\": 0.0,\n        \"max\": 640698.0,\n        \"num_unique_values\": 8,\n        \"samples\": [\n          745.3442970822281,\n          5.0,\n          18850.0\n        ],\n        \"semantic_type\": \"\",\n        \"description\": \"\"\n      }\n    },\n    {\n      \"column\": \"likeCount\",\n      \"properties\": {\n        \"dtype\": \"number\",\n        \"std\": 593290.6797857354,\n        \"min\": 0.0,\n        \"max\": 1686810.0,\n        \"num_unique_values\": 8,\n        \"samples\": [\n          5735.014482758621,\n          100.0,\n          18850.0\n        ],\n        \"semantic_type\": \"\",\n        \"description\": \"\"\n      }\n    },\n    {\n      \"column\": \"viewCount\",\n      \"properties\": {\n        \"dtype\": \"number\",\n        \"std\": 95837815.11923654,\n        \"min\": 0.0,\n        \"max\": 272047706.0,\n        \"num_unique_values\": 8,\n        \"samples\": [\n          843648.5919050358,\n          11353.0,\n          19123.0\n        ],\n        \"semantic_type\": \"\",\n        \"description\": \"\"\n      }\n    },\n    {\n      \"column\": \"commentators_uniq\",\n      \"properties\": {\n        \"dtype\": \"number\",\n        \"std\": 4329.169504560591,\n        \"min\": 1.0,\n        \"max\": 12314.0,\n        \"num_unique_values\": 8,\n        \"samples\": [\n          131.5946077635212,\n          13.0,\n          12314.0\n        ],\n        \"semantic_type\": \"\",\n        \"description\": \"\"\n      }\n    },\n    {\n      \"column\": \"comments_obscene_cnt\",\n      \"properties\": {\n        \"dtype\": \"number\",\n        \"std\": 4322.8544162094795,\n        \"min\": 0.0,\n        \"max\": 12314.0,\n        \"num_unique_values\": 6,\n        \"samples\": [\n          12314.0,\n          8.952899139191164,\n          693.0\n        ],\n        \"semantic_type\": \"\",\n        \"description\": \"\"\n      }\n    },\n    {\n      \"column\": \"video_age\",\n      \"properties\": {\n        \"dtype\": \"number\",\n        \"std\": 6370.607814351861,\n        \"min\": 0.0,\n        \"max\": 19124.0,\n        \"num_unique_values\": 8,\n        \"samples\": [\n          1389.7726417067558,\n          1213.0,\n          19124.0\n        ],\n        \"semantic_type\": \"\",\n        \"description\": \"\"\n      }\n    }\n  ]\n}",
              "type": "dataframe"
            },
            "text/html": [
              "\n",
              "  <div id=\"df-4041ac34-f09d-45b5-88c6-39b8e3b6d513\" class=\"colab-df-container\">\n",
              "    <div>\n",
              "<style scoped>\n",
              "    .dataframe tbody tr th:only-of-type {\n",
              "        vertical-align: middle;\n",
              "    }\n",
              "\n",
              "    .dataframe tbody tr th {\n",
              "        vertical-align: top;\n",
              "    }\n",
              "\n",
              "    .dataframe thead th {\n",
              "        text-align: right;\n",
              "    }\n",
              "</style>\n",
              "<table border=\"1\" class=\"dataframe\">\n",
              "  <thead>\n",
              "    <tr style=\"text-align: right;\">\n",
              "      <th></th>\n",
              "      <th>commentCount</th>\n",
              "      <th>dislikeCount</th>\n",
              "      <th>likeCount</th>\n",
              "      <th>viewCount</th>\n",
              "      <th>commentators_uniq</th>\n",
              "      <th>comments_obscene_cnt</th>\n",
              "      <th>video_age</th>\n",
              "    </tr>\n",
              "  </thead>\n",
              "  <tbody>\n",
              "    <tr>\n",
              "      <th>count</th>\n",
              "      <td>18914.000000</td>\n",
              "      <td>18850.000000</td>\n",
              "      <td>1.885000e+04</td>\n",
              "      <td>1.912300e+04</td>\n",
              "      <td>12314.000000</td>\n",
              "      <td>12314.000000</td>\n",
              "      <td>19124.000000</td>\n",
              "    </tr>\n",
              "    <tr>\n",
              "      <th>mean</th>\n",
              "      <td>394.026065</td>\n",
              "      <td>745.344297</td>\n",
              "      <td>5.735014e+03</td>\n",
              "      <td>8.436486e+05</td>\n",
              "      <td>131.594608</td>\n",
              "      <td>8.952899</td>\n",
              "      <td>1389.772642</td>\n",
              "    </tr>\n",
              "    <tr>\n",
              "      <th>std</th>\n",
              "      <td>4200.463284</td>\n",
              "      <td>9339.777800</td>\n",
              "      <td>3.890303e+04</td>\n",
              "      <td>6.382348e+06</td>\n",
              "      <td>333.584804</td>\n",
              "      <td>37.887947</td>\n",
              "      <td>1054.261698</td>\n",
              "    </tr>\n",
              "    <tr>\n",
              "      <th>min</th>\n",
              "      <td>0.000000</td>\n",
              "      <td>0.000000</td>\n",
              "      <td>0.000000e+00</td>\n",
              "      <td>0.000000e+00</td>\n",
              "      <td>1.000000</td>\n",
              "      <td>0.000000</td>\n",
              "      <td>0.000000</td>\n",
              "    </tr>\n",
              "    <tr>\n",
              "      <th>25%</th>\n",
              "      <td>0.000000</td>\n",
              "      <td>1.000000</td>\n",
              "      <td>1.800000e+01</td>\n",
              "      <td>1.915000e+03</td>\n",
              "      <td>4.000000</td>\n",
              "      <td>0.000000</td>\n",
              "      <td>378.000000</td>\n",
              "    </tr>\n",
              "    <tr>\n",
              "      <th>50%</th>\n",
              "      <td>5.000000</td>\n",
              "      <td>5.000000</td>\n",
              "      <td>1.000000e+02</td>\n",
              "      <td>1.135300e+04</td>\n",
              "      <td>13.000000</td>\n",
              "      <td>0.000000</td>\n",
              "      <td>1213.000000</td>\n",
              "    </tr>\n",
              "    <tr>\n",
              "      <th>75%</th>\n",
              "      <td>35.000000</td>\n",
              "      <td>38.000000</td>\n",
              "      <td>6.367500e+02</td>\n",
              "      <td>8.180900e+04</td>\n",
              "      <td>61.000000</td>\n",
              "      <td>2.000000</td>\n",
              "      <td>2218.000000</td>\n",
              "    </tr>\n",
              "    <tr>\n",
              "      <th>max</th>\n",
              "      <td>303077.000000</td>\n",
              "      <td>640698.000000</td>\n",
              "      <td>1.686810e+06</td>\n",
              "      <td>2.720477e+08</td>\n",
              "      <td>3702.000000</td>\n",
              "      <td>693.000000</td>\n",
              "      <td>4574.000000</td>\n",
              "    </tr>\n",
              "  </tbody>\n",
              "</table>\n",
              "</div>\n",
              "    <div class=\"colab-df-buttons\">\n",
              "\n",
              "  <div class=\"colab-df-container\">\n",
              "    <button class=\"colab-df-convert\" onclick=\"convertToInteractive('df-4041ac34-f09d-45b5-88c6-39b8e3b6d513')\"\n",
              "            title=\"Convert this dataframe to an interactive table.\"\n",
              "            style=\"display:none;\">\n",
              "\n",
              "  <svg xmlns=\"http://www.w3.org/2000/svg\" height=\"24px\" viewBox=\"0 -960 960 960\">\n",
              "    <path d=\"M120-120v-720h720v720H120Zm60-500h600v-160H180v160Zm220 220h160v-160H400v160Zm0 220h160v-160H400v160ZM180-400h160v-160H180v160Zm440 0h160v-160H620v160ZM180-180h160v-160H180v160Zm440 0h160v-160H620v160Z\"/>\n",
              "  </svg>\n",
              "    </button>\n",
              "\n",
              "  <style>\n",
              "    .colab-df-container {\n",
              "      display:flex;\n",
              "      gap: 12px;\n",
              "    }\n",
              "\n",
              "    .colab-df-convert {\n",
              "      background-color: #E8F0FE;\n",
              "      border: none;\n",
              "      border-radius: 50%;\n",
              "      cursor: pointer;\n",
              "      display: none;\n",
              "      fill: #1967D2;\n",
              "      height: 32px;\n",
              "      padding: 0 0 0 0;\n",
              "      width: 32px;\n",
              "    }\n",
              "\n",
              "    .colab-df-convert:hover {\n",
              "      background-color: #E2EBFA;\n",
              "      box-shadow: 0px 1px 2px rgba(60, 64, 67, 0.3), 0px 1px 3px 1px rgba(60, 64, 67, 0.15);\n",
              "      fill: #174EA6;\n",
              "    }\n",
              "\n",
              "    .colab-df-buttons div {\n",
              "      margin-bottom: 4px;\n",
              "    }\n",
              "\n",
              "    [theme=dark] .colab-df-convert {\n",
              "      background-color: #3B4455;\n",
              "      fill: #D2E3FC;\n",
              "    }\n",
              "\n",
              "    [theme=dark] .colab-df-convert:hover {\n",
              "      background-color: #434B5C;\n",
              "      box-shadow: 0px 1px 3px 1px rgba(0, 0, 0, 0.15);\n",
              "      filter: drop-shadow(0px 1px 2px rgba(0, 0, 0, 0.3));\n",
              "      fill: #FFFFFF;\n",
              "    }\n",
              "  </style>\n",
              "\n",
              "    <script>\n",
              "      const buttonEl =\n",
              "        document.querySelector('#df-4041ac34-f09d-45b5-88c6-39b8e3b6d513 button.colab-df-convert');\n",
              "      buttonEl.style.display =\n",
              "        google.colab.kernel.accessAllowed ? 'block' : 'none';\n",
              "\n",
              "      async function convertToInteractive(key) {\n",
              "        const element = document.querySelector('#df-4041ac34-f09d-45b5-88c6-39b8e3b6d513');\n",
              "        const dataTable =\n",
              "          await google.colab.kernel.invokeFunction('convertToInteractive',\n",
              "                                                    [key], {});\n",
              "        if (!dataTable) return;\n",
              "\n",
              "        const docLinkHtml = 'Like what you see? Visit the ' +\n",
              "          '<a target=\"_blank\" href=https://colab.research.google.com/notebooks/data_table.ipynb>data table notebook</a>'\n",
              "          + ' to learn more about interactive tables.';\n",
              "        element.innerHTML = '';\n",
              "        dataTable['output_type'] = 'display_data';\n",
              "        await google.colab.output.renderOutput(dataTable, element);\n",
              "        const docLink = document.createElement('div');\n",
              "        docLink.innerHTML = docLinkHtml;\n",
              "        element.appendChild(docLink);\n",
              "      }\n",
              "    </script>\n",
              "  </div>\n",
              "\n",
              "\n",
              "<div id=\"df-d703bb4e-1abd-455d-aab2-fb82e2ec3817\">\n",
              "  <button class=\"colab-df-quickchart\" onclick=\"quickchart('df-d703bb4e-1abd-455d-aab2-fb82e2ec3817')\"\n",
              "            title=\"Suggest charts\"\n",
              "            style=\"display:none;\">\n",
              "\n",
              "<svg xmlns=\"http://www.w3.org/2000/svg\" height=\"24px\"viewBox=\"0 0 24 24\"\n",
              "     width=\"24px\">\n",
              "    <g>\n",
              "        <path d=\"M19 3H5c-1.1 0-2 .9-2 2v14c0 1.1.9 2 2 2h14c1.1 0 2-.9 2-2V5c0-1.1-.9-2-2-2zM9 17H7v-7h2v7zm4 0h-2V7h2v10zm4 0h-2v-4h2v4z\"/>\n",
              "    </g>\n",
              "</svg>\n",
              "  </button>\n",
              "\n",
              "<style>\n",
              "  .colab-df-quickchart {\n",
              "      --bg-color: #E8F0FE;\n",
              "      --fill-color: #1967D2;\n",
              "      --hover-bg-color: #E2EBFA;\n",
              "      --hover-fill-color: #174EA6;\n",
              "      --disabled-fill-color: #AAA;\n",
              "      --disabled-bg-color: #DDD;\n",
              "  }\n",
              "\n",
              "  [theme=dark] .colab-df-quickchart {\n",
              "      --bg-color: #3B4455;\n",
              "      --fill-color: #D2E3FC;\n",
              "      --hover-bg-color: #434B5C;\n",
              "      --hover-fill-color: #FFFFFF;\n",
              "      --disabled-bg-color: #3B4455;\n",
              "      --disabled-fill-color: #666;\n",
              "  }\n",
              "\n",
              "  .colab-df-quickchart {\n",
              "    background-color: var(--bg-color);\n",
              "    border: none;\n",
              "    border-radius: 50%;\n",
              "    cursor: pointer;\n",
              "    display: none;\n",
              "    fill: var(--fill-color);\n",
              "    height: 32px;\n",
              "    padding: 0;\n",
              "    width: 32px;\n",
              "  }\n",
              "\n",
              "  .colab-df-quickchart:hover {\n",
              "    background-color: var(--hover-bg-color);\n",
              "    box-shadow: 0 1px 2px rgba(60, 64, 67, 0.3), 0 1px 3px 1px rgba(60, 64, 67, 0.15);\n",
              "    fill: var(--button-hover-fill-color);\n",
              "  }\n",
              "\n",
              "  .colab-df-quickchart-complete:disabled,\n",
              "  .colab-df-quickchart-complete:disabled:hover {\n",
              "    background-color: var(--disabled-bg-color);\n",
              "    fill: var(--disabled-fill-color);\n",
              "    box-shadow: none;\n",
              "  }\n",
              "\n",
              "  .colab-df-spinner {\n",
              "    border: 2px solid var(--fill-color);\n",
              "    border-color: transparent;\n",
              "    border-bottom-color: var(--fill-color);\n",
              "    animation:\n",
              "      spin 1s steps(1) infinite;\n",
              "  }\n",
              "\n",
              "  @keyframes spin {\n",
              "    0% {\n",
              "      border-color: transparent;\n",
              "      border-bottom-color: var(--fill-color);\n",
              "      border-left-color: var(--fill-color);\n",
              "    }\n",
              "    20% {\n",
              "      border-color: transparent;\n",
              "      border-left-color: var(--fill-color);\n",
              "      border-top-color: var(--fill-color);\n",
              "    }\n",
              "    30% {\n",
              "      border-color: transparent;\n",
              "      border-left-color: var(--fill-color);\n",
              "      border-top-color: var(--fill-color);\n",
              "      border-right-color: var(--fill-color);\n",
              "    }\n",
              "    40% {\n",
              "      border-color: transparent;\n",
              "      border-right-color: var(--fill-color);\n",
              "      border-top-color: var(--fill-color);\n",
              "    }\n",
              "    60% {\n",
              "      border-color: transparent;\n",
              "      border-right-color: var(--fill-color);\n",
              "    }\n",
              "    80% {\n",
              "      border-color: transparent;\n",
              "      border-right-color: var(--fill-color);\n",
              "      border-bottom-color: var(--fill-color);\n",
              "    }\n",
              "    90% {\n",
              "      border-color: transparent;\n",
              "      border-bottom-color: var(--fill-color);\n",
              "    }\n",
              "  }\n",
              "</style>\n",
              "\n",
              "  <script>\n",
              "    async function quickchart(key) {\n",
              "      const quickchartButtonEl =\n",
              "        document.querySelector('#' + key + ' button');\n",
              "      quickchartButtonEl.disabled = true;  // To prevent multiple clicks.\n",
              "      quickchartButtonEl.classList.add('colab-df-spinner');\n",
              "      try {\n",
              "        const charts = await google.colab.kernel.invokeFunction(\n",
              "            'suggestCharts', [key], {});\n",
              "      } catch (error) {\n",
              "        console.error('Error during call to suggestCharts:', error);\n",
              "      }\n",
              "      quickchartButtonEl.classList.remove('colab-df-spinner');\n",
              "      quickchartButtonEl.classList.add('colab-df-quickchart-complete');\n",
              "    }\n",
              "    (() => {\n",
              "      let quickchartButtonEl =\n",
              "        document.querySelector('#df-d703bb4e-1abd-455d-aab2-fb82e2ec3817 button');\n",
              "      quickchartButtonEl.style.display =\n",
              "        google.colab.kernel.accessAllowed ? 'block' : 'none';\n",
              "    })();\n",
              "  </script>\n",
              "</div>\n",
              "    </div>\n",
              "  </div>\n"
            ],
            "text/plain": [
              "        commentCount   dislikeCount     likeCount     viewCount  \\\n",
              "count   18914.000000   18850.000000  1.885000e+04  1.912300e+04   \n",
              "mean      394.026065     745.344297  5.735014e+03  8.436486e+05   \n",
              "std      4200.463284    9339.777800  3.890303e+04  6.382348e+06   \n",
              "min         0.000000       0.000000  0.000000e+00  0.000000e+00   \n",
              "25%         0.000000       1.000000  1.800000e+01  1.915000e+03   \n",
              "50%         5.000000       5.000000  1.000000e+02  1.135300e+04   \n",
              "75%        35.000000      38.000000  6.367500e+02  8.180900e+04   \n",
              "max    303077.000000  640698.000000  1.686810e+06  2.720477e+08   \n",
              "\n",
              "       commentators_uniq  comments_obscene_cnt     video_age  \n",
              "count       12314.000000          12314.000000  19124.000000  \n",
              "mean          131.594608              8.952899   1389.772642  \n",
              "std           333.584804             37.887947   1054.261698  \n",
              "min             1.000000              0.000000      0.000000  \n",
              "25%             4.000000              0.000000    378.000000  \n",
              "50%            13.000000              0.000000   1213.000000  \n",
              "75%            61.000000              2.000000   2218.000000  \n",
              "max          3702.000000            693.000000   4574.000000  "
            ]
          },
          "execution_count": 55,
          "metadata": {},
          "output_type": "execute_result"
        }
      ],
      "source": [
        "df.describe()"
      ]
    },
    {
      "cell_type": "code",
      "execution_count": 27,
      "metadata": {
        "colab": {
          "base_uri": "https://localhost:8080/",
          "height": 458
        },
        "id": "5d980_fybI6o",
        "outputId": "d5fb0499-9bfd-46dd-d8b6-72ec55960ac2"
      },
      "outputs": [
        {
          "data": {
            "text/html": [
              "<div>\n",
              "<style scoped>\n",
              "    .dataframe tbody tr th:only-of-type {\n",
              "        vertical-align: middle;\n",
              "    }\n",
              "\n",
              "    .dataframe tbody tr th {\n",
              "        vertical-align: top;\n",
              "    }\n",
              "\n",
              "    .dataframe thead th {\n",
              "        text-align: right;\n",
              "    }\n",
              "</style>\n",
              "<table border=\"1\" class=\"dataframe\">\n",
              "  <thead>\n",
              "    <tr style=\"text-align: right;\">\n",
              "      <th></th>\n",
              "      <th>likeCount</th>\n",
              "    </tr>\n",
              "  </thead>\n",
              "  <tbody>\n",
              "    <tr>\n",
              "      <th>0</th>\n",
              "      <td>1402.0</td>\n",
              "    </tr>\n",
              "    <tr>\n",
              "      <th>1</th>\n",
              "      <td>10532.0</td>\n",
              "    </tr>\n",
              "    <tr>\n",
              "      <th>2</th>\n",
              "      <td>269.0</td>\n",
              "    </tr>\n",
              "    <tr>\n",
              "      <th>3</th>\n",
              "      <td>163.0</td>\n",
              "    </tr>\n",
              "    <tr>\n",
              "      <th>4</th>\n",
              "      <td>597.0</td>\n",
              "    </tr>\n",
              "    <tr>\n",
              "      <th>...</th>\n",
              "      <td>...</td>\n",
              "    </tr>\n",
              "    <tr>\n",
              "      <th>19119</th>\n",
              "      <td>11.0</td>\n",
              "    </tr>\n",
              "    <tr>\n",
              "      <th>19120</th>\n",
              "      <td>1837.0</td>\n",
              "    </tr>\n",
              "    <tr>\n",
              "      <th>19121</th>\n",
              "      <td>30603.0</td>\n",
              "    </tr>\n",
              "    <tr>\n",
              "      <th>19122</th>\n",
              "      <td>260.0</td>\n",
              "    </tr>\n",
              "    <tr>\n",
              "      <th>19123</th>\n",
              "      <td>22.0</td>\n",
              "    </tr>\n",
              "  </tbody>\n",
              "</table>\n",
              "<p>19124 rows × 1 columns</p>\n",
              "</div><br><label><b>dtype:</b> float64</label>"
            ],
            "text/plain": [
              "0         1402.0\n",
              "1        10532.0\n",
              "2          269.0\n",
              "3          163.0\n",
              "4          597.0\n",
              "          ...   \n",
              "19119       11.0\n",
              "19120     1837.0\n",
              "19121    30603.0\n",
              "19122      260.0\n",
              "19123       22.0\n",
              "Name: likeCount, Length: 19124, dtype: float64"
            ]
          },
          "execution_count": 27,
          "metadata": {},
          "output_type": "execute_result"
        }
      ],
      "source": [
        "df.likeCount"
      ]
    },
    {
      "cell_type": "code",
      "execution_count": 30,
      "metadata": {
        "colab": {
          "base_uri": "https://localhost:8080/"
        },
        "id": "zYXDSIusiGfP",
        "outputId": "fd9b9227-a0a0-4f0f-f0d4-a38b65ee8ba8"
      },
      "outputs": [
        {
          "data": {
            "text/plain": [
              "1686810.0"
            ]
          },
          "execution_count": 30,
          "metadata": {},
          "output_type": "execute_result"
        }
      ],
      "source": [
        "df.likeCount.max()"
      ]
    },
    {
      "cell_type": "code",
      "execution_count": 23,
      "metadata": {
        "colab": {
          "base_uri": "https://localhost:8080/"
        },
        "id": "e1OqBgFEa_E0",
        "outputId": "4c356afe-e5b7-4183-89a2-7d31632a4869"
      },
      "outputs": [
        {
          "data": {
            "text/plain": [
              "0.0"
            ]
          },
          "execution_count": 23,
          "metadata": {},
          "output_type": "execute_result"
        }
      ],
      "source": [
        "df.likeCount.min()"
      ]
    },
    {
      "cell_type": "code",
      "execution_count": 24,
      "metadata": {
        "colab": {
          "base_uri": "https://localhost:8080/"
        },
        "id": "3oO9X82bbC29",
        "outputId": "9c883eac-dcac-445f-cc95-ad66ba320dad"
      },
      "outputs": [
        {
          "data": {
            "text/plain": [
              "5735.014482758621"
            ]
          },
          "execution_count": 24,
          "metadata": {},
          "output_type": "execute_result"
        }
      ],
      "source": [
        "df['likeCount'].mean()"
      ]
    },
    {
      "cell_type": "code",
      "execution_count": 28,
      "metadata": {
        "colab": {
          "base_uri": "https://localhost:8080/"
        },
        "id": "hbxeomQQbXIr",
        "outputId": "3a15232d-40a8-45a0-d8eb-dd8f70dd933d"
      },
      "outputs": [
        {
          "data": {
            "text/plain": [
              "nan"
            ]
          },
          "execution_count": 28,
          "metadata": {},
          "output_type": "execute_result"
        }
      ],
      "source": [
        "np.mean(df.likeCount.values)"
      ]
    },
    {
      "cell_type": "code",
      "execution_count": 32,
      "metadata": {
        "colab": {
          "base_uri": "https://localhost:8080/",
          "height": 458
        },
        "id": "LfoYaAvRcGu4",
        "outputId": "86ed904b-8ca7-4128-a712-9d5a662cabf9"
      },
      "outputs": [
        {
          "data": {
            "text/html": [
              "<div>\n",
              "<style scoped>\n",
              "    .dataframe tbody tr th:only-of-type {\n",
              "        vertical-align: middle;\n",
              "    }\n",
              "\n",
              "    .dataframe tbody tr th {\n",
              "        vertical-align: top;\n",
              "    }\n",
              "\n",
              "    .dataframe thead th {\n",
              "        text-align: right;\n",
              "    }\n",
              "</style>\n",
              "<table border=\"1\" class=\"dataframe\">\n",
              "  <thead>\n",
              "    <tr style=\"text-align: right;\">\n",
              "      <th></th>\n",
              "      <th>likeCount</th>\n",
              "    </tr>\n",
              "  </thead>\n",
              "  <tbody>\n",
              "    <tr>\n",
              "      <th>0</th>\n",
              "      <td>False</td>\n",
              "    </tr>\n",
              "    <tr>\n",
              "      <th>1</th>\n",
              "      <td>False</td>\n",
              "    </tr>\n",
              "    <tr>\n",
              "      <th>2</th>\n",
              "      <td>False</td>\n",
              "    </tr>\n",
              "    <tr>\n",
              "      <th>3</th>\n",
              "      <td>False</td>\n",
              "    </tr>\n",
              "    <tr>\n",
              "      <th>4</th>\n",
              "      <td>False</td>\n",
              "    </tr>\n",
              "    <tr>\n",
              "      <th>...</th>\n",
              "      <td>...</td>\n",
              "    </tr>\n",
              "    <tr>\n",
              "      <th>19119</th>\n",
              "      <td>False</td>\n",
              "    </tr>\n",
              "    <tr>\n",
              "      <th>19120</th>\n",
              "      <td>False</td>\n",
              "    </tr>\n",
              "    <tr>\n",
              "      <th>19121</th>\n",
              "      <td>False</td>\n",
              "    </tr>\n",
              "    <tr>\n",
              "      <th>19122</th>\n",
              "      <td>False</td>\n",
              "    </tr>\n",
              "    <tr>\n",
              "      <th>19123</th>\n",
              "      <td>False</td>\n",
              "    </tr>\n",
              "  </tbody>\n",
              "</table>\n",
              "<p>19124 rows × 1 columns</p>\n",
              "</div><br><label><b>dtype:</b> bool</label>"
            ],
            "text/plain": [
              "0        False\n",
              "1        False\n",
              "2        False\n",
              "3        False\n",
              "4        False\n",
              "         ...  \n",
              "19119    False\n",
              "19120    False\n",
              "19121    False\n",
              "19122    False\n",
              "19123    False\n",
              "Name: likeCount, Length: 19124, dtype: bool"
            ]
          },
          "execution_count": 32,
          "metadata": {},
          "output_type": "execute_result"
        }
      ],
      "source": [
        "mx = df.likeCount.max()\n",
        "df['likeCount'] == mx"
      ]
    },
    {
      "cell_type": "code",
      "execution_count": 34,
      "metadata": {
        "colab": {
          "base_uri": "https://localhost:8080/",
          "height": 81
        },
        "id": "ERmjn3PjcWWs",
        "outputId": "ac67ea1e-6285-49b8-deaf-f9eb020ba710"
      },
      "outputs": [
        {
          "data": {
            "application/vnd.google.colaboratory.intrinsic+json": {
              "summary": "{\n  \"name\": \"df[df\",\n  \"rows\": 1,\n  \"fields\": [\n    {\n      \"column\": \"title\",\n      \"properties\": {\n        \"dtype\": \"string\",\n        \"num_unique_values\": 1,\n        \"samples\": [\n          \"\\u042d\\u043b\\u0434\\u0436\\u0435\\u0439 & Feduk - \\u0420\\u043e\\u0437\\u043e\\u0432\\u043e\\u0435 \\u0432\\u0438\\u043d\\u043e\"\n        ],\n        \"semantic_type\": \"\",\n        \"description\": \"\"\n      }\n    },\n    {\n      \"column\": \"commentCount\",\n      \"properties\": {\n        \"dtype\": \"number\",\n        \"std\": null,\n        \"min\": 191702.0,\n        \"max\": 191702.0,\n        \"num_unique_values\": 1,\n        \"samples\": [\n          191702.0\n        ],\n        \"semantic_type\": \"\",\n        \"description\": \"\"\n      }\n    },\n    {\n      \"column\": \"dislikeCount\",\n      \"properties\": {\n        \"dtype\": \"number\",\n        \"std\": null,\n        \"min\": 151772.0,\n        \"max\": 151772.0,\n        \"num_unique_values\": 1,\n        \"samples\": [\n          151772.0\n        ],\n        \"semantic_type\": \"\",\n        \"description\": \"\"\n      }\n    },\n    {\n      \"column\": \"likeCount\",\n      \"properties\": {\n        \"dtype\": \"number\",\n        \"std\": null,\n        \"min\": 1686810.0,\n        \"max\": 1686810.0,\n        \"num_unique_values\": 1,\n        \"samples\": [\n          1686810.0\n        ],\n        \"semantic_type\": \"\",\n        \"description\": \"\"\n      }\n    },\n    {\n      \"column\": \"music_style\",\n      \"properties\": {\n        \"dtype\": \"string\",\n        \"num_unique_values\": 1,\n        \"samples\": [\n          \"rap\"\n        ],\n        \"semantic_type\": \"\",\n        \"description\": \"\"\n      }\n    },\n    {\n      \"column\": \"performer\",\n      \"properties\": {\n        \"dtype\": \"string\",\n        \"num_unique_values\": 1,\n        \"samples\": [\n          \"feduk\"\n        ],\n        \"semantic_type\": \"\",\n        \"description\": \"\"\n      }\n    },\n    {\n      \"column\": \"viewCount\",\n      \"properties\": {\n        \"dtype\": \"number\",\n        \"std\": null,\n        \"min\": 208753182.0,\n        \"max\": 208753182.0,\n        \"num_unique_values\": 1,\n        \"samples\": [\n          208753182.0\n        ],\n        \"semantic_type\": \"\",\n        \"description\": \"\"\n      }\n    },\n    {\n      \"column\": \"commentators_uniq\",\n      \"properties\": {\n        \"dtype\": \"number\",\n        \"std\": null,\n        \"min\": 3702.0,\n        \"max\": 3702.0,\n        \"num_unique_values\": 1,\n        \"samples\": [\n          3702.0\n        ],\n        \"semantic_type\": \"\",\n        \"description\": \"\"\n      }\n    },\n    {\n      \"column\": \"comments_obscene_cnt\",\n      \"properties\": {\n        \"dtype\": \"number\",\n        \"std\": null,\n        \"min\": 183.0,\n        \"max\": 183.0,\n        \"num_unique_values\": 1,\n        \"samples\": [\n          183.0\n        ],\n        \"semantic_type\": \"\",\n        \"description\": \"\"\n      }\n    },\n    {\n      \"column\": \"video_age\",\n      \"properties\": {\n        \"dtype\": \"number\",\n        \"std\": null,\n        \"min\": 485,\n        \"max\": 485,\n        \"num_unique_values\": 1,\n        \"samples\": [\n          485\n        ],\n        \"semantic_type\": \"\",\n        \"description\": \"\"\n      }\n    }\n  ]\n}",
              "type": "dataframe"
            },
            "text/html": [
              "\n",
              "  <div id=\"df-a12397f2-706a-4dce-b7eb-d2dfae955901\" class=\"colab-df-container\">\n",
              "    <div>\n",
              "<style scoped>\n",
              "    .dataframe tbody tr th:only-of-type {\n",
              "        vertical-align: middle;\n",
              "    }\n",
              "\n",
              "    .dataframe tbody tr th {\n",
              "        vertical-align: top;\n",
              "    }\n",
              "\n",
              "    .dataframe thead th {\n",
              "        text-align: right;\n",
              "    }\n",
              "</style>\n",
              "<table border=\"1\" class=\"dataframe\">\n",
              "  <thead>\n",
              "    <tr style=\"text-align: right;\">\n",
              "      <th></th>\n",
              "      <th>title</th>\n",
              "      <th>commentCount</th>\n",
              "      <th>dislikeCount</th>\n",
              "      <th>likeCount</th>\n",
              "      <th>music_style</th>\n",
              "      <th>performer</th>\n",
              "      <th>viewCount</th>\n",
              "      <th>commentators_uniq</th>\n",
              "      <th>comments_obscene_cnt</th>\n",
              "      <th>video_age</th>\n",
              "    </tr>\n",
              "  </thead>\n",
              "  <tbody>\n",
              "    <tr>\n",
              "      <th>18649</th>\n",
              "      <td>Элджей &amp; Feduk - Розовое вино</td>\n",
              "      <td>191702.0</td>\n",
              "      <td>151772.0</td>\n",
              "      <td>1686810.0</td>\n",
              "      <td>rap</td>\n",
              "      <td>feduk</td>\n",
              "      <td>208753182.0</td>\n",
              "      <td>3702.0</td>\n",
              "      <td>183.0</td>\n",
              "      <td>485</td>\n",
              "    </tr>\n",
              "  </tbody>\n",
              "</table>\n",
              "</div>\n",
              "    <div class=\"colab-df-buttons\">\n",
              "\n",
              "  <div class=\"colab-df-container\">\n",
              "    <button class=\"colab-df-convert\" onclick=\"convertToInteractive('df-a12397f2-706a-4dce-b7eb-d2dfae955901')\"\n",
              "            title=\"Convert this dataframe to an interactive table.\"\n",
              "            style=\"display:none;\">\n",
              "\n",
              "  <svg xmlns=\"http://www.w3.org/2000/svg\" height=\"24px\" viewBox=\"0 -960 960 960\">\n",
              "    <path d=\"M120-120v-720h720v720H120Zm60-500h600v-160H180v160Zm220 220h160v-160H400v160Zm0 220h160v-160H400v160ZM180-400h160v-160H180v160Zm440 0h160v-160H620v160ZM180-180h160v-160H180v160Zm440 0h160v-160H620v160Z\"/>\n",
              "  </svg>\n",
              "    </button>\n",
              "\n",
              "  <style>\n",
              "    .colab-df-container {\n",
              "      display:flex;\n",
              "      gap: 12px;\n",
              "    }\n",
              "\n",
              "    .colab-df-convert {\n",
              "      background-color: #E8F0FE;\n",
              "      border: none;\n",
              "      border-radius: 50%;\n",
              "      cursor: pointer;\n",
              "      display: none;\n",
              "      fill: #1967D2;\n",
              "      height: 32px;\n",
              "      padding: 0 0 0 0;\n",
              "      width: 32px;\n",
              "    }\n",
              "\n",
              "    .colab-df-convert:hover {\n",
              "      background-color: #E2EBFA;\n",
              "      box-shadow: 0px 1px 2px rgba(60, 64, 67, 0.3), 0px 1px 3px 1px rgba(60, 64, 67, 0.15);\n",
              "      fill: #174EA6;\n",
              "    }\n",
              "\n",
              "    .colab-df-buttons div {\n",
              "      margin-bottom: 4px;\n",
              "    }\n",
              "\n",
              "    [theme=dark] .colab-df-convert {\n",
              "      background-color: #3B4455;\n",
              "      fill: #D2E3FC;\n",
              "    }\n",
              "\n",
              "    [theme=dark] .colab-df-convert:hover {\n",
              "      background-color: #434B5C;\n",
              "      box-shadow: 0px 1px 3px 1px rgba(0, 0, 0, 0.15);\n",
              "      filter: drop-shadow(0px 1px 2px rgba(0, 0, 0, 0.3));\n",
              "      fill: #FFFFFF;\n",
              "    }\n",
              "  </style>\n",
              "\n",
              "    <script>\n",
              "      const buttonEl =\n",
              "        document.querySelector('#df-a12397f2-706a-4dce-b7eb-d2dfae955901 button.colab-df-convert');\n",
              "      buttonEl.style.display =\n",
              "        google.colab.kernel.accessAllowed ? 'block' : 'none';\n",
              "\n",
              "      async function convertToInteractive(key) {\n",
              "        const element = document.querySelector('#df-a12397f2-706a-4dce-b7eb-d2dfae955901');\n",
              "        const dataTable =\n",
              "          await google.colab.kernel.invokeFunction('convertToInteractive',\n",
              "                                                    [key], {});\n",
              "        if (!dataTable) return;\n",
              "\n",
              "        const docLinkHtml = 'Like what you see? Visit the ' +\n",
              "          '<a target=\"_blank\" href=https://colab.research.google.com/notebooks/data_table.ipynb>data table notebook</a>'\n",
              "          + ' to learn more about interactive tables.';\n",
              "        element.innerHTML = '';\n",
              "        dataTable['output_type'] = 'display_data';\n",
              "        await google.colab.output.renderOutput(dataTable, element);\n",
              "        const docLink = document.createElement('div');\n",
              "        docLink.innerHTML = docLinkHtml;\n",
              "        element.appendChild(docLink);\n",
              "      }\n",
              "    </script>\n",
              "  </div>\n",
              "\n",
              "    </div>\n",
              "  </div>\n"
            ],
            "text/plain": [
              "                               title  commentCount  dislikeCount  likeCount  \\\n",
              "18649  Элджей & Feduk - Розовое вино      191702.0      151772.0  1686810.0   \n",
              "\n",
              "      music_style performer    viewCount  commentators_uniq  \\\n",
              "18649         rap     feduk  208753182.0             3702.0   \n",
              "\n",
              "       comments_obscene_cnt  video_age  \n",
              "18649                 183.0        485  "
            ]
          },
          "execution_count": 34,
          "metadata": {},
          "output_type": "execute_result"
        }
      ],
      "source": [
        "df[df.likeCount == mx]"
      ]
    },
    {
      "cell_type": "code",
      "execution_count": 39,
      "metadata": {
        "colab": {
          "base_uri": "https://localhost:8080/",
          "height": 424
        },
        "id": "X508xAKZcoML",
        "outputId": "af071b26-62c2-47c8-ef5d-6b80e51884a0"
      },
      "outputs": [
        {
          "data": {
            "application/vnd.google.colaboratory.intrinsic+json": {
              "summary": "{\n  \"name\": \"df[df\",\n  \"rows\": 17096,\n  \"fields\": [\n    {\n      \"column\": \"title\",\n      \"properties\": {\n        \"dtype\": \"string\",\n        \"num_unique_values\": 16047,\n        \"samples\": [\n          \"\\u041d\\u043e\\u0447\\u043d\\u0430\\u044f \\u043f\\u044c\\u0435\\u0441\\u0430 (\\u0415\\u0434\\u0438\\u043d\\u043e\\u0447\\u0435\\u0441\\u0442\\u0432\\u043e. \\u0427\\u0430\\u0441\\u0442\\u044c I)\",\n          \"\\u041c\\u0438\\u0445\\u0430\\u0438\\u043b \\u0428\\u0443\\u0444\\u0443\\u0442\\u0438\\u043d\\u0441\\u043a\\u0438\\u0439   \\u041f\\u043e\\u0440\\u0443\\u0431\\u0430\\u0435\\u043c \\u0432 \\u043a\\u0430\\u043f\\u0443\\u0441\\u0442\\u0443\",\n          \"\\u041a\\u0430\\u043a \\u044d\\u0442\\u043e \\u0431\\u044b\\u043b\\u043e. \\u0421\\u043b\\u0451\\u0442 \\u0430\\u043d\\u0433\\u0435\\u043b\\u043e\\u0432!!!\"\n        ],\n        \"semantic_type\": \"\",\n        \"description\": \"\"\n      }\n    },\n    {\n      \"column\": \"commentCount\",\n      \"properties\": {\n        \"dtype\": \"number\",\n        \"std\": 1535.749306430319,\n        \"min\": 0.0,\n        \"max\": 68356.0,\n        \"num_unique_values\": 1135,\n        \"samples\": [\n          1670.0,\n          452.0,\n          174.0\n        ],\n        \"semantic_type\": \"\",\n        \"description\": \"\"\n      }\n    },\n    {\n      \"column\": \"dislikeCount\",\n      \"properties\": {\n        \"dtype\": \"number\",\n        \"std\": 4461.095123472246,\n        \"min\": 0.0,\n        \"max\": 348770.0,\n        \"num_unique_values\": 1204,\n        \"samples\": [\n          17.0,\n          369.0,\n          2504.0\n        ],\n        \"semantic_type\": \"\",\n        \"description\": \"\"\n      }\n    },\n    {\n      \"column\": \"likeCount\",\n      \"properties\": {\n        \"dtype\": \"number\",\n        \"std\": 24148.57825536963,\n        \"min\": 0.0,\n        \"max\": 849676.0,\n        \"num_unique_values\": 3227,\n        \"samples\": [\n          8680.0,\n          215.0,\n          1089.0\n        ],\n        \"semantic_type\": \"\",\n        \"description\": \"\"\n      }\n    },\n    {\n      \"column\": \"music_style\",\n      \"properties\": {\n        \"dtype\": \"category\",\n        \"num_unique_values\": 6,\n        \"samples\": [\n          \"popsa\",\n          \"rock\",\n          \"shanson\"\n        ],\n        \"semantic_type\": \"\",\n        \"description\": \"\"\n      }\n    },\n    {\n      \"column\": \"performer\",\n      \"properties\": {\n        \"dtype\": \"category\",\n        \"num_unique_values\": 95,\n        \"samples\": [\n          \"\\u0433\\u0440\\u0430\\u0434\\u0443\\u0441\\u044b\",\n          \"\\u0437\\u0432\\u0435\\u0440\\u0438\",\n          \"\\u0431\\u0443\\u0442\\u044b\\u0440\\u043a\\u0430\"\n        ],\n        \"semantic_type\": \"\",\n        \"description\": \"\"\n      }\n    },\n    {\n      \"column\": \"viewCount\",\n      \"properties\": {\n        \"dtype\": \"number\",\n        \"std\": 4749708.86440688,\n        \"min\": 1.0,\n        \"max\": 196812152.0,\n        \"num_unique_values\": 12628,\n        \"samples\": [\n          11770.0,\n          31574.0,\n          192228.0\n        ],\n        \"semantic_type\": \"\",\n        \"description\": \"\"\n      }\n    },\n    {\n      \"column\": \"commentators_uniq\",\n      \"properties\": {\n        \"dtype\": \"number\",\n        \"std\": 236.86092778710244,\n        \"min\": 1.0,\n        \"max\": 2068.0,\n        \"num_unique_values\": 765,\n        \"samples\": [\n          420.0,\n          170.0,\n          402.0\n        ],\n        \"semantic_type\": \"\",\n        \"description\": \"\"\n      }\n    },\n    {\n      \"column\": \"comments_obscene_cnt\",\n      \"properties\": {\n        \"dtype\": \"number\",\n        \"std\": 19.220678589028243,\n        \"min\": 0.0,\n        \"max\": 605.0,\n        \"num_unique_values\": 141,\n        \"samples\": [\n          38.0,\n          203.0,\n          27.0\n        ],\n        \"semantic_type\": \"\",\n        \"description\": \"\"\n      }\n    },\n    {\n      \"column\": \"video_age\",\n      \"properties\": {\n        \"dtype\": \"number\",\n        \"std\": 1057,\n        \"min\": 0,\n        \"max\": 4574,\n        \"num_unique_values\": 3149,\n        \"samples\": [\n          2465,\n          1219,\n          4018\n        ],\n        \"semantic_type\": \"\",\n        \"description\": \"\"\n      }\n    }\n  ]\n}",
              "type": "dataframe"
            },
            "text/html": [
              "\n",
              "  <div id=\"df-a27af57d-5945-4c98-a9cf-4078d824650e\" class=\"colab-df-container\">\n",
              "    <div>\n",
              "<style scoped>\n",
              "    .dataframe tbody tr th:only-of-type {\n",
              "        vertical-align: middle;\n",
              "    }\n",
              "\n",
              "    .dataframe tbody tr th {\n",
              "        vertical-align: top;\n",
              "    }\n",
              "\n",
              "    .dataframe thead th {\n",
              "        text-align: right;\n",
              "    }\n",
              "</style>\n",
              "<table border=\"1\" class=\"dataframe\">\n",
              "  <thead>\n",
              "    <tr style=\"text-align: right;\">\n",
              "      <th></th>\n",
              "      <th>title</th>\n",
              "      <th>commentCount</th>\n",
              "      <th>dislikeCount</th>\n",
              "      <th>likeCount</th>\n",
              "      <th>music_style</th>\n",
              "      <th>performer</th>\n",
              "      <th>viewCount</th>\n",
              "      <th>commentators_uniq</th>\n",
              "      <th>comments_obscene_cnt</th>\n",
              "      <th>video_age</th>\n",
              "    </tr>\n",
              "  </thead>\n",
              "  <tbody>\n",
              "    <tr>\n",
              "      <th>0</th>\n",
              "      <td>\"#2Маши \"Свободные линии\"</td>\n",
              "      <td>34.0</td>\n",
              "      <td>43.0</td>\n",
              "      <td>1402.0</td>\n",
              "      <td>popsa</td>\n",
              "      <td>2маши</td>\n",
              "      <td>214301.0</td>\n",
              "      <td>24.0</td>\n",
              "      <td>0.0</td>\n",
              "      <td>1141</td>\n",
              "    </tr>\n",
              "    <tr>\n",
              "      <th>1</th>\n",
              "      <td>\"ALARM\" СЕРГЕЙ ЛАЗАРЕВ ( SERGEY LAZAREV )</td>\n",
              "      <td>NaN</td>\n",
              "      <td>690.0</td>\n",
              "      <td>10532.0</td>\n",
              "      <td>popsa</td>\n",
              "      <td>лазарев</td>\n",
              "      <td>2221419.0</td>\n",
              "      <td>NaN</td>\n",
              "      <td>NaN</td>\n",
              "      <td>3217</td>\n",
              "    </tr>\n",
              "    <tr>\n",
              "      <th>2</th>\n",
              "      <td>\"EARTH SONG\"  SERGEY LAZAREV. DEDICATED TO MIC...</td>\n",
              "      <td>26.0</td>\n",
              "      <td>10.0</td>\n",
              "      <td>269.0</td>\n",
              "      <td>popsa</td>\n",
              "      <td>лазарев</td>\n",
              "      <td>40327.0</td>\n",
              "      <td>23.0</td>\n",
              "      <td>0.0</td>\n",
              "      <td>3546</td>\n",
              "    </tr>\n",
              "    <tr>\n",
              "      <th>3</th>\n",
              "      <td>\"Earth song\" премия МУЗ-тВ 2010 (LIVE)</td>\n",
              "      <td>12.0</td>\n",
              "      <td>7.0</td>\n",
              "      <td>163.0</td>\n",
              "      <td>popsa</td>\n",
              "      <td>лазарев</td>\n",
              "      <td>11907.0</td>\n",
              "      <td>11.0</td>\n",
              "      <td>0.0</td>\n",
              "      <td>3189</td>\n",
              "    </tr>\n",
              "    <tr>\n",
              "      <th>4</th>\n",
              "      <td>\"FAKE\" СЕРГЕЙ ЛАЗАРЕВ (SERGEY)</td>\n",
              "      <td>46.0</td>\n",
              "      <td>19.0</td>\n",
              "      <td>597.0</td>\n",
              "      <td>popsa</td>\n",
              "      <td>лазарев</td>\n",
              "      <td>91483.0</td>\n",
              "      <td>33.0</td>\n",
              "      <td>1.0</td>\n",
              "      <td>3361</td>\n",
              "    </tr>\n",
              "    <tr>\n",
              "      <th>...</th>\n",
              "      <td>...</td>\n",
              "      <td>...</td>\n",
              "      <td>...</td>\n",
              "      <td>...</td>\n",
              "      <td>...</td>\n",
              "      <td>...</td>\n",
              "      <td>...</td>\n",
              "      <td>...</td>\n",
              "      <td>...</td>\n",
              "      <td>...</td>\n",
              "    </tr>\n",
              "    <tr>\n",
              "      <th>19118</th>\n",
              "      <td>♫♪ГОЛУБКА ♫♪ группа БУТЫРКА</td>\n",
              "      <td>1.0</td>\n",
              "      <td>1.0</td>\n",
              "      <td>46.0</td>\n",
              "      <td>shanson</td>\n",
              "      <td>бутырка</td>\n",
              "      <td>2704.0</td>\n",
              "      <td>NaN</td>\n",
              "      <td>NaN</td>\n",
              "      <td>49</td>\n",
              "    </tr>\n",
              "    <tr>\n",
              "      <th>19119</th>\n",
              "      <td>♫♪Мы расстаемся ♫♪  Бутырка new2019</td>\n",
              "      <td>2.0</td>\n",
              "      <td>0.0</td>\n",
              "      <td>11.0</td>\n",
              "      <td>shanson</td>\n",
              "      <td>бутырка</td>\n",
              "      <td>1107.0</td>\n",
              "      <td>NaN</td>\n",
              "      <td>NaN</td>\n",
              "      <td>44</td>\n",
              "    </tr>\n",
              "    <tr>\n",
              "      <th>19120</th>\n",
              "      <td>❤ 2 ЧАСА ❤ МОЦАРТ Для Младенцев - Колыбельная ...</td>\n",
              "      <td>94.0</td>\n",
              "      <td>431.0</td>\n",
              "      <td>1837.0</td>\n",
              "      <td>classic</td>\n",
              "      <td>classical_channel</td>\n",
              "      <td>391836.0</td>\n",
              "      <td>37.0</td>\n",
              "      <td>1.0</td>\n",
              "      <td>239</td>\n",
              "    </tr>\n",
              "    <tr>\n",
              "      <th>19122</th>\n",
              "      <td>舞梅鬼   -  新年好宝贝 / Mumiy Troll - Happy New Year ...</td>\n",
              "      <td>59.0</td>\n",
              "      <td>10.0</td>\n",
              "      <td>260.0</td>\n",
              "      <td>rock</td>\n",
              "      <td>мумий_тролль</td>\n",
              "      <td>10147.0</td>\n",
              "      <td>19.0</td>\n",
              "      <td>0.0</td>\n",
              "      <td>997</td>\n",
              "    </tr>\n",
              "    <tr>\n",
              "      <th>19123</th>\n",
              "      <td>🎄#премьера песни!!! 2019г(вы не спешите говори...</td>\n",
              "      <td>1.0</td>\n",
              "      <td>0.0</td>\n",
              "      <td>22.0</td>\n",
              "      <td>shanson</td>\n",
              "      <td>бутырка</td>\n",
              "      <td>1566.0</td>\n",
              "      <td>NaN</td>\n",
              "      <td>NaN</td>\n",
              "      <td>65</td>\n",
              "    </tr>\n",
              "  </tbody>\n",
              "</table>\n",
              "<p>17096 rows × 10 columns</p>\n",
              "</div>\n",
              "    <div class=\"colab-df-buttons\">\n",
              "\n",
              "  <div class=\"colab-df-container\">\n",
              "    <button class=\"colab-df-convert\" onclick=\"convertToInteractive('df-a27af57d-5945-4c98-a9cf-4078d824650e')\"\n",
              "            title=\"Convert this dataframe to an interactive table.\"\n",
              "            style=\"display:none;\">\n",
              "\n",
              "  <svg xmlns=\"http://www.w3.org/2000/svg\" height=\"24px\" viewBox=\"0 -960 960 960\">\n",
              "    <path d=\"M120-120v-720h720v720H120Zm60-500h600v-160H180v160Zm220 220h160v-160H400v160Zm0 220h160v-160H400v160ZM180-400h160v-160H180v160Zm440 0h160v-160H620v160ZM180-180h160v-160H180v160Zm440 0h160v-160H620v160Z\"/>\n",
              "  </svg>\n",
              "    </button>\n",
              "\n",
              "  <style>\n",
              "    .colab-df-container {\n",
              "      display:flex;\n",
              "      gap: 12px;\n",
              "    }\n",
              "\n",
              "    .colab-df-convert {\n",
              "      background-color: #E8F0FE;\n",
              "      border: none;\n",
              "      border-radius: 50%;\n",
              "      cursor: pointer;\n",
              "      display: none;\n",
              "      fill: #1967D2;\n",
              "      height: 32px;\n",
              "      padding: 0 0 0 0;\n",
              "      width: 32px;\n",
              "    }\n",
              "\n",
              "    .colab-df-convert:hover {\n",
              "      background-color: #E2EBFA;\n",
              "      box-shadow: 0px 1px 2px rgba(60, 64, 67, 0.3), 0px 1px 3px 1px rgba(60, 64, 67, 0.15);\n",
              "      fill: #174EA6;\n",
              "    }\n",
              "\n",
              "    .colab-df-buttons div {\n",
              "      margin-bottom: 4px;\n",
              "    }\n",
              "\n",
              "    [theme=dark] .colab-df-convert {\n",
              "      background-color: #3B4455;\n",
              "      fill: #D2E3FC;\n",
              "    }\n",
              "\n",
              "    [theme=dark] .colab-df-convert:hover {\n",
              "      background-color: #434B5C;\n",
              "      box-shadow: 0px 1px 3px 1px rgba(0, 0, 0, 0.15);\n",
              "      filter: drop-shadow(0px 1px 2px rgba(0, 0, 0, 0.3));\n",
              "      fill: #FFFFFF;\n",
              "    }\n",
              "  </style>\n",
              "\n",
              "    <script>\n",
              "      const buttonEl =\n",
              "        document.querySelector('#df-a27af57d-5945-4c98-a9cf-4078d824650e button.colab-df-convert');\n",
              "      buttonEl.style.display =\n",
              "        google.colab.kernel.accessAllowed ? 'block' : 'none';\n",
              "\n",
              "      async function convertToInteractive(key) {\n",
              "        const element = document.querySelector('#df-a27af57d-5945-4c98-a9cf-4078d824650e');\n",
              "        const dataTable =\n",
              "          await google.colab.kernel.invokeFunction('convertToInteractive',\n",
              "                                                    [key], {});\n",
              "        if (!dataTable) return;\n",
              "\n",
              "        const docLinkHtml = 'Like what you see? Visit the ' +\n",
              "          '<a target=\"_blank\" href=https://colab.research.google.com/notebooks/data_table.ipynb>data table notebook</a>'\n",
              "          + ' to learn more about interactive tables.';\n",
              "        element.innerHTML = '';\n",
              "        dataTable['output_type'] = 'display_data';\n",
              "        await google.colab.output.renderOutput(dataTable, element);\n",
              "        const docLink = document.createElement('div');\n",
              "        docLink.innerHTML = docLinkHtml;\n",
              "        element.appendChild(docLink);\n",
              "      }\n",
              "    </script>\n",
              "  </div>\n",
              "\n",
              "\n",
              "<div id=\"df-eed292fb-abca-4a09-a914-9927836ac4d1\">\n",
              "  <button class=\"colab-df-quickchart\" onclick=\"quickchart('df-eed292fb-abca-4a09-a914-9927836ac4d1')\"\n",
              "            title=\"Suggest charts\"\n",
              "            style=\"display:none;\">\n",
              "\n",
              "<svg xmlns=\"http://www.w3.org/2000/svg\" height=\"24px\"viewBox=\"0 0 24 24\"\n",
              "     width=\"24px\">\n",
              "    <g>\n",
              "        <path d=\"M19 3H5c-1.1 0-2 .9-2 2v14c0 1.1.9 2 2 2h14c1.1 0 2-.9 2-2V5c0-1.1-.9-2-2-2zM9 17H7v-7h2v7zm4 0h-2V7h2v10zm4 0h-2v-4h2v4z\"/>\n",
              "    </g>\n",
              "</svg>\n",
              "  </button>\n",
              "\n",
              "<style>\n",
              "  .colab-df-quickchart {\n",
              "      --bg-color: #E8F0FE;\n",
              "      --fill-color: #1967D2;\n",
              "      --hover-bg-color: #E2EBFA;\n",
              "      --hover-fill-color: #174EA6;\n",
              "      --disabled-fill-color: #AAA;\n",
              "      --disabled-bg-color: #DDD;\n",
              "  }\n",
              "\n",
              "  [theme=dark] .colab-df-quickchart {\n",
              "      --bg-color: #3B4455;\n",
              "      --fill-color: #D2E3FC;\n",
              "      --hover-bg-color: #434B5C;\n",
              "      --hover-fill-color: #FFFFFF;\n",
              "      --disabled-bg-color: #3B4455;\n",
              "      --disabled-fill-color: #666;\n",
              "  }\n",
              "\n",
              "  .colab-df-quickchart {\n",
              "    background-color: var(--bg-color);\n",
              "    border: none;\n",
              "    border-radius: 50%;\n",
              "    cursor: pointer;\n",
              "    display: none;\n",
              "    fill: var(--fill-color);\n",
              "    height: 32px;\n",
              "    padding: 0;\n",
              "    width: 32px;\n",
              "  }\n",
              "\n",
              "  .colab-df-quickchart:hover {\n",
              "    background-color: var(--hover-bg-color);\n",
              "    box-shadow: 0 1px 2px rgba(60, 64, 67, 0.3), 0 1px 3px 1px rgba(60, 64, 67, 0.15);\n",
              "    fill: var(--button-hover-fill-color);\n",
              "  }\n",
              "\n",
              "  .colab-df-quickchart-complete:disabled,\n",
              "  .colab-df-quickchart-complete:disabled:hover {\n",
              "    background-color: var(--disabled-bg-color);\n",
              "    fill: var(--disabled-fill-color);\n",
              "    box-shadow: none;\n",
              "  }\n",
              "\n",
              "  .colab-df-spinner {\n",
              "    border: 2px solid var(--fill-color);\n",
              "    border-color: transparent;\n",
              "    border-bottom-color: var(--fill-color);\n",
              "    animation:\n",
              "      spin 1s steps(1) infinite;\n",
              "  }\n",
              "\n",
              "  @keyframes spin {\n",
              "    0% {\n",
              "      border-color: transparent;\n",
              "      border-bottom-color: var(--fill-color);\n",
              "      border-left-color: var(--fill-color);\n",
              "    }\n",
              "    20% {\n",
              "      border-color: transparent;\n",
              "      border-left-color: var(--fill-color);\n",
              "      border-top-color: var(--fill-color);\n",
              "    }\n",
              "    30% {\n",
              "      border-color: transparent;\n",
              "      border-left-color: var(--fill-color);\n",
              "      border-top-color: var(--fill-color);\n",
              "      border-right-color: var(--fill-color);\n",
              "    }\n",
              "    40% {\n",
              "      border-color: transparent;\n",
              "      border-right-color: var(--fill-color);\n",
              "      border-top-color: var(--fill-color);\n",
              "    }\n",
              "    60% {\n",
              "      border-color: transparent;\n",
              "      border-right-color: var(--fill-color);\n",
              "    }\n",
              "    80% {\n",
              "      border-color: transparent;\n",
              "      border-right-color: var(--fill-color);\n",
              "      border-bottom-color: var(--fill-color);\n",
              "    }\n",
              "    90% {\n",
              "      border-color: transparent;\n",
              "      border-bottom-color: var(--fill-color);\n",
              "    }\n",
              "  }\n",
              "</style>\n",
              "\n",
              "  <script>\n",
              "    async function quickchart(key) {\n",
              "      const quickchartButtonEl =\n",
              "        document.querySelector('#' + key + ' button');\n",
              "      quickchartButtonEl.disabled = true;  // To prevent multiple clicks.\n",
              "      quickchartButtonEl.classList.add('colab-df-spinner');\n",
              "      try {\n",
              "        const charts = await google.colab.kernel.invokeFunction(\n",
              "            'suggestCharts', [key], {});\n",
              "      } catch (error) {\n",
              "        console.error('Error during call to suggestCharts:', error);\n",
              "      }\n",
              "      quickchartButtonEl.classList.remove('colab-df-spinner');\n",
              "      quickchartButtonEl.classList.add('colab-df-quickchart-complete');\n",
              "    }\n",
              "    (() => {\n",
              "      let quickchartButtonEl =\n",
              "        document.querySelector('#df-eed292fb-abca-4a09-a914-9927836ac4d1 button');\n",
              "      quickchartButtonEl.style.display =\n",
              "        google.colab.kernel.accessAllowed ? 'block' : 'none';\n",
              "    })();\n",
              "  </script>\n",
              "</div>\n",
              "    </div>\n",
              "  </div>\n"
            ],
            "text/plain": [
              "                                                   title  commentCount  \\\n",
              "0                              \"#2Маши \"Свободные линии\"          34.0   \n",
              "1              \"ALARM\" СЕРГЕЙ ЛАЗАРЕВ ( SERGEY LAZAREV )           NaN   \n",
              "2      \"EARTH SONG\"  SERGEY LAZAREV. DEDICATED TO MIC...          26.0   \n",
              "3                 \"Earth song\" премия МУЗ-тВ 2010 (LIVE)          12.0   \n",
              "4                         \"FAKE\" СЕРГЕЙ ЛАЗАРЕВ (SERGEY)          46.0   \n",
              "...                                                  ...           ...   \n",
              "19118                        ♫♪ГОЛУБКА ♫♪ группа БУТЫРКА           1.0   \n",
              "19119                ♫♪Мы расстаемся ♫♪  Бутырка new2019           2.0   \n",
              "19120  ❤ 2 ЧАСА ❤ МОЦАРТ Для Младенцев - Колыбельная ...          94.0   \n",
              "19122  舞梅鬼   -  新年好宝贝 / Mumiy Troll - Happy New Year ...          59.0   \n",
              "19123  🎄#премьера песни!!! 2019г(вы не спешите говори...           1.0   \n",
              "\n",
              "       dislikeCount  likeCount music_style          performer  viewCount  \\\n",
              "0              43.0     1402.0       popsa              2маши   214301.0   \n",
              "1             690.0    10532.0       popsa            лазарев  2221419.0   \n",
              "2              10.0      269.0       popsa            лазарев    40327.0   \n",
              "3               7.0      163.0       popsa            лазарев    11907.0   \n",
              "4              19.0      597.0       popsa            лазарев    91483.0   \n",
              "...             ...        ...         ...                ...        ...   \n",
              "19118           1.0       46.0     shanson            бутырка     2704.0   \n",
              "19119           0.0       11.0     shanson            бутырка     1107.0   \n",
              "19120         431.0     1837.0     classic  classical_channel   391836.0   \n",
              "19122          10.0      260.0        rock       мумий_тролль    10147.0   \n",
              "19123           0.0       22.0     shanson            бутырка     1566.0   \n",
              "\n",
              "       commentators_uniq  comments_obscene_cnt  video_age  \n",
              "0                   24.0                   0.0       1141  \n",
              "1                    NaN                   NaN       3217  \n",
              "2                   23.0                   0.0       3546  \n",
              "3                   11.0                   0.0       3189  \n",
              "4                   33.0                   1.0       3361  \n",
              "...                  ...                   ...        ...  \n",
              "19118                NaN                   NaN         49  \n",
              "19119                NaN                   NaN         44  \n",
              "19120               37.0                   1.0        239  \n",
              "19122               19.0                   0.0        997  \n",
              "19123                NaN                   NaN         65  \n",
              "\n",
              "[17096 rows x 10 columns]"
            ]
          },
          "execution_count": 39,
          "metadata": {},
          "output_type": "execute_result"
        }
      ],
      "source": [
        "df[df.music_style != 'rap']"
      ]
    },
    {
      "cell_type": "code",
      "execution_count": 46,
      "metadata": {
        "colab": {
          "base_uri": "https://localhost:8080/",
          "height": 447
        },
        "id": "-meXEXVFdBYW",
        "outputId": "24cbff67-4292-49df-8b87-58bf8e3e9f47"
      },
      "outputs": [
        {
          "data": {
            "text/plain": [
              "<Axes: >"
            ]
          },
          "execution_count": 46,
          "metadata": {},
          "output_type": "execute_result"
        },
        {
          "data": {
            "image/png": "[encoded data removed]",
            "text/plain": [
              "<Figure size 640x480 with 1 Axes>"
            ]
          },
          "metadata": {},
          "output_type": "display_data"
        }
      ],
      "source": [
        "df.music_style.hist(bins=15)"
      ]
    },
    {
      "cell_type": "code",
      "execution_count": 49,
      "metadata": {
        "colab": {
          "base_uri": "https://localhost:8080/",
          "height": 465
        },
        "id": "WBzniv3ddipA",
        "outputId": "94951d09-949f-41b9-f31c-bc147c0b8387"
      },
      "outputs": [
        {
          "data": {
            "text/plain": [
              "<Axes: >"
            ]
          },
          "execution_count": 49,
          "metadata": {},
          "output_type": "execute_result"
        },
        {
          "data": {
            "image/png": "[encoded data removed]",
            "text/plain": [
              "<Figure size 640x480 with 1 Axes>"
            ]
          },
          "metadata": {},
          "output_type": "display_data"
        }
      ],
      "source": [
        "df.likeCount.hist(bins=50, log=True)"
      ]
    },
    {
      "cell_type": "code",
      "execution_count": 50,
      "metadata": {
        "colab": {
          "base_uri": "https://localhost:8080/"
        },
        "id": "HLtZ7SBsd7w9",
        "outputId": "d656beba-1faf-4e4d-bea4-6961dfb2f125"
      },
      "outputs": [
        {
          "data": {
            "text/plain": [
              "2243.6499999999996"
            ]
          },
          "execution_count": 50,
          "metadata": {},
          "output_type": "execute_result"
        }
      ],
      "source": [
        "df.likeCount.quantile(0.85)"
      ]
    },
    {
      "cell_type": "code",
      "execution_count": 53,
      "metadata": {
        "colab": {
          "base_uri": "https://localhost:8080/",
          "height": 335
        },
        "id": "JLgnIGTDeZa9",
        "outputId": "bb1a35a7-3156-4a41-f26f-8948fc3e1494"
      },
      "outputs": [
        {
          "data": {
            "text/html": [
              "<div>\n",
              "<style scoped>\n",
              "    .dataframe tbody tr th:only-of-type {\n",
              "        vertical-align: middle;\n",
              "    }\n",
              "\n",
              "    .dataframe tbody tr th {\n",
              "        vertical-align: top;\n",
              "    }\n",
              "\n",
              "    .dataframe thead th {\n",
              "        text-align: right;\n",
              "    }\n",
              "</style>\n",
              "<table border=\"1\" class=\"dataframe\">\n",
              "  <thead>\n",
              "    <tr style=\"text-align: right;\">\n",
              "      <th></th>\n",
              "      <th>count</th>\n",
              "    </tr>\n",
              "    <tr>\n",
              "      <th>music_style</th>\n",
              "      <th></th>\n",
              "    </tr>\n",
              "  </thead>\n",
              "  <tbody>\n",
              "    <tr>\n",
              "      <th>rap</th>\n",
              "      <td>779</td>\n",
              "    </tr>\n",
              "    <tr>\n",
              "      <th>popsa</th>\n",
              "      <td>561</td>\n",
              "    </tr>\n",
              "    <tr>\n",
              "      <th>rock</th>\n",
              "      <td>247</td>\n",
              "    </tr>\n",
              "    <tr>\n",
              "      <th>estrada</th>\n",
              "      <td>131</td>\n",
              "    </tr>\n",
              "    <tr>\n",
              "      <th>indi</th>\n",
              "      <td>70</td>\n",
              "    </tr>\n",
              "    <tr>\n",
              "      <th>classic</th>\n",
              "      <td>67</td>\n",
              "    </tr>\n",
              "    <tr>\n",
              "      <th>shanson</th>\n",
              "      <td>30</td>\n",
              "    </tr>\n",
              "  </tbody>\n",
              "</table>\n",
              "</div><br><label><b>dtype:</b> int64</label>"
            ],
            "text/plain": [
              "music_style\n",
              "rap        779\n",
              "popsa      561\n",
              "rock       247\n",
              "estrada    131\n",
              "indi        70\n",
              "classic     67\n",
              "shanson     30\n",
              "Name: count, dtype: int64"
            ]
          },
          "execution_count": 53,
          "metadata": {},
          "output_type": "execute_result"
        }
      ],
      "source": [
        "smp = df[df.likeCount > df.likeCount.quantile(0.90) ].music_style\n",
        "smp.value_counts()"
      ]
    }
  ],
  "metadata": {
    "colab": {
      "provenance": []
    },
    "kernelspec": {
      "display_name": ".venv",
      "language": "python",
      "name": "python3"
    },
    "language_info": {
      "codemirror_mode": {
        "name": "ipython",
        "version": 3
      },
      "file_extension": ".py",
      "mimetype": "text/x-python",
      "name": "python",
      "nbconvert_exporter": "python",
      "pygments_lexer": "ipython3",
      "version": "3.12.3"
    }
  },
  "nbformat": 4,
  "nbformat_minor": 0
}
