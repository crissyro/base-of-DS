{
 "cells": [
  {
   "cell_type": "markdown",
   "id": "2ffda6b8-1e51-4d10-9bcd-bf0e285d7a46",
   "metadata": {},
   "source": [
    "<h1> Basic of numpy <h1>\n",
    "\n",
    "<a href='https://numpy.org/doc/stable/user/absolute_beginners.html'> numpy doc </a>"
   ]
  },
  {
   "cell_type": "markdown",
   "id": "d2e5bd9a-fa3b-48da-a80c-e89407f4e63e",
   "metadata": {},
   "source": [
    "<h2> Атрибуты массива ndim, shape, size, dtype</h2>"
   ]
  },
  {
   "cell_type": "code",
   "execution_count": 19,
   "id": "5beb67a9-68fe-4df8-a526-ed67aa654a2c",
   "metadata": {},
   "outputs": [
    {
     "name": "stdout",
     "output_type": "stream",
     "text": [
      "1 (5,) int64\n",
      "12 2 (3, 4) int8\n"
     ]
    },
    {
     "data": {
      "text/plain": [
       "True"
      ]
     },
     "execution_count": 19,
     "metadata": {},
     "output_type": "execute_result"
    },
    {
     "name": "stdout",
     "output_type": "stream",
     "text": [
      "The history saving thread hit an unexpected error (OperationalError('attempt to write a readonly database')).History will not be written to the database.\n"
     ]
    }
   ],
   "source": [
    "import numpy as np\n",
    "\n",
    "arr = np.array([1, 2, 3 , 4, 5])\n",
    "\n",
    "print(arr.ndim, arr.shape, arr.dtype)\n",
    "\n",
    "m = np.array([[1, 2, 3, 4], [5, 6, 7, 8], [9, 10, 11, 12]], dtype='int8')\n",
    "\n",
    "print(m.size, m.ndim, m.shape, m.dtype)\n",
    "\n",
    "len(m.shape) == m.ndim"
   ]
  },
  {
   "cell_type": "markdown",
   "id": "d9775bda-b30b-498f-87e0-617e992a1a3a",
   "metadata": {},
   "source": [
    "<h2> Создание базового массива np.zeros(), np.ones(), np.empty(), np.arange(), np.linspace() </h2>"
   ]
  },
  {
   "cell_type": "code",
   "execution_count": 25,
   "id": "9c87ebef-64af-4886-8672-845a1e419278",
   "metadata": {},
   "outputs": [
    {
     "name": "stdout",
     "output_type": "stream",
     "text": [
      "[0 0 0 0 0]\n",
      "['1' '1' '1' '1' '1']\n",
      "[1. 1. 1. 1. 1.]\n",
      "[2 4 6 8]\n",
      "[ 0.   2.5  5.   7.5 10. ]\n"
     ]
    }
   ],
   "source": [
    "print(np.zeros(5, dtype='int8'))\n",
    "print(np.ones(5, dtype='str'))\n",
    "\n",
    "print(np.empty(5)) #Функция empty создает массив, начальное содержимое которого случайно и зависит от состояния памяти.\n",
    "\n",
    "print(np.arange(2, 9, 2))\n",
    "\n",
    "print(np.linspace(0, 10, num=5))"
   ]
  },
  {
   "cell_type": "markdown",
   "id": "8b4f7712-7e0e-48a2-96ec-109554b29156",
   "metadata": {},
   "source": [
    "<h2> Добавление, удаление и сортировка элементов </h2>"
   ]
  },
  {
   "cell_type": "code",
   "execution_count": 26,
   "id": "2b9c7174-126a-4b75-8864-46caa38baf83",
   "metadata": {},
   "outputs": [
    {
     "data": {
      "text/plain": [
       "array([1, 2, 3, 4, 5, 6, 7, 8])"
      ]
     },
     "execution_count": 26,
     "metadata": {},
     "output_type": "execute_result"
    }
   ],
   "source": [
    "arr = np.array([2, 1, 5, 3, 7, 4, 6, 8])\n",
    "np.sort(arr)"
   ]
  },
  {
   "cell_type": "code",
   "execution_count": 27,
   "id": "ad3591ac-a50b-4958-8ef7-74d5ef759867",
   "metadata": {},
   "outputs": [
    {
     "data": {
      "text/plain": [
       "array([1, 2, 3, 4, 5, 6, 7, 8])"
      ]
     },
     "execution_count": 27,
     "metadata": {},
     "output_type": "execute_result"
    }
   ],
   "source": [
    "a = np.array([1, 2, 3, 4])\n",
    "b = np.array([5, 6, 7, 8])\n",
    "np.concatenate((a, b))"
   ]
  },
  {
   "cell_type": "code",
   "execution_count": 28,
   "id": "6b8d754b-96cd-44d2-931a-4c2e0e9fc4ac",
   "metadata": {},
   "outputs": [
    {
     "data": {
      "text/plain": [
       "array([[1, 2],\n",
       "       [3, 4],\n",
       "       [5, 6]])"
      ]
     },
     "execution_count": 28,
     "metadata": {},
     "output_type": "execute_result"
    }
   ],
   "source": [
    "x = np.array([[1, 2], [3, 4]])\n",
    "y = np.array([[5, 6]])\n",
    "np.concatenate((x, y), axis=0)\n"
   ]
  },
  {
   "cell_type": "markdown",
   "id": "8624032c-e4d0-43ac-a90a-43134c4eafc6",
   "metadata": {},
   "source": [
    "<h2>Как преобразовать одномерный массив в двумерный (как добавить новую ось в массив)</h2>"
   ]
  },
  {
   "cell_type": "markdown",
   "id": "d821f791-3f33-42cc-af69-29666a3f5548",
   "metadata": {},
   "source": [
    "Вы можете использовать np.newaxisи np.expand_dimsдля увеличения размеров существующего массива."
   ]
  },
  {
   "cell_type": "code",
   "execution_count": 32,
   "id": "ff2dbce9-3232-4dd6-9338-9c6a2f8193ef",
   "metadata": {},
   "outputs": [
    {
     "data": {
      "text/plain": [
       "array([1, 2, 3, 4, 5, 6])"
      ]
     },
     "execution_count": 32,
     "metadata": {},
     "output_type": "execute_result"
    }
   ],
   "source": [
    "a = np.array([1, 2, 3, 4, 5, 6])\n",
    "a.shape # (6, )\n",
    "a2 = a[np.newaxis, :]\n",
    "a2.shape # (1, 6)\n",
    "a"
   ]
  },
  {
   "cell_type": "code",
   "execution_count": 31,
   "id": "4293789f-1c4c-4676-aebe-e078d538ee29",
   "metadata": {},
   "outputs": [
    {
     "data": {
      "text/plain": [
       "array([[1],\n",
       "       [2],\n",
       "       [3],\n",
       "       [4],\n",
       "       [5],\n",
       "       [6]])"
      ]
     },
     "execution_count": 31,
     "metadata": {},
     "output_type": "execute_result"
    }
   ],
   "source": [
    "a = np.array([1, 2, 3, 4, 5, 6])\n",
    "a.shape # (6, )\n",
    "b = np.expand_dims(a, axis=1)\n",
    "b.shape #(6, 1)\n",
    "b"
   ]
  },
  {
   "cell_type": "markdown",
   "id": "0646a7de-69d1-4a93-a810-f891b4c08409",
   "metadata": {},
   "source": [
    "<h2>Индексация и нарезка</h2>"
   ]
  },
  {
   "cell_type": "code",
   "execution_count": 36,
   "id": "e4c99364-cced-4b15-b037-10958389524d",
   "metadata": {},
   "outputs": [
    {
     "name": "stdout",
     "output_type": "stream",
     "text": [
      "[1 2 3 4]\n",
      "[ 2  4  6  8 10 12]\n",
      "[ 3  4  5  6  7  8  9 10]\n",
      "[[False False False False]\n",
      " [ True  True  True  True]\n",
      " [ True  True  True  True]]\n"
     ]
    }
   ],
   "source": [
    "a = np.array([[1, 2, 3, 4], [5, 6, 7, 8], [9, 10, 11, 12]])\n",
    "print(a[a < 5])\n",
    "\n",
    "divisible_by_2 = a[a%2==0]\n",
    "print(divisible_by_2)\n",
    "\n",
    "c = a[(a > 2) & (a < 11)]\n",
    "print(c)\n",
    "\n",
    "five_up = (a > 5) | (a == 5)\n",
    "print(five_up)"
   ]
  },
  {
   "cell_type": "markdown",
   "id": "b1889576-0f59-4377-9508-c400d2fd1876",
   "metadata": {},
   "source": [
    "<h2>Как создать массив из существующих данных</h2>"
   ]
  },
  {
   "cell_type": "code",
   "execution_count": 37,
   "id": "f2cc8ab7-07f2-4e84-aaeb-fb1e537197ea",
   "metadata": {},
   "outputs": [
    {
     "data": {
      "text/plain": [
       "array([[1, 1],\n",
       "       [2, 2],\n",
       "       [3, 3],\n",
       "       [4, 4]])"
      ]
     },
     "execution_count": 37,
     "metadata": {},
     "output_type": "execute_result"
    }
   ],
   "source": [
    "a1 = np.array([[1, 1],\n",
    "               [2, 2]])\n",
    "\n",
    "a2 = np.array([[3, 3],\n",
    "               [4, 4]])\n",
    "\n",
    "np.vstack((a1, a2))"
   ]
  },
  {
   "cell_type": "code",
   "execution_count": 38,
   "id": "0e4f0127-2392-4579-964d-93b6d2fce368",
   "metadata": {},
   "outputs": [
    {
     "data": {
      "text/plain": [
       "array([[1, 1, 3, 3],\n",
       "       [2, 2, 4, 4]])"
      ]
     },
     "execution_count": 38,
     "metadata": {},
     "output_type": "execute_result"
    }
   ],
   "source": [
    "a1 = np.array([[1, 1],\n",
    "               [2, 2]])\n",
    "\n",
    "a2 = np.array([[3, 3],\n",
    "               [4, 4]])\n",
    "\n",
    "np.hstack((a1, a2))"
   ]
  },
  {
   "cell_type": "code",
   "execution_count": 43,
   "id": "cd05835d-69e9-43ac-86f6-11a840900a75",
   "metadata": {},
   "outputs": [
    {
     "data": {
      "text/plain": [
       "array([[ 1,  2,  3,  4,  5,  6],\n",
       "       [ 7,  8,  9, 10, 11, 12],\n",
       "       [13, 14, 15, 16, 17, 18],\n",
       "       [19, 20, 21, 22, 23, 24]])"
      ]
     },
     "execution_count": 43,
     "metadata": {},
     "output_type": "execute_result"
    }
   ],
   "source": [
    "x = np.arange(1, 25).reshape(4, 6)\n",
    "x"
   ]
  },
  {
   "cell_type": "code",
   "execution_count": 44,
   "id": "83b6ad51-7c18-4982-86e5-570c2c7bd5c5",
   "metadata": {},
   "outputs": [
    {
     "data": {
      "text/plain": [
       "[array([[ 1,  2],\n",
       "        [ 7,  8],\n",
       "        [13, 14],\n",
       "        [19, 20]]),\n",
       " array([[ 3,  4],\n",
       "        [ 9, 10],\n",
       "        [15, 16],\n",
       "        [21, 22]]),\n",
       " array([[ 5,  6],\n",
       "        [11, 12],\n",
       "        [17, 18],\n",
       "        [23, 24]])]"
      ]
     },
     "execution_count": 44,
     "metadata": {},
     "output_type": "execute_result"
    }
   ],
   "source": [
    "np.hsplit(x, 3)"
   ]
  },
  {
   "cell_type": "markdown",
   "id": "c25cbefd-c6e9-4fff-8536-0e2d7948b57f",
   "metadata": {},
   "source": [
    "<h2>Базовые операции с массивами</h2>"
   ]
  },
  {
   "cell_type": "code",
   "execution_count": 47,
   "id": "0aeed5af-c56c-44a7-94a5-99aabc154691",
   "metadata": {},
   "outputs": [
    {
     "name": "stdout",
     "output_type": "stream",
     "text": [
      "[2 3]\n",
      "[0 1]\n",
      "[1 4]\n",
      "[1. 1.]\n"
     ]
    }
   ],
   "source": [
    "data = np.array([1, 2])\n",
    "ones = np.ones(2, dtype=int)\n",
    "print(data + ones)\n",
    "print(data - ones)\n",
    "print(data * data)\n",
    "print(data / data)"
   ]
  },
  {
   "cell_type": "code",
   "execution_count": 48,
   "id": "e96ce977-1728-4fe1-8374-cd66785f52b1",
   "metadata": {},
   "outputs": [
    {
     "data": {
      "text/plain": [
       "np.int64(10)"
      ]
     },
     "execution_count": 48,
     "metadata": {},
     "output_type": "execute_result"
    }
   ],
   "source": [
    "a = np.array([1, 2, 3, 4])\n",
    "a.sum()"
   ]
  },
  {
   "cell_type": "code",
   "execution_count": 49,
   "id": "e7de63f8-8218-4391-b1b6-e94428aba965",
   "metadata": {},
   "outputs": [
    {
     "data": {
      "text/plain": [
       "array([3, 3])"
      ]
     },
     "execution_count": 49,
     "metadata": {},
     "output_type": "execute_result"
    }
   ],
   "source": [
    "b = np.array([[1, 1], [2, 2]])\n",
    "b.sum(axis=0)"
   ]
  },
  {
   "cell_type": "code",
   "execution_count": 51,
   "id": "7c480caf-32e4-476a-a8ed-f1820cdb6964",
   "metadata": {},
   "outputs": [
    {
     "data": {
      "text/plain": [
       "array([2, 4])"
      ]
     },
     "execution_count": 51,
     "metadata": {},
     "output_type": "execute_result"
    }
   ],
   "source": [
    "b.sum(axis=1)"
   ]
  },
  {
   "cell_type": "markdown",
   "id": "46df5ff8-070e-4f78-8215-eb7b83552faa",
   "metadata": {},
   "source": [
    "<h2>Трансляция</h2>"
   ]
  },
  {
   "cell_type": "code",
   "execution_count": 52,
   "id": "e873e73c-1490-4ea6-8eb7-04a10a5c432e",
   "metadata": {},
   "outputs": [
    {
     "data": {
      "text/plain": [
       "array([1.6, 3.2])"
      ]
     },
     "execution_count": 52,
     "metadata": {},
     "output_type": "execute_result"
    }
   ],
   "source": [
    "data = np.array([1.0, 2.0])\n",
    "data * 1.6"
   ]
  },
  {
   "cell_type": "code",
   "execution_count": 56,
   "id": "92d135ac-1184-40ec-b8ba-227c1179a10f",
   "metadata": {},
   "outputs": [
    {
     "data": {
      "text/plain": [
       "array([[0, 2, 2],\n",
       "       [0, 0, 2]])"
      ]
     },
     "execution_count": 56,
     "metadata": {},
     "output_type": "execute_result"
    }
   ],
   "source": [
    "data = np.array([[1, 2, 3], [4, 5, 6]])\n",
    "data * 2 #любые операции"
   ]
  },
  {
   "cell_type": "markdown",
   "id": "34b7c8dd-cf3f-4f0c-8a52-0e4b74ec3a5c",
   "metadata": {},
   "source": [
    "<h2>Генерация случайных чисел</h2>"
   ]
  },
  {
   "cell_type": "code",
   "execution_count": 59,
   "id": "cb8b0f85-b1ae-4d2b-bd3c-f21c781ec2a1",
   "metadata": {},
   "outputs": [
    {
     "data": {
      "text/plain": [
       "array([[ 7, 21, 14, 73],\n",
       "       [44, 32, 90,  6]])"
      ]
     },
     "execution_count": 59,
     "metadata": {},
     "output_type": "execute_result"
    }
   ],
   "source": [
    "rng = np.random.default_rng()\n",
    "rng.integers(100, size=(2, 4)) "
   ]
  },
  {
   "cell_type": "markdown",
   "id": "3524d9ee-67de-48fc-8671-5380d11dfedc",
   "metadata": {},
   "source": [
    "<h2>Как получить уникальные предметы и количество </h2>"
   ]
  },
  {
   "cell_type": "code",
   "execution_count": 60,
   "id": "f211e85e-cbd9-411a-bc0e-4dbdb9275785",
   "metadata": {},
   "outputs": [
    {
     "name": "stdout",
     "output_type": "stream",
     "text": [
      "[11 12 13 14 15 16 17 18 19 20]\n"
     ]
    }
   ],
   "source": [
    "a = np.array([11, 11, 12, 13, 14, 15, 16, 17, 12, 13, 11, 14, 18, 19, 20])\n",
    "unique_values = np.unique(a)\n",
    "print(unique_values)"
   ]
  },
  {
   "cell_type": "code",
   "execution_count": null,
   "id": "7da48e37-ba7c-4258-ba5b-6f9bc973a019",
   "metadata": {},
   "outputs": [],
   "source": [
    "unique_values, indices_list = np.unique(a, return_index=True) #для получения индексов уникальных элементов\n",
    "print(indices_list)"
   ]
  },
  {
   "cell_type": "markdown",
   "id": "1888e1db-d001-4a20-8602-689d8e0f2407",
   "metadata": {},
   "source": [
    "<h2>Транспонирование и изменение формы матрицы</h2>"
   ]
  },
  {
   "cell_type": "code",
   "execution_count": 62,
   "id": "4aac7818-39f4-4fe7-afa8-89be385dc648",
   "metadata": {},
   "outputs": [
    {
     "name": "stdout",
     "output_type": "stream",
     "text": [
      "[8 7 6 5 4 3 2 1]\n"
     ]
    }
   ],
   "source": [
    "arr = np.array([1, 2, 3, 4, 5, 6, 7, 8])\n",
    "reversed_arr = np.flip(arr)\n",
    "print(reversed_arr)"
   ]
  },
  {
   "cell_type": "code",
   "execution_count": 63,
   "id": "000181ff-50b7-489a-a1e0-fae49323ddb1",
   "metadata": {},
   "outputs": [
    {
     "name": "stdout",
     "output_type": "stream",
     "text": [
      "[[12 11 10  9]\n",
      " [ 8  7  6  5]\n",
      " [ 4  3  2  1]]\n"
     ]
    }
   ],
   "source": [
    "arr_2d = np.array([[1, 2, 3, 4], [5, 6, 7, 8], [9, 10, 11, 12]])\n",
    "reversed_arr = np.flip(arr_2d)\n",
    "print(reversed_arr)"
   ]
  },
  {
   "cell_type": "code",
   "execution_count": 64,
   "id": "5b5b79d9-e821-4bc3-8a2e-d32c46c94ef1",
   "metadata": {},
   "outputs": [
    {
     "name": "stdout",
     "output_type": "stream",
     "text": [
      "[[ 9 10 11 12]\n",
      " [ 5  6  7  8]\n",
      " [ 1  2  3  4]]\n"
     ]
    }
   ],
   "source": [
    "reversed_arr_rows = np.flip(arr_2d, axis=0)\n",
    "print(reversed_arr_rows)"
   ]
  },
  {
   "cell_type": "code",
   "execution_count": 65,
   "id": "beb425dc-995d-4a0f-8218-008f84e70e75",
   "metadata": {},
   "outputs": [
    {
     "name": "stdout",
     "output_type": "stream",
     "text": [
      "[[ 4  3  2  1]\n",
      " [ 8  7  6  5]\n",
      " [12 11 10  9]]\n"
     ]
    }
   ],
   "source": [
    "reversed_arr_columns = np.flip(arr_2d, axis=1)\n",
    "print(reversed_arr_columns)"
   ]
  },
  {
   "cell_type": "markdown",
   "id": "305dc4f6-b212-44c3-a88d-94aabda38d34",
   "metadata": {},
   "source": [
    "<h2>Изменение формы и выравнивание многомерных массивов</h2>"
   ]
  },
  {
   "cell_type": "code",
   "execution_count": 66,
   "id": "9f2c5ae8-9bbe-4868-acf0-6190d0f32a37",
   "metadata": {},
   "outputs": [
    {
     "data": {
      "text/plain": [
       "array([ 1,  2,  3,  4,  5,  6,  7,  8,  9, 10, 11, 12])"
      ]
     },
     "execution_count": 66,
     "metadata": {},
     "output_type": "execute_result"
    }
   ],
   "source": [
    "x = np.array([[1 , 2, 3, 4], [5, 6, 7, 8], [9, 10, 11, 12]])\n",
    "x.flatten()  # flatten отличается от ravel тем что ravel не создает копию родительского массива"
   ]
  },
  {
   "cell_type": "markdown",
   "id": "9ffe06e9-f1c0-40b1-8d74-8f4be38c23d2",
   "metadata": {},
   "source": [
    "<h2> Функции создания двумерного массива </h2>"
   ]
  },
  {
   "cell_type": "code",
   "execution_count": 68,
   "id": "797e5504-e295-4e94-aa4d-a563e7232360",
   "metadata": {},
   "outputs": [
    {
     "data": {
      "text/plain": [
       "array([[1., 0., 0.],\n",
       "       [0., 1., 0.],\n",
       "       [0., 0., 1.]])"
      ]
     },
     "execution_count": 68,
     "metadata": {},
     "output_type": "execute_result"
    }
   ],
   "source": [
    "np.eye(3)"
   ]
  },
  {
   "cell_type": "code",
   "execution_count": 69,
   "id": "9550372e-b9bb-4adf-a610-87e65c96a8f1",
   "metadata": {},
   "outputs": [
    {
     "data": {
      "text/plain": [
       "array([[1., 0., 0., 0., 0.],\n",
       "       [0., 1., 0., 0., 0.],\n",
       "       [0., 0., 1., 0., 0.]])"
      ]
     },
     "execution_count": 69,
     "metadata": {},
     "output_type": "execute_result"
    }
   ],
   "source": [
    "np.eye(3, 5)"
   ]
  },
  {
   "cell_type": "code",
   "execution_count": 70,
   "id": "d48166b9-185a-4915-ae21-ca0dea3678f1",
   "metadata": {},
   "outputs": [
    {
     "data": {
      "text/plain": [
       "array([[1, 0, 0],\n",
       "       [0, 2, 0],\n",
       "       [0, 0, 3]])"
      ]
     },
     "execution_count": 70,
     "metadata": {},
     "output_type": "execute_result"
    }
   ],
   "source": [
    "np.diag([1, 2, 3])"
   ]
  },
  {
   "cell_type": "code",
   "execution_count": 71,
   "id": "3138d797-21e6-4c9b-81b3-69a61dc884b1",
   "metadata": {},
   "outputs": [
    {
     "data": {
      "text/plain": [
       "array([[0, 1, 0, 0],\n",
       "       [0, 0, 2, 0],\n",
       "       [0, 0, 0, 3],\n",
       "       [0, 0, 0, 0]])"
      ]
     },
     "execution_count": 71,
     "metadata": {},
     "output_type": "execute_result"
    }
   ],
   "source": [
    "np.diag([1, 2, 3], 1)"
   ]
  },
  {
   "cell_type": "code",
   "execution_count": 72,
   "id": "53fa986d-4f6f-4135-9a51-bc1696897565",
   "metadata": {},
   "outputs": [
    {
     "data": {
      "text/plain": [
       "array([1, 4])"
      ]
     },
     "execution_count": 72,
     "metadata": {},
     "output_type": "execute_result"
    }
   ],
   "source": [
    "a = np.array([[1, 2], [3, 4]])\n",
    "np.diag(a)"
   ]
  },
  {
   "cell_type": "markdown",
   "id": "58016ec7-2804-4cee-b8ca-39b3101a124d",
   "metadata": {},
   "source": [
    "<h2>Репликация, объединение или мутация существующих массивов</h2>"
   ]
  },
  {
   "cell_type": "code",
   "execution_count": 73,
   "id": "0b3ac83f-b0fa-40fa-95d8-51b575328912",
   "metadata": {},
   "outputs": [
    {
     "name": "stdout",
     "output_type": "stream",
     "text": [
      "a = [2 3 3 4 5 6] ; b = [2 3]\n"
     ]
    }
   ],
   "source": [
    "a = np.array([1, 2, 3, 4, 5, 6])\n",
    "b = a[:2]\n",
    "b += 1\n",
    "print('a =', a, '; b =', b)"
   ]
  },
  {
   "cell_type": "code",
   "execution_count": null,
   "id": "ab25b676-0600-4861-b702-e94a83269b3b",
   "metadata": {},
   "outputs": [],
   "source": [
    "A = np.ones((2, 2))\n",
    "B = np.eye(2, 2)\n",
    "C = np.zeros((2, 2))\n",
    "D = np.diag((-3, -4))\n",
    "np.block([[A, B], [C, D]])\n",
    "array([[ 1.,  1.,  1.,  0.],\n",
    "       [ 1.,  1.,  0.,  1.],\n",
    "       [ 0.,  0., -3.,  0.],\n",
    "       [ 0.,  0.,  0., -4.]])"
   ]
  }
 ],
 "metadata": {
  "kernelspec": {
   "display_name": "Python 3 (ipykernel)",
   "language": "python",
   "name": "python3"
  },
  "language_info": {
   "codemirror_mode": {
    "name": "ipython",
    "version": 3
   },
   "file_extension": ".py",
   "mimetype": "text/x-python",
   "name": "python",
   "nbconvert_exporter": "python",
   "pygments_lexer": "ipython3",
   "version": "3.12.3"
  }
 },
 "nbformat": 4,
 "nbformat_minor": 5
}
