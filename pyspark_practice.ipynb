{
  "nbformat": 4,
  "nbformat_minor": 0,
  "metadata": {
    "colab": {
      "provenance": [],
      "authorship_tag": "ABX9TyODZDNwHOYY26QrOHqaANIK",
      "include_colab_link": true
    },
    "kernelspec": {
      "name": "python3",
      "display_name": "Python 3"
    },
    "language_info": {
      "name": "python"
    }
  },
  "cells": [
    {
      "cell_type": "markdown",
      "metadata": {
        "id": "view-in-github",
        "colab_type": "text"
      },
      "source": [
        "<a href=\"https://colab.research.google.com/github/crissyro/base-of-DS/blob/master/pyspark_practice.ipynb\" target=\"_parent\"><img src=\"https://colab.research.google.com/assets/colab-badge.svg\" alt=\"Open In Colab\"/></a>"
      ]
    },
    {
      "cell_type": "code",
      "execution_count": null,
      "metadata": {
        "id": "uxLgcH17mY5d"
      },
      "outputs": [],
      "source": [
        "! pip install -q kaggle"
      ]
    },
    {
      "cell_type": "markdown",
      "source": [
        "# Pyspark practice\n"
      ],
      "metadata": {
        "id": "PGPk-Hfhmw5c"
      }
    },
    {
      "cell_type": "code",
      "source": [
        "from google.colab import drive\n",
        "drive.mount('/content/drive')\n",
        "! mkdir ~/.kaggle\n",
        "! cp '/content/drive/MyDrive/Colab Notebooks/kaggle.json' ~/.kaggle/ # файл kaggle.json можно положить в любую папку в Drive, главное указать актуальный адрес в первом аргументе команды cp\n",
        "! chmod 600 ~/.kaggle/kaggle.json\n",
        "! kaggle competitions download -c 'riiid-test-answer-prediction'\n",
        "! mkdir data\n",
        "! unzip riiid-test-answer-prediction.zip -d data"
      ],
      "metadata": {
        "colab": {
          "base_uri": "https://localhost:8080/"
        },
        "id": "G0heQnkkmv99",
        "outputId": "b4be6c14-aebf-42d6-f053-20bf9cfab1df"
      },
      "execution_count": null,
      "outputs": [
        {
          "output_type": "stream",
          "name": "stdout",
          "text": [
            "Mounted at /content/drive\n",
            "Downloading riiid-test-answer-prediction.zip to /content\n",
            " 99% 1.28G/1.29G [00:14<00:00, 153MB/s]\n",
            "100% 1.29G/1.29G [00:14<00:00, 96.4MB/s]\n",
            "Archive:  riiid-test-answer-prediction.zip\n",
            "  inflating: data/example_sample_submission.csv  \n",
            "  inflating: data/example_test.csv   \n",
            "  inflating: data/lectures.csv       \n",
            "  inflating: data/questions.csv      \n",
            "  inflating: data/riiideducation/__init__.py  \n",
            "  inflating: data/riiideducation/competition.cpython-37m-x86_64-linux-gnu.so  \n",
            "  inflating: data/train.csv          \n"
          ]
        }
      ]
    },
    {
      "cell_type": "code",
      "source": [
        "! pip install pyspark\n",
        "! pip install pyarrow"
      ],
      "metadata": {
        "colab": {
          "base_uri": "https://localhost:8080/"
        },
        "id": "GskIXUT5oDld",
        "outputId": "1dd712dd-a19d-40fb-eba3-caafe0edc8f7"
      },
      "execution_count": null,
      "outputs": [
        {
          "output_type": "stream",
          "name": "stdout",
          "text": [
            "Requirement already satisfied: pyspark in /usr/local/lib/python3.10/dist-packages (3.5.3)\n",
            "Requirement already satisfied: py4j==0.10.9.7 in /usr/local/lib/python3.10/dist-packages (from pyspark) (0.10.9.7)\n",
            "Requirement already satisfied: pyarrow in /usr/local/lib/python3.10/dist-packages (17.0.0)\n",
            "Requirement already satisfied: numpy>=1.16.6 in /usr/local/lib/python3.10/dist-packages (from pyarrow) (1.26.4)\n"
          ]
        }
      ]
    },
    {
      "cell_type": "code",
      "source": [
        "!apt-get install openjdk-8-jdk-headless -qq > /dev/null\n",
        "!wget -q https://archive.apache.org/dist/spark/spark-3.4.0/spark-3.4.0-bin-hadoop3.tgz\n",
        "!tar xf spark-3.4.0-bin-hadoop3.tgz\n",
        "!pip install -q findspark\n",
        "!pip install pyspark==3.4.0"
      ],
      "metadata": {
        "colab": {
          "base_uri": "https://localhost:8080/"
        },
        "id": "KrvOZrSMw2N_",
        "outputId": "2041c8a4-2e40-422e-ea7d-cbd443a1663d"
      },
      "execution_count": null,
      "outputs": [
        {
          "output_type": "stream",
          "name": "stdout",
          "text": [
            "Collecting pyspark==3.4.0\n",
            "  Downloading pyspark-3.4.0.tar.gz (310.8 MB)\n",
            "\u001b[2K     \u001b[90m━━━━━━━━━━━━━━━━━━━━━━━━━━━━━━━━━━━━━━━━\u001b[0m \u001b[32m310.8/310.8 MB\u001b[0m \u001b[31m3.9 MB/s\u001b[0m eta \u001b[36m0:00:00\u001b[0m\n",
            "\u001b[?25h  Preparing metadata (setup.py) ... \u001b[?25l\u001b[?25hdone\n",
            "Requirement already satisfied: py4j==0.10.9.7 in /usr/local/lib/python3.10/dist-packages (from pyspark==3.4.0) (0.10.9.7)\n",
            "Building wheels for collected packages: pyspark\n",
            "  Building wheel for pyspark (setup.py) ... \u001b[?25l\u001b[?25hdone\n",
            "  Created wheel for pyspark: filename=pyspark-3.4.0-py2.py3-none-any.whl size=311317123 sha256=4f83cb855c8bad8e8d7967fc3ae5c03c41ecdd4866da011d449b1d2f63b60180\n",
            "  Stored in directory: /root/.cache/pip/wheels/7b/1b/4b/3363a1d04368e7ff0d408e57ff57966fcdf00583774e761327\n",
            "Successfully built pyspark\n",
            "Installing collected packages: pyspark\n",
            "  Attempting uninstall: pyspark\n",
            "    Found existing installation: pyspark 3.5.3\n",
            "    Uninstalling pyspark-3.5.3:\n",
            "      Successfully uninstalled pyspark-3.5.3\n",
            "Successfully installed pyspark-3.4.0\n"
          ]
        }
      ]
    },
    {
      "cell_type": "code",
      "source": [
        "from pyspark.sql import SparkSession\n",
        "import os\n",
        "os.environ[\"PYARROW_IGNORE_TIMEZONE\"] = \"1\" # без этой строчки у нас будет возникать постоянное предупреждение с просьбой установить эту переменную в значение 1, что мы заранее и делаем\n",
        "\n",
        "\n",
        "spark = SparkSession.builder.getOrCreate()\n",
        "spark.conf.set(\"spark.sql.execution.arrow.pyspark.enabled\", \"true\")\n",
        "spark"
      ],
      "metadata": {
        "colab": {
          "base_uri": "https://localhost:8080/",
          "height": 219
        },
        "id": "ai1iNZtoph0g",
        "outputId": "9bd1ea84-ace9-405f-f524-0e280b3691bb"
      },
      "execution_count": 18,
      "outputs": [
        {
          "output_type": "execute_result",
          "data": {
            "text/plain": [
              "<pyspark.sql.session.SparkSession at 0x7afc9d8cfd30>"
            ],
            "text/html": [
              "\n",
              "            <div>\n",
              "                <p><b>SparkSession - in-memory</b></p>\n",
              "                \n",
              "        <div>\n",
              "            <p><b>SparkContext</b></p>\n",
              "\n",
              "            <p><a href=\"http://1c976a73a500:4040\">Spark UI</a></p>\n",
              "\n",
              "            <dl>\n",
              "              <dt>Version</dt>\n",
              "                <dd><code>v3.5.3</code></dd>\n",
              "              <dt>Master</dt>\n",
              "                <dd><code>local[*]</code></dd>\n",
              "              <dt>AppName</dt>\n",
              "                <dd><code>pyspark-shell</code></dd>\n",
              "            </dl>\n",
              "        </div>\n",
              "        \n",
              "            </div>\n",
              "        "
            ]
          },
          "metadata": {},
          "execution_count": 18
        }
      ]
    },
    {
      "cell_type": "code",
      "source": [
        "df = spark.read.csv('data/train.csv', header=True, inferSchema=True)\n",
        "\n",
        "df.printSchema()"
      ],
      "metadata": {
        "colab": {
          "base_uri": "https://localhost:8080/"
        },
        "id": "G5yyuozkpt9E",
        "outputId": "76588bcc-fab3-47d7-9ce5-f95bb1cff72d"
      },
      "execution_count": null,
      "outputs": [
        {
          "output_type": "stream",
          "name": "stdout",
          "text": [
            "root\n",
            " |-- row_id: integer (nullable = true)\n",
            " |-- timestamp: long (nullable = true)\n",
            " |-- user_id: integer (nullable = true)\n",
            " |-- content_id: integer (nullable = true)\n",
            " |-- content_type_id: integer (nullable = true)\n",
            " |-- task_container_id: integer (nullable = true)\n",
            " |-- user_answer: integer (nullable = true)\n",
            " |-- answered_correctly: integer (nullable = true)\n",
            " |-- prior_question_elapsed_time: double (nullable = true)\n",
            " |-- prior_question_had_explanation: boolean (nullable = true)\n",
            "\n"
          ]
        }
      ]
    },
    {
      "cell_type": "code",
      "source": [
        "df.show()"
      ],
      "metadata": {
        "colab": {
          "base_uri": "https://localhost:8080/"
        },
        "id": "WLtH-Mfgsn6S",
        "outputId": "5ca15d70-b711-478a-8e35-afb8e2834f87"
      },
      "execution_count": null,
      "outputs": [
        {
          "output_type": "stream",
          "name": "stdout",
          "text": [
            "+------+---------+-------+----------+---------------+-----------------+-----------+------------------+---------------------------+------------------------------+\n",
            "|row_id|timestamp|user_id|content_id|content_type_id|task_container_id|user_answer|answered_correctly|prior_question_elapsed_time|prior_question_had_explanation|\n",
            "+------+---------+-------+----------+---------------+-----------------+-----------+------------------+---------------------------+------------------------------+\n",
            "|     0|        0|    115|      5692|              0|                1|          3|                 1|                       null|                          null|\n",
            "|     1|    56943|    115|      5716|              0|                2|          2|                 1|                    37000.0|                         false|\n",
            "|     2|   118363|    115|       128|              0|                0|          0|                 1|                    55000.0|                         false|\n",
            "|     3|   131167|    115|      7860|              0|                3|          0|                 1|                    19000.0|                         false|\n",
            "|     4|   137965|    115|      7922|              0|                4|          1|                 1|                    11000.0|                         false|\n",
            "|     5|   157063|    115|       156|              0|                5|          2|                 1|                     5000.0|                         false|\n",
            "|     6|   176092|    115|        51|              0|                6|          0|                 1|                    17000.0|                         false|\n",
            "|     7|   194190|    115|        50|              0|                7|          3|                 1|                    17000.0|                         false|\n",
            "|     8|   212463|    115|      7896|              0|                8|          2|                 1|                    16000.0|                         false|\n",
            "|     9|   230983|    115|      7863|              0|                9|          0|                 1|                    16000.0|                         false|\n",
            "|    10|   255381|    115|       152|              0|               10|          2|                 0|                    17000.0|                         false|\n",
            "|    11|   280033|    115|       104|              0|               11|          1|                 0|                    22000.0|                         false|\n",
            "|    12|   302994|    115|       108|              0|               12|          1|                 0|                    23000.0|                         false|\n",
            "|    13|   328686|    115|      7900|              0|               13|          0|                 1|                    21000.0|                         false|\n",
            "|    14|   352686|    115|      7901|              0|               14|          1|                 1|                    24000.0|                         false|\n",
            "|    15|   376162|    115|      7971|              0|               15|          2|                 1|                    22000.0|                         false|\n",
            "|    16|   398020|    115|        25|              0|               16|          1|                 1|                    21000.0|                         false|\n",
            "|    17|   418008|    115|       183|              0|               17|          0|                 0|                    20000.0|                         false|\n",
            "|    18|   437272|    115|      7926|              0|               18|          1|                 1|                    18000.0|                         false|\n",
            "|    19|   468511|    115|      7927|              0|               19|          3|                 1|                    17000.0|                         false|\n",
            "+------+---------+-------+----------+---------------+-----------------+-----------+------------------+---------------------------+------------------------------+\n",
            "only showing top 20 rows\n",
            "\n"
          ]
        }
      ]
    },
    {
      "cell_type": "code",
      "source": [
        "from pyspark.sql.types import IntegerType\n",
        "\n",
        "df = df.withColumn('prior_question_had_explanation', df['prior_question_had_explanation'].cast(IntegerType()))\n",
        "df.printSchema()"
      ],
      "metadata": {
        "colab": {
          "base_uri": "https://localhost:8080/"
        },
        "id": "R56yC449sxC5",
        "outputId": "ebea96f0-a0b7-49e8-b466-2115ba2c7dc7"
      },
      "execution_count": null,
      "outputs": [
        {
          "output_type": "stream",
          "name": "stdout",
          "text": [
            "root\n",
            " |-- row_id: integer (nullable = true)\n",
            " |-- timestamp: long (nullable = true)\n",
            " |-- user_id: integer (nullable = true)\n",
            " |-- content_id: integer (nullable = true)\n",
            " |-- content_type_id: integer (nullable = true)\n",
            " |-- task_container_id: integer (nullable = true)\n",
            " |-- user_answer: integer (nullable = true)\n",
            " |-- answered_correctly: integer (nullable = true)\n",
            " |-- prior_question_elapsed_time: double (nullable = true)\n",
            " |-- prior_question_had_explanation: integer (nullable = true)\n",
            "\n"
          ]
        }
      ]
    },
    {
      "cell_type": "code",
      "source": [
        "df.pandas_api().isna().mean()"
      ],
      "metadata": {
        "colab": {
          "base_uri": "https://localhost:8080/"
        },
        "id": "Ce6aDB10tYM6",
        "outputId": "6ba83b1e-0368-483e-e943-bb123ee7f503"
      },
      "execution_count": null,
      "outputs": [
        {
          "output_type": "execute_result",
          "data": {
            "text/plain": [
              "row_id                            0.0\n",
              "timestamp                         0.0\n",
              "user_id                           0.0\n",
              "content_id                        0.0\n",
              "content_type_id                   0.0\n",
              "task_container_id                 0.0\n",
              "user_answer                       0.0\n",
              "answered_correctly                0.0\n",
              "prior_question_elapsed_time       0.0\n",
              "prior_question_had_explanation    0.0\n",
              "dtype: float64"
            ]
          },
          "metadata": {},
          "execution_count": 14
        }
      ]
    },
    {
      "cell_type": "code",
      "source": [
        "df = df.dropna()\n",
        "df.pandas_api().isna().sum()"
      ],
      "metadata": {
        "colab": {
          "base_uri": "https://localhost:8080/"
        },
        "id": "DU6Lru-N1au0",
        "outputId": "a2c40af5-eb23-49b7-f79f-0a6967ea5dbd"
      },
      "execution_count": null,
      "outputs": [
        {
          "output_type": "execute_result",
          "data": {
            "text/plain": [
              "row_id                            0\n",
              "timestamp                         0\n",
              "user_id                           0\n",
              "content_id                        0\n",
              "content_type_id                   0\n",
              "task_container_id                 0\n",
              "user_answer                       0\n",
              "answered_correctly                0\n",
              "prior_question_elapsed_time       0\n",
              "prior_question_had_explanation    0\n",
              "dtype: int64"
            ]
          },
          "metadata": {},
          "execution_count": 11
        }
      ]
    },
    {
      "cell_type": "code",
      "source": [
        "table = [\n",
        "    ['Dima', '8-800-555-35-35', 'Iphone'],\n",
        "    ['Vanya', '8-777-777-77-77', 'Samsung'],\n",
        "    ['Arsen', '8-555-555-55-55', 'Xiaomi'],\n",
        "    ['Danil', '8-616-616-61-61', 'Iphone'],\n",
        "    ['xzczzx', '213', 'Mezu']\n",
        "]\n",
        "\n",
        "df = spark.createDataFrame(table, ['name', 'mobile number', 'phone mark'])\n",
        "df"
      ],
      "metadata": {
        "colab": {
          "base_uri": "https://localhost:8080/"
        },
        "id": "6p-cEKFjQIqy",
        "outputId": "15fa7620-1c80-4cc1-b2b5-a338167ceb2d"
      },
      "execution_count": 19,
      "outputs": [
        {
          "output_type": "execute_result",
          "data": {
            "text/plain": [
              "DataFrame[name: string, mobile number: string, phone mark: string]"
            ]
          },
          "metadata": {},
          "execution_count": 19
        }
      ]
    },
    {
      "cell_type": "code",
      "source": [
        "df.printSchema()"
      ],
      "metadata": {
        "colab": {
          "base_uri": "https://localhost:8080/"
        },
        "id": "fG5dubv6SIkx",
        "outputId": "5a91d773-f4e8-4124-aaa2-0797109d0eeb"
      },
      "execution_count": 20,
      "outputs": [
        {
          "output_type": "stream",
          "name": "stdout",
          "text": [
            "root\n",
            " |-- name: string (nullable = true)\n",
            " |-- mobile number: string (nullable = true)\n",
            " |-- phone mark: string (nullable = true)\n",
            "\n"
          ]
        }
      ]
    },
    {
      "cell_type": "code",
      "source": [
        "df.show()"
      ],
      "metadata": {
        "colab": {
          "base_uri": "https://localhost:8080/"
        },
        "id": "gAhrhvg0SMUW",
        "outputId": "02e2e5fc-e1fc-4b75-c1e3-09d48bd07b28"
      },
      "execution_count": 21,
      "outputs": [
        {
          "output_type": "stream",
          "name": "stdout",
          "text": [
            "+------+---------------+----------+\n",
            "|  name|  mobile number|phone mark|\n",
            "+------+---------------+----------+\n",
            "|  Dima|8-800-555-35-35|    Iphone|\n",
            "| Vanya|8-777-777-77-77|   Samsung|\n",
            "| Arsen|8-555-555-55-55|    Xiaomi|\n",
            "| Danil|8-616-616-61-61|    Iphone|\n",
            "|xzczzx|            213|      Mezu|\n",
            "+------+---------------+----------+\n",
            "\n"
          ]
        }
      ]
    },
    {
      "cell_type": "code",
      "source": [
        "df.columns"
      ],
      "metadata": {
        "colab": {
          "base_uri": "https://localhost:8080/"
        },
        "id": "f2oFA795SON8",
        "outputId": "d2174fe7-abf3-4437-aadc-aa4939c3ca44"
      },
      "execution_count": 22,
      "outputs": [
        {
          "output_type": "execute_result",
          "data": {
            "text/plain": [
              "['name', 'mobile number', 'phone mark']"
            ]
          },
          "metadata": {},
          "execution_count": 22
        }
      ]
    },
    {
      "cell_type": "code",
      "source": [
        "df.columns[1] = 'phone number'\n",
        "df.show()"
      ],
      "metadata": {
        "colab": {
          "base_uri": "https://localhost:8080/"
        },
        "id": "Ys8Xn_1bSsoq",
        "outputId": "50833cae-3639-44f3-d376-ca108294cc4e"
      },
      "execution_count": 23,
      "outputs": [
        {
          "output_type": "stream",
          "name": "stdout",
          "text": [
            "+------+---------------+----------+\n",
            "|  name|  mobile number|phone mark|\n",
            "+------+---------------+----------+\n",
            "|  Dima|8-800-555-35-35|    Iphone|\n",
            "| Vanya|8-777-777-77-77|   Samsung|\n",
            "| Arsen|8-555-555-55-55|    Xiaomi|\n",
            "| Danil|8-616-616-61-61|    Iphone|\n",
            "|xzczzx|            213|      Mezu|\n",
            "+------+---------------+----------+\n",
            "\n"
          ]
        }
      ]
    },
    {
      "cell_type": "code",
      "source": [
        "df.toPandas()"
      ],
      "metadata": {
        "colab": {
          "base_uri": "https://localhost:8080/",
          "height": 206
        },
        "id": "KWFEzQvdS565",
        "outputId": "269a89e4-69d3-4116-b707-307f9e0fdfde"
      },
      "execution_count": 24,
      "outputs": [
        {
          "output_type": "execute_result",
          "data": {
            "text/plain": [
              "     name    mobile number phone mark\n",
              "0    Dima  8-800-555-35-35     Iphone\n",
              "1   Vanya  8-777-777-77-77    Samsung\n",
              "2   Arsen  8-555-555-55-55     Xiaomi\n",
              "3   Danil  8-616-616-61-61     Iphone\n",
              "4  xzczzx              213       Mezu"
            ],
            "text/html": [
              "\n",
              "  <div id=\"df-8ae14215-0277-4e9c-8f97-27cc5bd8a08a\" class=\"colab-df-container\">\n",
              "    <div>\n",
              "<style scoped>\n",
              "    .dataframe tbody tr th:only-of-type {\n",
              "        vertical-align: middle;\n",
              "    }\n",
              "\n",
              "    .dataframe tbody tr th {\n",
              "        vertical-align: top;\n",
              "    }\n",
              "\n",
              "    .dataframe thead th {\n",
              "        text-align: right;\n",
              "    }\n",
              "</style>\n",
              "<table border=\"1\" class=\"dataframe\">\n",
              "  <thead>\n",
              "    <tr style=\"text-align: right;\">\n",
              "      <th></th>\n",
              "      <th>name</th>\n",
              "      <th>mobile number</th>\n",
              "      <th>phone mark</th>\n",
              "    </tr>\n",
              "  </thead>\n",
              "  <tbody>\n",
              "    <tr>\n",
              "      <th>0</th>\n",
              "      <td>Dima</td>\n",
              "      <td>8-800-555-35-35</td>\n",
              "      <td>Iphone</td>\n",
              "    </tr>\n",
              "    <tr>\n",
              "      <th>1</th>\n",
              "      <td>Vanya</td>\n",
              "      <td>8-777-777-77-77</td>\n",
              "      <td>Samsung</td>\n",
              "    </tr>\n",
              "    <tr>\n",
              "      <th>2</th>\n",
              "      <td>Arsen</td>\n",
              "      <td>8-555-555-55-55</td>\n",
              "      <td>Xiaomi</td>\n",
              "    </tr>\n",
              "    <tr>\n",
              "      <th>3</th>\n",
              "      <td>Danil</td>\n",
              "      <td>8-616-616-61-61</td>\n",
              "      <td>Iphone</td>\n",
              "    </tr>\n",
              "    <tr>\n",
              "      <th>4</th>\n",
              "      <td>xzczzx</td>\n",
              "      <td>213</td>\n",
              "      <td>Mezu</td>\n",
              "    </tr>\n",
              "  </tbody>\n",
              "</table>\n",
              "</div>\n",
              "    <div class=\"colab-df-buttons\">\n",
              "\n",
              "  <div class=\"colab-df-container\">\n",
              "    <button class=\"colab-df-convert\" onclick=\"convertToInteractive('df-8ae14215-0277-4e9c-8f97-27cc5bd8a08a')\"\n",
              "            title=\"Convert this dataframe to an interactive table.\"\n",
              "            style=\"display:none;\">\n",
              "\n",
              "  <svg xmlns=\"http://www.w3.org/2000/svg\" height=\"24px\" viewBox=\"0 -960 960 960\">\n",
              "    <path d=\"M120-120v-720h720v720H120Zm60-500h600v-160H180v160Zm220 220h160v-160H400v160Zm0 220h160v-160H400v160ZM180-400h160v-160H180v160Zm440 0h160v-160H620v160ZM180-180h160v-160H180v160Zm440 0h160v-160H620v160Z\"/>\n",
              "  </svg>\n",
              "    </button>\n",
              "\n",
              "  <style>\n",
              "    .colab-df-container {\n",
              "      display:flex;\n",
              "      gap: 12px;\n",
              "    }\n",
              "\n",
              "    .colab-df-convert {\n",
              "      background-color: #E8F0FE;\n",
              "      border: none;\n",
              "      border-radius: 50%;\n",
              "      cursor: pointer;\n",
              "      display: none;\n",
              "      fill: #1967D2;\n",
              "      height: 32px;\n",
              "      padding: 0 0 0 0;\n",
              "      width: 32px;\n",
              "    }\n",
              "\n",
              "    .colab-df-convert:hover {\n",
              "      background-color: #E2EBFA;\n",
              "      box-shadow: 0px 1px 2px rgba(60, 64, 67, 0.3), 0px 1px 3px 1px rgba(60, 64, 67, 0.15);\n",
              "      fill: #174EA6;\n",
              "    }\n",
              "\n",
              "    .colab-df-buttons div {\n",
              "      margin-bottom: 4px;\n",
              "    }\n",
              "\n",
              "    [theme=dark] .colab-df-convert {\n",
              "      background-color: #3B4455;\n",
              "      fill: #D2E3FC;\n",
              "    }\n",
              "\n",
              "    [theme=dark] .colab-df-convert:hover {\n",
              "      background-color: #434B5C;\n",
              "      box-shadow: 0px 1px 3px 1px rgba(0, 0, 0, 0.15);\n",
              "      filter: drop-shadow(0px 1px 2px rgba(0, 0, 0, 0.3));\n",
              "      fill: #FFFFFF;\n",
              "    }\n",
              "  </style>\n",
              "\n",
              "    <script>\n",
              "      const buttonEl =\n",
              "        document.querySelector('#df-8ae14215-0277-4e9c-8f97-27cc5bd8a08a button.colab-df-convert');\n",
              "      buttonEl.style.display =\n",
              "        google.colab.kernel.accessAllowed ? 'block' : 'none';\n",
              "\n",
              "      async function convertToInteractive(key) {\n",
              "        const element = document.querySelector('#df-8ae14215-0277-4e9c-8f97-27cc5bd8a08a');\n",
              "        const dataTable =\n",
              "          await google.colab.kernel.invokeFunction('convertToInteractive',\n",
              "                                                    [key], {});\n",
              "        if (!dataTable) return;\n",
              "\n",
              "        const docLinkHtml = 'Like what you see? Visit the ' +\n",
              "          '<a target=\"_blank\" href=https://colab.research.google.com/notebooks/data_table.ipynb>data table notebook</a>'\n",
              "          + ' to learn more about interactive tables.';\n",
              "        element.innerHTML = '';\n",
              "        dataTable['output_type'] = 'display_data';\n",
              "        await google.colab.output.renderOutput(dataTable, element);\n",
              "        const docLink = document.createElement('div');\n",
              "        docLink.innerHTML = docLinkHtml;\n",
              "        element.appendChild(docLink);\n",
              "      }\n",
              "    </script>\n",
              "  </div>\n",
              "\n",
              "\n",
              "<div id=\"df-eb784303-e445-455c-8c19-fce16e82cca0\">\n",
              "  <button class=\"colab-df-quickchart\" onclick=\"quickchart('df-eb784303-e445-455c-8c19-fce16e82cca0')\"\n",
              "            title=\"Suggest charts\"\n",
              "            style=\"display:none;\">\n",
              "\n",
              "<svg xmlns=\"http://www.w3.org/2000/svg\" height=\"24px\"viewBox=\"0 0 24 24\"\n",
              "     width=\"24px\">\n",
              "    <g>\n",
              "        <path d=\"M19 3H5c-1.1 0-2 .9-2 2v14c0 1.1.9 2 2 2h14c1.1 0 2-.9 2-2V5c0-1.1-.9-2-2-2zM9 17H7v-7h2v7zm4 0h-2V7h2v10zm4 0h-2v-4h2v4z\"/>\n",
              "    </g>\n",
              "</svg>\n",
              "  </button>\n",
              "\n",
              "<style>\n",
              "  .colab-df-quickchart {\n",
              "      --bg-color: #E8F0FE;\n",
              "      --fill-color: #1967D2;\n",
              "      --hover-bg-color: #E2EBFA;\n",
              "      --hover-fill-color: #174EA6;\n",
              "      --disabled-fill-color: #AAA;\n",
              "      --disabled-bg-color: #DDD;\n",
              "  }\n",
              "\n",
              "  [theme=dark] .colab-df-quickchart {\n",
              "      --bg-color: #3B4455;\n",
              "      --fill-color: #D2E3FC;\n",
              "      --hover-bg-color: #434B5C;\n",
              "      --hover-fill-color: #FFFFFF;\n",
              "      --disabled-bg-color: #3B4455;\n",
              "      --disabled-fill-color: #666;\n",
              "  }\n",
              "\n",
              "  .colab-df-quickchart {\n",
              "    background-color: var(--bg-color);\n",
              "    border: none;\n",
              "    border-radius: 50%;\n",
              "    cursor: pointer;\n",
              "    display: none;\n",
              "    fill: var(--fill-color);\n",
              "    height: 32px;\n",
              "    padding: 0;\n",
              "    width: 32px;\n",
              "  }\n",
              "\n",
              "  .colab-df-quickchart:hover {\n",
              "    background-color: var(--hover-bg-color);\n",
              "    box-shadow: 0 1px 2px rgba(60, 64, 67, 0.3), 0 1px 3px 1px rgba(60, 64, 67, 0.15);\n",
              "    fill: var(--button-hover-fill-color);\n",
              "  }\n",
              "\n",
              "  .colab-df-quickchart-complete:disabled,\n",
              "  .colab-df-quickchart-complete:disabled:hover {\n",
              "    background-color: var(--disabled-bg-color);\n",
              "    fill: var(--disabled-fill-color);\n",
              "    box-shadow: none;\n",
              "  }\n",
              "\n",
              "  .colab-df-spinner {\n",
              "    border: 2px solid var(--fill-color);\n",
              "    border-color: transparent;\n",
              "    border-bottom-color: var(--fill-color);\n",
              "    animation:\n",
              "      spin 1s steps(1) infinite;\n",
              "  }\n",
              "\n",
              "  @keyframes spin {\n",
              "    0% {\n",
              "      border-color: transparent;\n",
              "      border-bottom-color: var(--fill-color);\n",
              "      border-left-color: var(--fill-color);\n",
              "    }\n",
              "    20% {\n",
              "      border-color: transparent;\n",
              "      border-left-color: var(--fill-color);\n",
              "      border-top-color: var(--fill-color);\n",
              "    }\n",
              "    30% {\n",
              "      border-color: transparent;\n",
              "      border-left-color: var(--fill-color);\n",
              "      border-top-color: var(--fill-color);\n",
              "      border-right-color: var(--fill-color);\n",
              "    }\n",
              "    40% {\n",
              "      border-color: transparent;\n",
              "      border-right-color: var(--fill-color);\n",
              "      border-top-color: var(--fill-color);\n",
              "    }\n",
              "    60% {\n",
              "      border-color: transparent;\n",
              "      border-right-color: var(--fill-color);\n",
              "    }\n",
              "    80% {\n",
              "      border-color: transparent;\n",
              "      border-right-color: var(--fill-color);\n",
              "      border-bottom-color: var(--fill-color);\n",
              "    }\n",
              "    90% {\n",
              "      border-color: transparent;\n",
              "      border-bottom-color: var(--fill-color);\n",
              "    }\n",
              "  }\n",
              "</style>\n",
              "\n",
              "  <script>\n",
              "    async function quickchart(key) {\n",
              "      const quickchartButtonEl =\n",
              "        document.querySelector('#' + key + ' button');\n",
              "      quickchartButtonEl.disabled = true;  // To prevent multiple clicks.\n",
              "      quickchartButtonEl.classList.add('colab-df-spinner');\n",
              "      try {\n",
              "        const charts = await google.colab.kernel.invokeFunction(\n",
              "            'suggestCharts', [key], {});\n",
              "      } catch (error) {\n",
              "        console.error('Error during call to suggestCharts:', error);\n",
              "      }\n",
              "      quickchartButtonEl.classList.remove('colab-df-spinner');\n",
              "      quickchartButtonEl.classList.add('colab-df-quickchart-complete');\n",
              "    }\n",
              "    (() => {\n",
              "      let quickchartButtonEl =\n",
              "        document.querySelector('#df-eb784303-e445-455c-8c19-fce16e82cca0 button');\n",
              "      quickchartButtonEl.style.display =\n",
              "        google.colab.kernel.accessAllowed ? 'block' : 'none';\n",
              "    })();\n",
              "  </script>\n",
              "</div>\n",
              "    </div>\n",
              "  </div>\n"
            ],
            "application/vnd.google.colaboratory.intrinsic+json": {
              "type": "dataframe",
              "summary": "{\n  \"name\": \"df\",\n  \"rows\": 5,\n  \"fields\": [\n    {\n      \"column\": \"name\",\n      \"properties\": {\n        \"dtype\": \"string\",\n        \"num_unique_values\": 5,\n        \"samples\": [\n          \"Vanya\",\n          \"xzczzx\",\n          \"Arsen\"\n        ],\n        \"semantic_type\": \"\",\n        \"description\": \"\"\n      }\n    },\n    {\n      \"column\": \"mobile number\",\n      \"properties\": {\n        \"dtype\": \"string\",\n        \"num_unique_values\": 5,\n        \"samples\": [\n          \"8-777-777-77-77\",\n          \"213\",\n          \"8-555-555-55-55\"\n        ],\n        \"semantic_type\": \"\",\n        \"description\": \"\"\n      }\n    },\n    {\n      \"column\": \"phone mark\",\n      \"properties\": {\n        \"dtype\": \"string\",\n        \"num_unique_values\": 4,\n        \"samples\": [\n          \"Samsung\",\n          \"Mezu\",\n          \"Iphone\"\n        ],\n        \"semantic_type\": \"\",\n        \"description\": \"\"\n      }\n    }\n  ]\n}"
            }
          },
          "metadata": {},
          "execution_count": 24
        }
      ]
    },
    {
      "cell_type": "code",
      "source": [
        "df.toJSON()"
      ],
      "metadata": {
        "colab": {
          "base_uri": "https://localhost:8080/"
        },
        "id": "5-gDVs8VTmqS",
        "outputId": "00128881-fd37-41d0-9f87-59f535bc8c21"
      },
      "execution_count": 25,
      "outputs": [
        {
          "output_type": "execute_result",
          "data": {
            "text/plain": [
              "MapPartitionsRDD[46] at toJavaRDD at NativeMethodAccessorImpl.java:0"
            ]
          },
          "metadata": {},
          "execution_count": 25
        }
      ]
    },
    {
      "cell_type": "code",
      "source": [
        "df.count()"
      ],
      "metadata": {
        "colab": {
          "base_uri": "https://localhost:8080/"
        },
        "id": "ErcUOlPnTo3w",
        "outputId": "5e1295bc-cddd-4237-a82f-c867bb32a7dc"
      },
      "execution_count": 26,
      "outputs": [
        {
          "output_type": "execute_result",
          "data": {
            "text/plain": [
              "5"
            ]
          },
          "metadata": {},
          "execution_count": 26
        }
      ]
    },
    {
      "cell_type": "code",
      "source": [
        "df.pandas_api().isna().sum()"
      ],
      "metadata": {
        "colab": {
          "base_uri": "https://localhost:8080/"
        },
        "id": "c2YdNw66UGK_",
        "outputId": "9dcef2ea-eb56-4647-e341-898b77784b74"
      },
      "execution_count": 28,
      "outputs": [
        {
          "output_type": "execute_result",
          "data": {
            "text/plain": [
              "name             0\n",
              "mobile number    0\n",
              "phone mark       0\n",
              "dtype: int64"
            ]
          },
          "metadata": {},
          "execution_count": 28
        }
      ]
    },
    {
      "cell_type": "code",
      "source": [
        "df.select('name', 'phone mark').show()"
      ],
      "metadata": {
        "colab": {
          "base_uri": "https://localhost:8080/"
        },
        "id": "rVLxIYN-UIkX",
        "outputId": "39632f23-08c2-48e0-a23b-83bad283aa62"
      },
      "execution_count": 30,
      "outputs": [
        {
          "output_type": "stream",
          "name": "stdout",
          "text": [
            "+------+----------+\n",
            "|  name|phone mark|\n",
            "+------+----------+\n",
            "|  Dima|    Iphone|\n",
            "| Vanya|   Samsung|\n",
            "| Arsen|    Xiaomi|\n",
            "| Danil|    Iphone|\n",
            "|xzczzx|      Mezu|\n",
            "+------+----------+\n",
            "\n"
          ]
        }
      ]
    },
    {
      "cell_type": "code",
      "source": [
        "import pyspark.sql.functions as f"
      ],
      "metadata": {
        "id": "iywPksxlb271"
      },
      "execution_count": 32,
      "outputs": []
    },
    {
      "cell_type": "code",
      "source": [
        "df.filter(f.col('name').startswith('D')).show()"
      ],
      "metadata": {
        "colab": {
          "base_uri": "https://localhost:8080/"
        },
        "id": "3pDDm8o7eVJ8",
        "outputId": "bb262d30-d5dd-4aa0-fefe-c0aeb73e8290"
      },
      "execution_count": 34,
      "outputs": [
        {
          "output_type": "stream",
          "name": "stdout",
          "text": [
            "+-----+---------------+----------+\n",
            "| name|  mobile number|phone mark|\n",
            "+-----+---------------+----------+\n",
            "| Dima|8-800-555-35-35|    Iphone|\n",
            "|Danil|8-616-616-61-61|    Iphone|\n",
            "+-----+---------------+----------+\n",
            "\n"
          ]
        }
      ]
    },
    {
      "cell_type": "code",
      "source": [
        "df.filter('name like \"V_%\"').show()"
      ],
      "metadata": {
        "colab": {
          "base_uri": "https://localhost:8080/"
        },
        "id": "2K0FV5Hqev8D",
        "outputId": "50833b31-821f-440e-bfa8-49c4d6d88f4f"
      },
      "execution_count": 38,
      "outputs": [
        {
          "output_type": "stream",
          "name": "stdout",
          "text": [
            "+-----+---------------+----------+\n",
            "| name|  mobile number|phone mark|\n",
            "+-----+---------------+----------+\n",
            "|Vanya|8-777-777-77-77|   Samsung|\n",
            "+-----+---------------+----------+\n",
            "\n"
          ]
        }
      ]
    },
    {
      "cell_type": "code",
      "source": [
        "table_salary = [\n",
        "    ['Dima', 'Senior Fullstack developer', 4500],\n",
        "    ['Roma', 'Senior Data Scientist', 5500],\n",
        "    ['Danil', 'Middle 1C developer', 2500],\n",
        "    ['Vanya', 'Junior Cybersecuirity', 800],\n",
        "    ['Andrey', 'Middle Backend developer', 2330]\n",
        "]\n",
        "\n",
        "df_salary = spark.createDataFrame(table_salary, ['name_person', 'job', 'salary'])\n",
        "df_salary.printSchema()"
      ],
      "metadata": {
        "colab": {
          "base_uri": "https://localhost:8080/"
        },
        "id": "rM9crOQne8Jp",
        "outputId": "01e1e1c8-6206-49cd-b697-a06b50cbf2c4"
      },
      "execution_count": 51,
      "outputs": [
        {
          "output_type": "stream",
          "name": "stdout",
          "text": [
            "root\n",
            " |-- name_person: string (nullable = true)\n",
            " |-- job: string (nullable = true)\n",
            " |-- salary: long (nullable = true)\n",
            "\n"
          ]
        }
      ]
    },
    {
      "cell_type": "code",
      "source": [
        "df_salary.show(truncate=False)"
      ],
      "metadata": {
        "colab": {
          "base_uri": "https://localhost:8080/"
        },
        "id": "dwpJLt1to1r6",
        "outputId": "a45a7313-a1e2-4c2a-e8ce-a914001c0e4c"
      },
      "execution_count": 52,
      "outputs": [
        {
          "output_type": "stream",
          "name": "stdout",
          "text": [
            "+-----------+--------------------------+------+\n",
            "|name_person|job                       |salary|\n",
            "+-----------+--------------------------+------+\n",
            "|Dima       |Senior Fullstack developer|4500  |\n",
            "|Roma       |Senior Data Scientist     |5500  |\n",
            "|Danil      |Middle 1C developer       |2500  |\n",
            "|Vanya      |Junior Cybersecuirity     |800   |\n",
            "|Andrey     |Middle Backend developer  |2330  |\n",
            "+-----------+--------------------------+------+\n",
            "\n"
          ]
        }
      ]
    },
    {
      "cell_type": "code",
      "source": [
        "full_df = df.join(df_salary, df_salary['name_person'] == df['name'], 'inner').drop('name_person')\n",
        "full_df.show(truncate=False)"
      ],
      "metadata": {
        "colab": {
          "base_uri": "https://localhost:8080/"
        },
        "id": "iVfmiaSyo43_",
        "outputId": "5b7d460f-3b1a-433b-e18d-b81599c97115"
      },
      "execution_count": 57,
      "outputs": [
        {
          "output_type": "stream",
          "name": "stdout",
          "text": [
            "+-----+---------------+----------+--------------------------+------+\n",
            "|name |mobile number  |phone mark|job                       |salary|\n",
            "+-----+---------------+----------+--------------------------+------+\n",
            "|Danil|8-616-616-61-61|Iphone    |Middle 1C developer       |2500  |\n",
            "|Dima |8-800-555-35-35|Iphone    |Senior Fullstack developer|4500  |\n",
            "|Vanya|8-777-777-77-77|Samsung   |Junior Cybersecuirity     |800   |\n",
            "+-----+---------------+----------+--------------------------+------+\n",
            "\n"
          ]
        }
      ]
    },
    {
      "cell_type": "code",
      "source": [
        "x = df.join(df_salary, df_salary['name_person'] == df['name'], 'left').drop('name_person')\n",
        "x.show(truncate=False)"
      ],
      "metadata": {
        "colab": {
          "base_uri": "https://localhost:8080/"
        },
        "id": "O4KNKsd1pbzQ",
        "outputId": "685a885b-bc94-4bec-d7e2-76d6c8b4165d"
      },
      "execution_count": 58,
      "outputs": [
        {
          "output_type": "stream",
          "name": "stdout",
          "text": [
            "+------+---------------+----------+--------------------------+------+\n",
            "|name  |mobile number  |phone mark|job                       |salary|\n",
            "+------+---------------+----------+--------------------------+------+\n",
            "|Vanya |8-777-777-77-77|Samsung   |Junior Cybersecuirity     |800   |\n",
            "|Dima  |8-800-555-35-35|Iphone    |Senior Fullstack developer|4500  |\n",
            "|Arsen |8-555-555-55-55|Xiaomi    |NULL                      |NULL  |\n",
            "|Danil |8-616-616-61-61|Iphone    |Middle 1C developer       |2500  |\n",
            "|xzczzx|213            |Mezu      |NULL                      |NULL  |\n",
            "+------+---------------+----------+--------------------------+------+\n",
            "\n"
          ]
        }
      ]
    },
    {
      "cell_type": "code",
      "source": [
        "x = df.join(df_salary, df_salary['name_person'] == df['name'], 'right').drop('name_person')\n",
        "x.show(truncate=False)"
      ],
      "metadata": {
        "colab": {
          "base_uri": "https://localhost:8080/"
        },
        "id": "QsFIbqV3phj9",
        "outputId": "73294a46-cab9-434f-b467-1fb7d21e015c"
      },
      "execution_count": 59,
      "outputs": [
        {
          "output_type": "stream",
          "name": "stdout",
          "text": [
            "+-----+---------------+----------+--------------------------+------+\n",
            "|name |mobile number  |phone mark|job                       |salary|\n",
            "+-----+---------------+----------+--------------------------+------+\n",
            "|NULL |NULL           |NULL      |Senior Data Scientist     |5500  |\n",
            "|Dima |8-800-555-35-35|Iphone    |Senior Fullstack developer|4500  |\n",
            "|NULL |NULL           |NULL      |Middle Backend developer  |2330  |\n",
            "|Vanya|8-777-777-77-77|Samsung   |Junior Cybersecuirity     |800   |\n",
            "|Danil|8-616-616-61-61|Iphone    |Middle 1C developer       |2500  |\n",
            "+-----+---------------+----------+--------------------------+------+\n",
            "\n"
          ]
        }
      ]
    },
    {
      "cell_type": "code",
      "source": [
        "x = df.join(df_salary, df_salary['name_person'] == df['name'], 'full').drop('name_person')\n",
        "x.show(truncate=False)"
      ],
      "metadata": {
        "colab": {
          "base_uri": "https://localhost:8080/"
        },
        "id": "K-_UbKGEplOo",
        "outputId": "21406f2e-3705-4a38-8074-a6508679b302"
      },
      "execution_count": 61,
      "outputs": [
        {
          "output_type": "stream",
          "name": "stdout",
          "text": [
            "+------+---------------+----------+--------------------------+------+\n",
            "|name  |mobile number  |phone mark|job                       |salary|\n",
            "+------+---------------+----------+--------------------------+------+\n",
            "|NULL  |NULL           |NULL      |Middle Backend developer  |2330  |\n",
            "|Arsen |8-555-555-55-55|Xiaomi    |NULL                      |NULL  |\n",
            "|Danil |8-616-616-61-61|Iphone    |Middle 1C developer       |2500  |\n",
            "|Dima  |8-800-555-35-35|Iphone    |Senior Fullstack developer|4500  |\n",
            "|NULL  |NULL           |NULL      |Senior Data Scientist     |5500  |\n",
            "|Vanya |8-777-777-77-77|Samsung   |Junior Cybersecuirity     |800   |\n",
            "|xzczzx|213            |Mezu      |NULL                      |NULL  |\n",
            "+------+---------------+----------+--------------------------+------+\n",
            "\n"
          ]
        }
      ]
    },
    {
      "cell_type": "code",
      "source": [
        "full_df.show(truncate=False)"
      ],
      "metadata": {
        "colab": {
          "base_uri": "https://localhost:8080/"
        },
        "id": "vEWu2rVsr0mF",
        "outputId": "4913e635-405d-46ea-b95e-e8e4db39b44a"
      },
      "execution_count": 62,
      "outputs": [
        {
          "output_type": "stream",
          "name": "stdout",
          "text": [
            "+-----+---------------+----------+--------------------------+------+\n",
            "|name |mobile number  |phone mark|job                       |salary|\n",
            "+-----+---------------+----------+--------------------------+------+\n",
            "|Danil|8-616-616-61-61|Iphone    |Middle 1C developer       |2500  |\n",
            "|Dima |8-800-555-35-35|Iphone    |Senior Fullstack developer|4500  |\n",
            "|Vanya|8-777-777-77-77|Samsung   |Junior Cybersecuirity     |800   |\n",
            "+-----+---------------+----------+--------------------------+------+\n",
            "\n"
          ]
        }
      ]
    },
    {
      "cell_type": "code",
      "source": [
        "new_df = spark.createDataFrame([\n",
        "    ['Igor', None, 'Iphone', 'HR', 600],\n",
        "    ['Petya', '7-930-444-54-54', 'Samsung', 'Junior Frontend developer', 630],\n",
        "    ['Anton', None, None, 'Middle C++ developer', 2460],\n",
        "    ['Vlad', None, 'Iphone', 'Senior Blockchain engineer', 9500]\n",
        "], ['name', 'mobile number', 'phone mark', 'job', 'salary'])\n",
        "\n",
        "new_df.show(truncate=False)"
      ],
      "metadata": {
        "colab": {
          "base_uri": "https://localhost:8080/"
        },
        "id": "0ZCzRb59pmzD",
        "outputId": "b736ee39-31eb-4838-dc23-be0ace48d604"
      },
      "execution_count": 65,
      "outputs": [
        {
          "output_type": "stream",
          "name": "stdout",
          "text": [
            "+-----+---------------+----------+--------------------------+------+\n",
            "|name |mobile number  |phone mark|job                       |salary|\n",
            "+-----+---------------+----------+--------------------------+------+\n",
            "|Igor |NULL           |Iphone    |HR                        |600   |\n",
            "|Petya|7-930-444-54-54|Samsung   |Junior Frontend developer |630   |\n",
            "|Anton|NULL           |NULL      |Middle C++ developer      |2460  |\n",
            "|Vlad |NULL           |Iphone    |Senior Blockchain engineer|9500  |\n",
            "+-----+---------------+----------+--------------------------+------+\n",
            "\n"
          ]
        }
      ]
    },
    {
      "cell_type": "code",
      "source": [
        "df = full_df.union(new_df)\n",
        "df.show(truncate=False)"
      ],
      "metadata": {
        "colab": {
          "base_uri": "https://localhost:8080/"
        },
        "id": "teeggPv2snJx",
        "outputId": "3124838c-3762-4e63-a1ef-d1c579e33a3f"
      },
      "execution_count": 66,
      "outputs": [
        {
          "output_type": "stream",
          "name": "stdout",
          "text": [
            "+-----+---------------+----------+--------------------------+------+\n",
            "|name |mobile number  |phone mark|job                       |salary|\n",
            "+-----+---------------+----------+--------------------------+------+\n",
            "|Danil|8-616-616-61-61|Iphone    |Middle 1C developer       |2500  |\n",
            "|Dima |8-800-555-35-35|Iphone    |Senior Fullstack developer|4500  |\n",
            "|Vanya|8-777-777-77-77|Samsung   |Junior Cybersecuirity     |800   |\n",
            "|Igor |NULL           |Iphone    |HR                        |600   |\n",
            "|Petya|7-930-444-54-54|Samsung   |Junior Frontend developer |630   |\n",
            "|Anton|NULL           |NULL      |Middle C++ developer      |2460  |\n",
            "|Vlad |NULL           |Iphone    |Senior Blockchain engineer|9500  |\n",
            "+-----+---------------+----------+--------------------------+------+\n",
            "\n"
          ]
        }
      ]
    },
    {
      "cell_type": "code",
      "source": [
        "df.select(f.sum('salary')).show()"
      ],
      "metadata": {
        "colab": {
          "base_uri": "https://localhost:8080/"
        },
        "id": "HsyXRyv_tBe-",
        "outputId": "c1af8008-c02f-41cf-b2a7-57fd7f372b75"
      },
      "execution_count": 67,
      "outputs": [
        {
          "output_type": "stream",
          "name": "stdout",
          "text": [
            "+-----------+\n",
            "|sum(salary)|\n",
            "+-----------+\n",
            "|      20990|\n",
            "+-----------+\n",
            "\n"
          ]
        }
      ]
    },
    {
      "cell_type": "code",
      "source": [
        "df.select(f.sum('salary').alias('sum_salary'),\n",
        "          f.min('salary').alias('min_salary'),\n",
        "          f.max('salary').alias('max_salary'),\n",
        "          f.mean('salary').alias('mean_salary'),\n",
        "          f.variance('salary').alias('var_salary')\n",
        ").show()"
      ],
      "metadata": {
        "colab": {
          "base_uri": "https://localhost:8080/"
        },
        "id": "761tPKqdt-OE",
        "outputId": "55b8295b-cc3a-46d6-8c8c-9cf29e19a7bb"
      },
      "execution_count": 70,
      "outputs": [
        {
          "output_type": "stream",
          "name": "stdout",
          "text": [
            "+----------+----------+----------+------------------+-------------------+\n",
            "|sum_salary|min_salary|max_salary|       mean_salary|         var_salary|\n",
            "+----------+----------+----------+------------------+-------------------+\n",
            "|     20990|       600|      9500|2998.5714285714284|1.020974761904762E7|\n",
            "+----------+----------+----------+------------------+-------------------+\n",
            "\n"
          ]
        }
      ]
    },
    {
      "cell_type": "code",
      "source": [
        "df.filter('salary > 2000').select('name', 'job').show()"
      ],
      "metadata": {
        "colab": {
          "base_uri": "https://localhost:8080/"
        },
        "id": "s5o3cM0LuWme",
        "outputId": "975e19b7-8687-46a9-8ba0-5d45addbab72"
      },
      "execution_count": 78,
      "outputs": [
        {
          "output_type": "stream",
          "name": "stdout",
          "text": [
            "+-----+--------------------+\n",
            "| name|                 job|\n",
            "+-----+--------------------+\n",
            "|Danil| Middle 1C developer|\n",
            "| Dima|Senior Fullstack ...|\n",
            "|Anton|Middle C++ developer|\n",
            "| Vlad|Senior Blockchain...|\n",
            "+-----+--------------------+\n",
            "\n"
          ]
        }
      ]
    },
    {
      "cell_type": "code",
      "source": [
        "df.groupBy('phone mark').mean('salary').pandas_api().dropna()"
      ],
      "metadata": {
        "colab": {
          "base_uri": "https://localhost:8080/",
          "height": 112
        },
        "id": "W0aWwvOBu4wZ",
        "outputId": "f6d374c1-e36a-4d42-a06f-e20033f87596"
      },
      "execution_count": 86,
      "outputs": [
        {
          "output_type": "execute_result",
          "data": {
            "text/plain": [
              "  phone mark  avg(salary)\n",
              "0    Samsung        715.0\n",
              "1     Iphone       4275.0"
            ],
            "text/html": [
              "<div>\n",
              "<style scoped>\n",
              "    .dataframe tbody tr th:only-of-type {\n",
              "        vertical-align: middle;\n",
              "    }\n",
              "\n",
              "    .dataframe tbody tr th {\n",
              "        vertical-align: top;\n",
              "    }\n",
              "\n",
              "    .dataframe thead th {\n",
              "        text-align: right;\n",
              "    }\n",
              "</style>\n",
              "<table border=\"1\" class=\"dataframe\">\n",
              "  <thead>\n",
              "    <tr style=\"text-align: right;\">\n",
              "      <th></th>\n",
              "      <th>phone mark</th>\n",
              "      <th>avg(salary)</th>\n",
              "    </tr>\n",
              "  </thead>\n",
              "  <tbody>\n",
              "    <tr>\n",
              "      <th>0</th>\n",
              "      <td>Samsung</td>\n",
              "      <td>715.0</td>\n",
              "    </tr>\n",
              "    <tr>\n",
              "      <th>1</th>\n",
              "      <td>Iphone</td>\n",
              "      <td>4275.0</td>\n",
              "    </tr>\n",
              "  </tbody>\n",
              "</table>\n",
              "</div>"
            ]
          },
          "metadata": {},
          "execution_count": 86
        }
      ]
    },
    {
      "cell_type": "code",
      "source": [
        "df.groupBy('phone mark').mean('salary').sort('avg(salary)', ascending=False).show()"
      ],
      "metadata": {
        "colab": {
          "base_uri": "https://localhost:8080/"
        },
        "id": "nzcQRtFVvvgB",
        "outputId": "7dc7fd37-1035-457f-a858-58a77f2cf701"
      },
      "execution_count": 88,
      "outputs": [
        {
          "output_type": "stream",
          "name": "stdout",
          "text": [
            "+----------+-----------+\n",
            "|phone mark|avg(salary)|\n",
            "+----------+-----------+\n",
            "|    Iphone|     4275.0|\n",
            "|      NULL|     2460.0|\n",
            "|   Samsung|      715.0|\n",
            "+----------+-----------+\n",
            "\n"
          ]
        }
      ]
    },
    {
      "cell_type": "code",
      "source": [],
      "metadata": {
        "id": "00QrUU0lyKEx"
      },
      "execution_count": null,
      "outputs": []
    }
  ]
}