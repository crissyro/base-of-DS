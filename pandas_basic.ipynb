{
 "cells": [
  {
   "cell_type": "markdown",
   "id": "fe2688f7-24c1-442c-b579-ac5a8e799104",
   "metadata": {},
   "source": [
    "<h1>Pandas basic</h1>"
   ]
  },
  {
   "cell_type": "code",
   "execution_count": 1,
   "id": "2df0683f-257f-489c-8685-e3f68b8ad9d1",
   "metadata": {},
   "outputs": [],
   "source": [
    "import pandas as pd"
   ]
  },
  {
   "cell_type": "code",
   "execution_count": 2,
   "id": "e9d41d23-9b1d-45f0-84c6-61b4b706f8cd",
   "metadata": {},
   "outputs": [
    {
     "data": {
      "text/html": [
       "<div>\n",
       "<style scoped>\n",
       "    .dataframe tbody tr th:only-of-type {\n",
       "        vertical-align: middle;\n",
       "    }\n",
       "\n",
       "    .dataframe tbody tr th {\n",
       "        vertical-align: top;\n",
       "    }\n",
       "\n",
       "    .dataframe thead th {\n",
       "        text-align: right;\n",
       "    }\n",
       "</style>\n",
       "<table border=\"1\" class=\"dataframe\">\n",
       "  <thead>\n",
       "    <tr style=\"text-align: right;\">\n",
       "      <th></th>\n",
       "      <th>A</th>\n",
       "      <th>B</th>\n",
       "      <th>C</th>\n",
       "    </tr>\n",
       "  </thead>\n",
       "  <tbody>\n",
       "    <tr>\n",
       "      <th>row1</th>\n",
       "      <td>1</td>\n",
       "      <td>4</td>\n",
       "      <td>7</td>\n",
       "    </tr>\n",
       "    <tr>\n",
       "      <th>row2</th>\n",
       "      <td>2</td>\n",
       "      <td>5</td>\n",
       "      <td>8</td>\n",
       "    </tr>\n",
       "    <tr>\n",
       "      <th>row3</th>\n",
       "      <td>3</td>\n",
       "      <td>6</td>\n",
       "      <td>9</td>\n",
       "    </tr>\n",
       "  </tbody>\n",
       "</table>\n",
       "</div>"
      ],
      "text/plain": [
       "      A  B  C\n",
       "row1  1  4  7\n",
       "row2  2  5  8\n",
       "row3  3  6  9"
      ]
     },
     "execution_count": 2,
     "metadata": {},
     "output_type": "execute_result"
    }
   ],
   "source": [
    "# Создание DataFrame\n",
    "data = {\n",
    "    'A': [1, 2, 3],\n",
    "    'B': [4, 5, 6],\n",
    "    'C': [7, 8, 9]\n",
    "}\n",
    "df = pd.DataFrame(data, index=['row1', 'row2', 'row3'])\n",
    "\n",
    "df.head()"
   ]
  },
  {
   "cell_type": "code",
   "execution_count": 3,
   "id": "9365d839-66b0-4a65-9f3a-e3476e4e290a",
   "metadata": {},
   "outputs": [
    {
     "name": "stdout",
     "output_type": "stream",
     "text": [
      "A    1\n",
      "B    4\n",
      "C    7\n",
      "Name: row1, dtype: int64\n"
     ]
    }
   ],
   "source": [
    "# Доступ к строке по метке\n",
    "print(df.loc['row1'])"
   ]
  },
  {
   "cell_type": "code",
   "execution_count": 4,
   "id": "6170d6d0-a877-4208-8443-8b23cad0bc75",
   "metadata": {},
   "outputs": [
    {
     "name": "stdout",
     "output_type": "stream",
     "text": [
      "      A  B  C\n",
      "row1  1  4  7\n",
      "row2  2  5  8\n"
     ]
    }
   ],
   "source": [
    "# Доступ к нескольким строкам\n",
    "print(df.loc[['row1', 'row2']])"
   ]
  },
  {
   "cell_type": "code",
   "execution_count": 5,
   "id": "bb6cd7e2-4210-406d-8946-4a2475ae9f00",
   "metadata": {},
   "outputs": [
    {
     "name": "stdout",
     "output_type": "stream",
     "text": [
      "1\n"
     ]
    }
   ],
   "source": [
    "# Доступ к строкам и столбцам\n",
    "print(df.loc['row1', 'A'])  # Значение в строке 'row1' и столбце 'A'"
   ]
  },
  {
   "cell_type": "code",
   "execution_count": 6,
   "id": "e3e33fdd-0c8a-42ac-8fba-5a480aeb13f5",
   "metadata": {},
   "outputs": [
    {
     "name": "stdout",
     "output_type": "stream",
     "text": [
      "      A  B\n",
      "row1  1  4\n",
      "row2  2  5\n"
     ]
    }
   ],
   "source": [
    "# Доступ к срезу строк и столбцов\n",
    "print(df.loc['row1':'row2', 'A':'B'])"
   ]
  },
  {
   "cell_type": "code",
   "execution_count": 7,
   "id": "08fc5078-ac38-41f6-9b62-e027fb75bbeb",
   "metadata": {},
   "outputs": [
    {
     "name": "stdout",
     "output_type": "stream",
     "text": [
      "A    1\n",
      "B    4\n",
      "C    7\n",
      "Name: row1, dtype: int64\n"
     ]
    }
   ],
   "source": [
    "# Доступ к строке по индексу\n",
    "print(df.iloc[0])  # Первая строка"
   ]
  },
  {
   "cell_type": "code",
   "execution_count": 8,
   "id": "4cf10c49-999f-4732-863e-280cc6a30bbb",
   "metadata": {},
   "outputs": [
    {
     "name": "stdout",
     "output_type": "stream",
     "text": [
      "      A  B  C\n",
      "row1  1  4  7\n",
      "row2  2  5  8\n"
     ]
    }
   ],
   "source": [
    "# Доступ к нескольким строкам\n",
    "print(df.iloc[[0, 1]])  # Первые две строки"
   ]
  },
  {
   "cell_type": "code",
   "execution_count": 9,
   "id": "d85b70c0-e3c0-4bed-be94-47f73fc84350",
   "metadata": {},
   "outputs": [
    {
     "name": "stdout",
     "output_type": "stream",
     "text": [
      "1\n"
     ]
    }
   ],
   "source": [
    "# Доступ к строкам и столбцам по индексам\n",
    "print(df.iloc[0, 0])  # Значение в первой строке и первом столбце"
   ]
  },
  {
   "cell_type": "code",
   "execution_count": 10,
   "id": "6b736a45-53ec-459f-b750-6464a7ffe042",
   "metadata": {},
   "outputs": [
    {
     "name": "stdout",
     "output_type": "stream",
     "text": [
      "      A  B\n",
      "row1  1  4\n",
      "row2  2  5\n"
     ]
    }
   ],
   "source": [
    "# Доступ к срезу строк и столбцов\n",
    "print(df.iloc[0:2, 0:2])  # Первые две строки и первые два столбца"
   ]
  },
  {
   "cell_type": "code",
   "execution_count": 11,
   "id": "94acb12c-6c2d-4bd0-ad72-61fe72dd82ca",
   "metadata": {},
   "outputs": [
    {
     "data": {
      "text/plain": [
       "row1    1\n",
       "row2    2\n",
       "row3    3\n",
       "Name: A, dtype: int64"
      ]
     },
     "execution_count": 11,
     "metadata": {},
     "output_type": "execute_result"
    }
   ],
   "source": [
    "df['A']"
   ]
  },
  {
   "cell_type": "code",
   "execution_count": 12,
   "id": "3c5d3481-c051-4397-8efa-555d60b50b32",
   "metadata": {},
   "outputs": [
    {
     "data": {
      "text/html": [
       "<div>\n",
       "<style scoped>\n",
       "    .dataframe tbody tr th:only-of-type {\n",
       "        vertical-align: middle;\n",
       "    }\n",
       "\n",
       "    .dataframe tbody tr th {\n",
       "        vertical-align: top;\n",
       "    }\n",
       "\n",
       "    .dataframe thead th {\n",
       "        text-align: right;\n",
       "    }\n",
       "</style>\n",
       "<table border=\"1\" class=\"dataframe\">\n",
       "  <thead>\n",
       "    <tr style=\"text-align: right;\">\n",
       "      <th></th>\n",
       "      <th>Name</th>\n",
       "      <th>Age</th>\n",
       "      <th>City</th>\n",
       "    </tr>\n",
       "  </thead>\n",
       "  <tbody>\n",
       "    <tr>\n",
       "      <th>0</th>\n",
       "      <td>Alice</td>\n",
       "      <td>25</td>\n",
       "      <td>New York</td>\n",
       "    </tr>\n",
       "    <tr>\n",
       "      <th>1</th>\n",
       "      <td>Bob</td>\n",
       "      <td>30</td>\n",
       "      <td>Los Angeles</td>\n",
       "    </tr>\n",
       "    <tr>\n",
       "      <th>2</th>\n",
       "      <td>Charlie</td>\n",
       "      <td>35</td>\n",
       "      <td>Chicago</td>\n",
       "    </tr>\n",
       "  </tbody>\n",
       "</table>\n",
       "</div>"
      ],
      "text/plain": [
       "      Name  Age         City\n",
       "0    Alice   25     New York\n",
       "1      Bob   30  Los Angeles\n",
       "2  Charlie   35      Chicago"
      ]
     },
     "execution_count": 12,
     "metadata": {},
     "output_type": "execute_result"
    }
   ],
   "source": [
    "data = {\n",
    "    'Name': ['Alice', 'Bob', 'Charlie'],\n",
    "    'Age': [25, 30, 35],\n",
    "    'City': ['New York', 'Los Angeles', 'Chicago']\n",
    "}\n",
    "df = pd.DataFrame(data)\n",
    "df.head()"
   ]
  },
  {
   "cell_type": "code",
   "execution_count": 13,
   "id": "a70cb3f9-5e9c-41c6-b2a0-5ace42871455",
   "metadata": {},
   "outputs": [
    {
     "name": "stdout",
     "output_type": "stream",
     "text": [
      "         Age         City\n",
      "Name                     \n",
      "Alice     25     New York\n",
      "Bob       30  Los Angeles\n",
      "Charlie   35      Chicago\n"
     ]
    }
   ],
   "source": [
    "# Установка столбца 'Name' в качестве индекса\n",
    "df_set_index = df.set_index('Name')\n",
    "\n",
    "print(df_set_index)"
   ]
  },
  {
   "cell_type": "code",
   "execution_count": 14,
   "id": "c119b4f2-f557-41ce-ac61-09b232c84525",
   "metadata": {},
   "outputs": [
    {
     "name": "stdout",
     "output_type": "stream",
     "text": [
      "            Name  Age         City\n",
      "Name                              \n",
      "Alice      Alice   25     New York\n",
      "Bob          Bob   30  Los Angeles\n",
      "Charlie  Charlie   35      Chicago\n"
     ]
    }
   ],
   "source": [
    "df_set_index = df.set_index('Name', drop=False)\n",
    "print(df_set_index)"
   ]
  },
  {
   "cell_type": "code",
   "execution_count": 15,
   "id": "db5ab86e-a997-4b9b-98d2-d12cd7fdae70",
   "metadata": {},
   "outputs": [
    {
     "name": "stdout",
     "output_type": "stream",
     "text": [
      "                     Age\n",
      "Name    City            \n",
      "Alice   New York      25\n",
      "Bob     Los Angeles   30\n",
      "Charlie Chicago       35\n"
     ]
    }
   ],
   "source": [
    "df_set_index = df.set_index('Name').set_index('City', append=True)\n",
    "print(df_set_index)"
   ]
  },
  {
   "cell_type": "code",
   "execution_count": 16,
   "id": "febe7aa2-2aa7-4824-afbf-af4409c979ac",
   "metadata": {},
   "outputs": [
    {
     "name": "stdout",
     "output_type": "stream",
     "text": [
      "         Age         City\n",
      "Name                     \n",
      "Alice     25     New York\n",
      "Bob       30  Los Angeles\n",
      "Charlie   35      Chicago\n"
     ]
    }
   ],
   "source": [
    "df.set_index('Name', inplace=True)\n",
    "print(df)"
   ]
  },
  {
   "cell_type": "code",
   "execution_count": 17,
   "id": "2a65e64f-c2bb-4119-ba1f-6b442602dfc6",
   "metadata": {},
   "outputs": [
    {
     "name": "stdout",
     "output_type": "stream",
     "text": [
      "             Age        Salary\n",
      "count   4.000000      4.000000\n",
      "mean   32.500000  65000.000000\n",
      "std     6.454972  12909.944487\n",
      "min    25.000000  50000.000000\n",
      "25%    28.750000  57500.000000\n",
      "50%    32.500000  65000.000000\n",
      "75%    36.250000  72500.000000\n",
      "max    40.000000  80000.000000\n"
     ]
    }
   ],
   "source": [
    "data = {\n",
    "        'Age': [25, 30, 35, 40],\n",
    "        'Salary': [50000, 60000, 70000, 80000]\n",
    "}\n",
    "df = pd.DataFrame(data)\n",
    "print(df.describe())"
   ]
  },
  {
   "cell_type": "code",
   "execution_count": 18,
   "id": "808474ef-4c39-42cf-bd19-0f5ea0d9a125",
   "metadata": {},
   "outputs": [
    {
     "name": "stdout",
     "output_type": "stream",
     "text": [
      "65000.0\n"
     ]
    }
   ],
   "source": [
    "print(df['Salary'].mean())"
   ]
  },
  {
   "cell_type": "code",
   "execution_count": 19,
   "id": "a4223d85-1e66-456e-8a6d-371102520a11",
   "metadata": {},
   "outputs": [
    {
     "name": "stdout",
     "output_type": "stream",
     "text": [
      "130\n"
     ]
    }
   ],
   "source": [
    "print(df['Age'].sum())"
   ]
  },
  {
   "cell_type": "code",
   "execution_count": 20,
   "id": "3353730d-0344-4825-95b7-df7423f614af",
   "metadata": {},
   "outputs": [
    {
     "name": "stdout",
     "output_type": "stream",
     "text": [
      "4\n"
     ]
    }
   ],
   "source": [
    " print(df['Salary'].count())"
   ]
  },
  {
   "cell_type": "code",
   "execution_count": 21,
   "id": "9d71e627-c4b4-4d30-bc20-4e356c5c4d68",
   "metadata": {},
   "outputs": [
    {
     "name": "stdout",
     "output_type": "stream",
     "text": [
      "25\n",
      "80000\n"
     ]
    }
   ],
   "source": [
    "print(df['Age'].min())\n",
    "print(df['Salary'].max())"
   ]
  },
  {
   "cell_type": "code",
   "execution_count": 22,
   "id": "e054d604-2b7b-4a88-a684-336dc439f0bf",
   "metadata": {},
   "outputs": [
    {
     "name": "stdout",
     "output_type": "stream",
     "text": [
      "65000.0\n"
     ]
    }
   ],
   "source": [
    "print(df['Salary'].median())"
   ]
  },
  {
   "cell_type": "code",
   "execution_count": 23,
   "id": "0f365cde-96a1-481e-aa56-9deb0cabc3b7",
   "metadata": {},
   "outputs": [
    {
     "name": "stdout",
     "output_type": "stream",
     "text": [
      "12909.944487358056\n"
     ]
    }
   ],
   "source": [
    "print(df['Salary'].std())"
   ]
  },
  {
   "cell_type": "code",
   "execution_count": 24,
   "id": "e6235fa0-be4a-4322-b091-f9bce662772d",
   "metadata": {},
   "outputs": [
    {
     "data": {
      "text/html": [
       "<div>\n",
       "<style scoped>\n",
       "    .dataframe tbody tr th:only-of-type {\n",
       "        vertical-align: middle;\n",
       "    }\n",
       "\n",
       "    .dataframe tbody tr th {\n",
       "        vertical-align: top;\n",
       "    }\n",
       "\n",
       "    .dataframe thead th {\n",
       "        text-align: right;\n",
       "    }\n",
       "</style>\n",
       "<table border=\"1\" class=\"dataframe\">\n",
       "  <thead>\n",
       "    <tr style=\"text-align: right;\">\n",
       "      <th></th>\n",
       "      <th>Salary</th>\n",
       "    </tr>\n",
       "    <tr>\n",
       "      <th>Age</th>\n",
       "      <th></th>\n",
       "    </tr>\n",
       "  </thead>\n",
       "  <tbody>\n",
       "    <tr>\n",
       "      <th>25</th>\n",
       "      <td>50000.0</td>\n",
       "    </tr>\n",
       "    <tr>\n",
       "      <th>30</th>\n",
       "      <td>60000.0</td>\n",
       "    </tr>\n",
       "    <tr>\n",
       "      <th>35</th>\n",
       "      <td>70000.0</td>\n",
       "    </tr>\n",
       "    <tr>\n",
       "      <th>40</th>\n",
       "      <td>80000.0</td>\n",
       "    </tr>\n",
       "  </tbody>\n",
       "</table>\n",
       "</div>"
      ],
      "text/plain": [
       "      Salary\n",
       "Age         \n",
       "25   50000.0\n",
       "30   60000.0\n",
       "35   70000.0\n",
       "40   80000.0"
      ]
     },
     "execution_count": 24,
     "metadata": {},
     "output_type": "execute_result"
    }
   ],
   "source": [
    "#Позволяет группировать данные по определенному столбцу и применять агрегирующие функции\n",
    "df.groupby('Age').mean()"
   ]
  },
  {
   "cell_type": "code",
   "execution_count": 26,
   "id": "535a0bc0-abad-4875-80b1-df676f81b8e3",
   "metadata": {},
   "outputs": [
    {
     "name": "stdout",
     "output_type": "stream",
     "text": [
      "0    60500.0\n",
      "1    72600.0\n",
      "2    84700.0\n",
      "3    96800.0\n",
      "Name: Salary, dtype: float64\n"
     ]
    }
   ],
   "source": [
    "df['Salary'] = df['Salary'].map(lambda x: x * 1.1)  # Увеличиваем зарплату на 10%\n",
    "print(df['Salary'])"
   ]
  },
  {
   "cell_type": "code",
   "execution_count": 28,
   "id": "dc36d5a2-6a7d-4f35-a1cf-bf53b5bd1a79",
   "metadata": {},
   "outputs": [
    {
     "name": "stdout",
     "output_type": "stream",
     "text": [
      "0    35.0\n",
      "1    40.0\n",
      "2    45.0\n",
      "3    50.0\n",
      "Name: New_Column, dtype: float64\n"
     ]
    }
   ],
   "source": [
    "df['New_Column'] = df.apply(lambda row: row['Age'] + 10, axis=1)  # Добавляем 10 к возрасту\n",
    "print(df['New_Column'])"
   ]
  },
  {
   "cell_type": "code",
   "execution_count": 29,
   "id": "5b65778f-9972-4f32-9fab-c7f739bf60c1",
   "metadata": {},
   "outputs": [
    {
     "name": "stderr",
     "output_type": "stream",
     "text": [
      "/tmp/ipykernel_14047/793467474.py:1: FutureWarning: DataFrame.applymap has been deprecated. Use DataFrame.map instead.\n",
      "  df.applymap(lambda x: x * 2)  # Удваиваем все значения в DataFrame\n"
     ]
    },
    {
     "data": {
      "text/html": [
       "<div>\n",
       "<style scoped>\n",
       "    .dataframe tbody tr th:only-of-type {\n",
       "        vertical-align: middle;\n",
       "    }\n",
       "\n",
       "    .dataframe tbody tr th {\n",
       "        vertical-align: top;\n",
       "    }\n",
       "\n",
       "    .dataframe thead th {\n",
       "        text-align: right;\n",
       "    }\n",
       "</style>\n",
       "<table border=\"1\" class=\"dataframe\">\n",
       "  <thead>\n",
       "    <tr style=\"text-align: right;\">\n",
       "      <th></th>\n",
       "      <th>Age</th>\n",
       "      <th>Salary</th>\n",
       "      <th>New_Column</th>\n",
       "    </tr>\n",
       "  </thead>\n",
       "  <tbody>\n",
       "    <tr>\n",
       "      <th>0</th>\n",
       "      <td>50</td>\n",
       "      <td>121000.0</td>\n",
       "      <td>70.0</td>\n",
       "    </tr>\n",
       "    <tr>\n",
       "      <th>1</th>\n",
       "      <td>60</td>\n",
       "      <td>145200.0</td>\n",
       "      <td>80.0</td>\n",
       "    </tr>\n",
       "    <tr>\n",
       "      <th>2</th>\n",
       "      <td>70</td>\n",
       "      <td>169400.0</td>\n",
       "      <td>90.0</td>\n",
       "    </tr>\n",
       "    <tr>\n",
       "      <th>3</th>\n",
       "      <td>80</td>\n",
       "      <td>193600.0</td>\n",
       "      <td>100.0</td>\n",
       "    </tr>\n",
       "  </tbody>\n",
       "</table>\n",
       "</div>"
      ],
      "text/plain": [
       "   Age    Salary  New_Column\n",
       "0   50  121000.0        70.0\n",
       "1   60  145200.0        80.0\n",
       "2   70  169400.0        90.0\n",
       "3   80  193600.0       100.0"
      ]
     },
     "execution_count": 29,
     "metadata": {},
     "output_type": "execute_result"
    }
   ],
   "source": [
    "df.applymap(lambda x: x * 2)  # Удваиваем все значения в DataFrame"
   ]
  },
  {
   "cell_type": "code",
   "execution_count": 30,
   "id": "e1f8b852-b8f1-4fe0-82f2-215373516c92",
   "metadata": {},
   "outputs": [
    {
     "name": "stdout",
     "output_type": "stream",
     "text": [
      "0    1.0\n",
      "1    1.0\n",
      "2    1.0\n",
      "3    1.0\n",
      "Name: Salary_Transformed, dtype: float64\n"
     ]
    }
   ],
   "source": [
    "df['Salary_Transformed'] = df.groupby('Age')['Salary'].transform(lambda x: x / x.sum())\n",
    "print(df['Salary_Transformed'])"
   ]
  },
  {
   "cell_type": "code",
   "execution_count": null,
   "id": "2e1926de-e939-4301-9ccf-a2593880db01",
   "metadata": {},
   "outputs": [],
   "source": []
  }
 ],
 "metadata": {
  "kernelspec": {
   "display_name": "Python 3 (ipykernel)",
   "language": "python",
   "name": "python3"
  },
  "language_info": {
   "codemirror_mode": {
    "name": "ipython",
    "version": 3
   },
   "file_extension": ".py",
   "mimetype": "text/x-python",
   "name": "python",
   "nbconvert_exporter": "python",
   "pygments_lexer": "ipython3",
   "version": "3.12.3"
  }
 },
 "nbformat": 4,
 "nbformat_minor": 5
}
