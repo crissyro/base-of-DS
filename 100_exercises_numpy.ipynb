{
 "cells": [
  {
   "cell_type": "markdown",
   "id": "8abbf79b-3b20-4d8e-a1e7-be183d8532a1",
   "metadata": {},
   "source": [
    "<h1>100 numpy exercises </h1>"
   ]
  },
  {
   "cell_type": "markdown",
   "id": "3820c76c-0528-4a3f-9da9-f4600eb7bc76",
   "metadata": {},
   "source": [
    "1. Import the numpy package under the name np"
   ]
  },
  {
   "cell_type": "code",
   "execution_count": 2,
   "id": "613b85a5-2616-4d52-8db8-6cae442ab0cb",
   "metadata": {},
   "outputs": [],
   "source": [
    "import numpy as np"
   ]
  },
  {
   "cell_type": "markdown",
   "id": "98b3e4c6-03e8-4ba8-8b3d-0c89043c59c0",
   "metadata": {},
   "source": [
    "2. Print the numpy version and the configurationB"
   ]
  },
  {
   "cell_type": "code",
   "execution_count": 3,
   "id": "195101e2-2729-41c4-983f-2fb31ce35631",
   "metadata": {},
   "outputs": [
    {
     "name": "stdout",
     "output_type": "stream",
     "text": [
      "2.0.0\n",
      "Build Dependencies:\n",
      "  blas:\n",
      "    detection method: pkgconfig\n",
      "    found: true\n",
      "    include directory: /opt/_internal/cpython-3.12.2/lib/python3.12/site-packages/scipy_openblas64/include\n",
      "    lib directory: /opt/_internal/cpython-3.12.2/lib/python3.12/site-packages/scipy_openblas64/lib\n",
      "    name: scipy-openblas\n",
      "    openblas configuration: OpenBLAS 0.3.27  USE64BITINT DYNAMIC_ARCH NO_AFFINITY\n",
      "      Zen MAX_THREADS=64\n",
      "    pc file directory: /project/.openblas\n",
      "    version: 0.3.27\n",
      "  lapack:\n",
      "    detection method: pkgconfig\n",
      "    found: true\n",
      "    include directory: /opt/_internal/cpython-3.12.2/lib/python3.12/site-packages/scipy_openblas64/include\n",
      "    lib directory: /opt/_internal/cpython-3.12.2/lib/python3.12/site-packages/scipy_openblas64/lib\n",
      "    name: scipy-openblas\n",
      "    openblas configuration: OpenBLAS 0.3.27  USE64BITINT DYNAMIC_ARCH NO_AFFINITY\n",
      "      Zen MAX_THREADS=64\n",
      "    pc file directory: /project/.openblas\n",
      "    version: 0.3.27\n",
      "Compilers:\n",
      "  c:\n",
      "    commands: cc\n",
      "    linker: ld.bfd\n",
      "    name: gcc\n",
      "    version: 10.2.1\n",
      "  c++:\n",
      "    commands: c++\n",
      "    linker: ld.bfd\n",
      "    name: gcc\n",
      "    version: 10.2.1\n",
      "  cython:\n",
      "    commands: cython\n",
      "    linker: cython\n",
      "    name: cython\n",
      "    version: 3.0.10\n",
      "Machine Information:\n",
      "  build:\n",
      "    cpu: x86_64\n",
      "    endian: little\n",
      "    family: x86_64\n",
      "    system: linux\n",
      "  host:\n",
      "    cpu: x86_64\n",
      "    endian: little\n",
      "    family: x86_64\n",
      "    system: linux\n",
      "Python Information:\n",
      "  path: /tmp/build-env-zb_wmzi7/bin/python\n",
      "  version: '3.12'\n",
      "SIMD Extensions:\n",
      "  baseline:\n",
      "  - SSE\n",
      "  - SSE2\n",
      "  - SSE3\n",
      "  found:\n",
      "  - SSSE3\n",
      "  - SSE41\n",
      "  - POPCNT\n",
      "  - SSE42\n",
      "  - AVX\n",
      "  - F16C\n",
      "  - FMA3\n",
      "  - AVX2\n",
      "  not found:\n",
      "  - AVX512F\n",
      "  - AVX512CD\n",
      "  - AVX512_KNL\n",
      "  - AVX512_KNM\n",
      "  - AVX512_SKX\n",
      "  - AVX512_CLX\n",
      "  - AVX512_CNL\n",
      "  - AVX512_ICL\n",
      "\n"
     ]
    }
   ],
   "source": [
    "print(np.__version__)\n",
    "np.show_config()"
   ]
  },
  {
   "cell_type": "markdown",
   "id": "7e2b6956-55b9-4b17-a845-695343b7c47c",
   "metadata": {},
   "source": [
    "3. Create a null vector of size 10"
   ]
  },
  {
   "cell_type": "code",
   "execution_count": 6,
   "id": "a627ab57-8f09-4462-bb59-c2c90c8719fd",
   "metadata": {},
   "outputs": [
    {
     "data": {
      "text/plain": [
       "array([0., 0., 0., 0., 0., 0., 0., 0., 0., 0.])"
      ]
     },
     "execution_count": 6,
     "metadata": {},
     "output_type": "execute_result"
    }
   ],
   "source": [
    "null_vector = np.zeros(10)\n",
    "null_vector"
   ]
  },
  {
   "cell_type": "markdown",
   "id": "1f2791fd-7794-4f44-ba18-ec2acaae4b52",
   "metadata": {},
   "source": [
    "4. How to find the memory size of any array "
   ]
  },
  {
   "cell_type": "code",
   "execution_count": 7,
   "id": "98299091-07f1-4b1b-902a-5d680448845c",
   "metadata": {},
   "outputs": [
    {
     "data": {
      "text/plain": [
       "80"
      ]
     },
     "execution_count": 7,
     "metadata": {},
     "output_type": "execute_result"
    }
   ],
   "source": [
    "size = null_vector.size * null_vector.itemsize\n",
    "size"
   ]
  },
  {
   "cell_type": "markdown",
   "id": "02bb4558-4cec-48a1-9254-cda34c466544",
   "metadata": {},
   "source": [
    "5. How to get the documentation of the numpy add function from the command line?"
   ]
  },
  {
   "cell_type": "code",
   "execution_count": 8,
   "id": "9e7be350-f663-4911-a1a7-c4d6fefbbecf",
   "metadata": {},
   "outputs": [
    {
     "name": "stdout",
     "output_type": "stream",
     "text": [
      "Return the number of dimensions of an array.\n",
      "\n",
      "Parameters\n",
      "----------\n",
      "a : array_like\n",
      "    Input array.  If it is not already an ndarray, a conversion is\n",
      "    attempted.\n",
      "\n",
      "Returns\n",
      "-------\n",
      "number_of_dimensions : int\n",
      "    The number of dimensions in `a`.  Scalars are zero-dimensional.\n",
      "\n",
      "See Also\n",
      "--------\n",
      "ndarray.ndim : equivalent method\n",
      "shape : dimensions of array\n",
      "ndarray.shape : dimensions of array\n",
      "\n",
      "Examples\n",
      "--------\n",
      ">>> np.ndim([[1,2,3],[4,5,6]])\n",
      "2\n",
      ">>> np.ndim(np.array([[1,2,3],[4,5,6]]))\n",
      "2\n",
      ">>> np.ndim(1)\n",
      "0\n",
      "None\n"
     ]
    }
   ],
   "source": [
    "print(np.info(np.ndim))"
   ]
  },
  {
   "cell_type": "markdown",
   "id": "e84d43a0-56a5-4394-abc1-bc5f666adbde",
   "metadata": {},
   "source": [
    "6. Create a null vector of size 10 but the fifth value which is 1 "
   ]
  },
  {
   "cell_type": "code",
   "execution_count": 11,
   "id": "8aa6cdcc-2222-4281-8671-5092e6564056",
   "metadata": {},
   "outputs": [
    {
     "data": {
      "text/plain": [
       "array([0., 0., 0., 0., 1., 0., 0., 0., 0., 0.])"
      ]
     },
     "execution_count": 11,
     "metadata": {},
     "output_type": "execute_result"
    }
   ],
   "source": [
    "v = np.zeros(10)\n",
    "v[4] = 1\n",
    "v"
   ]
  },
  {
   "cell_type": "markdown",
   "id": "4d22c24f-da4d-4d76-9405-8d8166905437",
   "metadata": {},
   "source": [
    "7. Create a vector with values ranging from 10 to 49 "
   ]
  },
  {
   "cell_type": "code",
   "execution_count": 14,
   "id": "4174bd1f-b40f-433d-af6a-7051ad1ee862",
   "metadata": {},
   "outputs": [
    {
     "data": {
      "text/plain": [
       "array([10, 11, 12, 13, 14, 15, 16, 17, 18, 19, 20, 21, 22, 23, 24, 25, 26, 27, 28, 29, 30, 31, 32, 33, 34, 35, 36, 37, 38, 39,\n",
       "       40, 41, 42, 43, 44, 45, 46, 47, 48, 49])"
      ]
     },
     "execution_count": 14,
     "metadata": {},
     "output_type": "execute_result"
    }
   ],
   "source": [
    "np.set_printoptions(linewidth=130)  # Установка параметров печати.\n",
    "#Параметры этого метода позволяют определить способы отображения чисел с плавающей запятой,\n",
    "#массивов и других объектов NumPy.\n",
    "#linewidth - кол-во знаков печати в ширину.\n",
    "v = np.arange(10, 50)\n",
    "v"
   ]
  },
  {
   "cell_type": "markdown",
   "id": "ef659356-296a-44bc-9e57-365eadd4beb9",
   "metadata": {},
   "source": [
    "8. Reverse a vector (first element becomes last)"
   ]
  },
  {
   "cell_type": "code",
   "execution_count": 15,
   "id": "40b7b31b-decc-44d9-962f-f6b9f2307d4f",
   "metadata": {},
   "outputs": [
    {
     "data": {
      "text/plain": [
       "array([49, 48, 47, 46, 45, 44, 43, 42, 41, 40, 39, 38, 37, 36, 35, 34, 33, 32, 31, 30, 29, 28, 27, 26, 25, 24, 23, 22, 21, 20,\n",
       "       19, 18, 17, 16, 15, 14, 13, 12, 11, 10])"
      ]
     },
     "execution_count": 15,
     "metadata": {},
     "output_type": "execute_result"
    }
   ],
   "source": [
    "v = v[::-1]\n",
    "v"
   ]
  },
  {
   "cell_type": "markdown",
   "id": "ace6db44-f4eb-45b0-b918-4e887d9e854d",
   "metadata": {},
   "source": [
    "9. Create a 3x3 matrix with values ranging from 0 to 8 "
   ]
  },
  {
   "cell_type": "code",
   "execution_count": 16,
   "id": "a6bcdb33-7c7a-4605-9deb-0326ff2ca777",
   "metadata": {},
   "outputs": [
    {
     "data": {
      "text/plain": [
       "array([[0, 1, 2],\n",
       "       [3, 4, 5],\n",
       "       [6, 7, 8]])"
      ]
     },
     "execution_count": 16,
     "metadata": {},
     "output_type": "execute_result"
    }
   ],
   "source": [
    "v = np.arange(9).reshape(3, 3)\n",
    "v"
   ]
  },
  {
   "cell_type": "markdown",
   "id": "d02ae140-8e1a-4244-a1c5-ef6baad2808b",
   "metadata": {},
   "source": [
    "10. Find indices of non-zero elements from array [1,2,0,0,4,0]"
   ]
  },
  {
   "cell_type": "code",
   "execution_count": 19,
   "id": "e146d472-cdd2-4ed5-8a2c-0dbd3b5c6d6a",
   "metadata": {},
   "outputs": [
    {
     "data": {
      "text/plain": [
       "(array([0, 1, 4]),)"
      ]
     },
     "execution_count": 19,
     "metadata": {},
     "output_type": "execute_result"
    }
   ],
   "source": [
    "v = np.array([1,2,0,0,4,0])\n",
    "v_n = np.nonzero(v)\n",
    "v_n"
   ]
  },
  {
   "cell_type": "markdown",
   "id": "0fe6e9a2-0ebb-46fb-9fb6-bf590de897e2",
   "metadata": {},
   "source": [
    "11. Create a 3x3 identity matrix"
   ]
  },
  {
   "cell_type": "code",
   "execution_count": 21,
   "id": "28dfe509-cacc-4457-9d2a-94a367a4a721",
   "metadata": {},
   "outputs": [
    {
     "data": {
      "text/plain": [
       "array([[1., 0., 0.],\n",
       "       [0., 1., 0.],\n",
       "       [0., 0., 1.]])"
      ]
     },
     "execution_count": 21,
     "metadata": {},
     "output_type": "execute_result"
    }
   ],
   "source": [
    "m = np.eye(3)\n",
    "m"
   ]
  },
  {
   "cell_type": "markdown",
   "id": "84b2abd7-b227-459f-9491-ec12239ee90c",
   "metadata": {},
   "source": [
    "12. Create a 3x3x3 array with random values "
   ]
  },
  {
   "cell_type": "code",
   "execution_count": 23,
   "id": "2a0bb233-bf52-44e6-88cc-d92f4030f1d1",
   "metadata": {},
   "outputs": [
    {
     "data": {
      "text/plain": [
       "array([[[1, 2, 1],\n",
       "        [2, 0, 0],\n",
       "        [2, 2, 1]],\n",
       "\n",
       "       [[1, 2, 0],\n",
       "        [1, 1, 1],\n",
       "        [0, 0, 2]],\n",
       "\n",
       "       [[0, 2, 1],\n",
       "        [1, 2, 2],\n",
       "        [1, 1, 2]]])"
      ]
     },
     "execution_count": 23,
     "metadata": {},
     "output_type": "execute_result"
    }
   ],
   "source": [
    "v = np.random.randint(low=0 , high= 3,size=(3,3,3))\n",
    "v"
   ]
  },
  {
   "cell_type": "markdown",
   "id": "27963717-9395-4d92-8408-9d33aa46de95",
   "metadata": {},
   "source": [
    "13. Create a 10x10 array with random values and find the minimum and maximum values"
   ]
  },
  {
   "cell_type": "code",
   "execution_count": 32,
   "id": "fc84756b-d97e-4e77-8760-942e1c7f5ef2",
   "metadata": {},
   "outputs": [
    {
     "data": {
      "text/plain": [
       "(np.int64(99), np.int64(1))"
      ]
     },
     "execution_count": 32,
     "metadata": {},
     "output_type": "execute_result"
    }
   ],
   "source": [
    "v = np.random.randint(low=0 , high= 100,size=(10, 10))\n",
    "(np.max(v), np.min(v))"
   ]
  },
  {
   "cell_type": "markdown",
   "id": "656dca31-f8e2-4418-a777-9796a5c190a9",
   "metadata": {},
   "source": [
    "14. Create a random vector of size 30 and find the mean value"
   ]
  },
  {
   "cell_type": "code",
   "execution_count": 35,
   "id": "e9e7374b-4310-43f6-b0ec-7fde3879d759",
   "metadata": {},
   "outputs": [
    {
     "data": {
      "text/plain": [
       "np.float64(0.5288582367825301)"
      ]
     },
     "execution_count": 35,
     "metadata": {},
     "output_type": "execute_result"
    }
   ],
   "source": [
    "np.set_printoptions(suppress=True, precision=5, linewidth=50)\n",
    "v = np.random.random(size=(100))\n",
    "np.mean(v)"
   ]
  },
  {
   "cell_type": "markdown",
   "id": "89d1d36f-f958-4b41-9c6c-fffaabb6b1a8",
   "metadata": {},
   "source": [
    "15. Create a 2d array with 1 on the border and 0 inside"
   ]
  },
  {
   "cell_type": "code",
   "execution_count": null,
   "id": "e86e7818-1800-4c15-bdd8-dfe18ede74fa",
   "metadata": {},
   "outputs": [],
   "source": []
  }
 ],
 "metadata": {
  "kernelspec": {
   "display_name": "Python 3 (ipykernel)",
   "language": "python",
   "name": "python3"
  },
  "language_info": {
   "codemirror_mode": {
    "name": "ipython",
    "version": 3
   },
   "file_extension": ".py",
   "mimetype": "text/x-python",
   "name": "python",
   "nbconvert_exporter": "python",
   "pygments_lexer": "ipython3",
   "version": "3.12.3"
  }
 },
 "nbformat": 4,
 "nbformat_minor": 5
}
