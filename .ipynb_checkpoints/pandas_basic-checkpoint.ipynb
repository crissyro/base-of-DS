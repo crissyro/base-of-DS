{
 "cells": [
  {
   "cell_type": "markdown",
   "id": "fe2688f7-24c1-442c-b579-ac5a8e799104",
   "metadata": {},
   "source": [
    "<h1>Pandas basic</h1>"
   ]
  },
  {
   "cell_type": "code",
   "execution_count": 1,
   "id": "2df0683f-257f-489c-8685-e3f68b8ad9d1",
   "metadata": {},
   "outputs": [],
   "source": [
    "import pandas as pd"
   ]
  },
  {
   "cell_type": "code",
   "execution_count": 10,
   "id": "e9d41d23-9b1d-45f0-84c6-61b4b706f8cd",
   "metadata": {},
   "outputs": [
    {
     "data": {
      "text/html": [
       "<div>\n",
       "<style scoped>\n",
       "    .dataframe tbody tr th:only-of-type {\n",
       "        vertical-align: middle;\n",
       "    }\n",
       "\n",
       "    .dataframe tbody tr th {\n",
       "        vertical-align: top;\n",
       "    }\n",
       "\n",
       "    .dataframe thead th {\n",
       "        text-align: right;\n",
       "    }\n",
       "</style>\n",
       "<table border=\"1\" class=\"dataframe\">\n",
       "  <thead>\n",
       "    <tr style=\"text-align: right;\">\n",
       "      <th></th>\n",
       "      <th>A</th>\n",
       "      <th>B</th>\n",
       "      <th>C</th>\n",
       "    </tr>\n",
       "  </thead>\n",
       "  <tbody>\n",
       "    <tr>\n",
       "      <th>row1</th>\n",
       "      <td>1</td>\n",
       "      <td>4</td>\n",
       "      <td>7</td>\n",
       "    </tr>\n",
       "    <tr>\n",
       "      <th>row2</th>\n",
       "      <td>2</td>\n",
       "      <td>5</td>\n",
       "      <td>8</td>\n",
       "    </tr>\n",
       "    <tr>\n",
       "      <th>row3</th>\n",
       "      <td>3</td>\n",
       "      <td>6</td>\n",
       "      <td>9</td>\n",
       "    </tr>\n",
       "  </tbody>\n",
       "</table>\n",
       "</div>"
      ],
      "text/plain": [
       "      A  B  C\n",
       "row1  1  4  7\n",
       "row2  2  5  8\n",
       "row3  3  6  9"
      ]
     },
     "execution_count": 10,
     "metadata": {},
     "output_type": "execute_result"
    }
   ],
   "source": [
    "# Создание DataFrame\n",
    "data = {\n",
    "    'A': [1, 2, 3],\n",
    "    'B': [4, 5, 6],\n",
    "    'C': [7, 8, 9]\n",
    "}\n",
    "df = pd.DataFrame(data, index=['row1', 'row2', 'row3'])\n",
    "\n",
    "df.head()"
   ]
  },
  {
   "cell_type": "code",
   "execution_count": 11,
   "id": "9365d839-66b0-4a65-9f3a-e3476e4e290a",
   "metadata": {},
   "outputs": [
    {
     "name": "stdout",
     "output_type": "stream",
     "text": [
      "A    1\n",
      "B    4\n",
      "C    7\n",
      "Name: row1, dtype: int64\n"
     ]
    }
   ],
   "source": [
    "# Доступ к строке по метке\n",
    "print(df.loc['row1'])"
   ]
  },
  {
   "cell_type": "code",
   "execution_count": 3,
   "id": "6170d6d0-a877-4208-8443-8b23cad0bc75",
   "metadata": {},
   "outputs": [
    {
     "name": "stdout",
     "output_type": "stream",
     "text": [
      "      A  B  C\n",
      "row1  1  4  7\n",
      "row2  2  5  8\n"
     ]
    }
   ],
   "source": [
    "# Доступ к нескольким строкам\n",
    "print(df.loc[['row1', 'row2']])"
   ]
  },
  {
   "cell_type": "code",
   "execution_count": 4,
   "id": "bb6cd7e2-4210-406d-8946-4a2475ae9f00",
   "metadata": {},
   "outputs": [
    {
     "name": "stdout",
     "output_type": "stream",
     "text": [
      "1\n"
     ]
    }
   ],
   "source": [
    "# Доступ к строкам и столбцам\n",
    "print(df.loc['row1', 'A'])  # Значение в строке 'row1' и столбце 'A'"
   ]
  },
  {
   "cell_type": "code",
   "execution_count": 5,
   "id": "e3e33fdd-0c8a-42ac-8fba-5a480aeb13f5",
   "metadata": {},
   "outputs": [
    {
     "name": "stdout",
     "output_type": "stream",
     "text": [
      "      A  B\n",
      "row1  1  4\n",
      "row2  2  5\n"
     ]
    }
   ],
   "source": [
    "# Доступ к срезу строк и столбцов\n",
    "print(df.loc['row1':'row2', 'A':'B'])"
   ]
  },
  {
   "cell_type": "code",
   "execution_count": 12,
   "id": "08fc5078-ac38-41f6-9b62-e027fb75bbeb",
   "metadata": {},
   "outputs": [
    {
     "name": "stdout",
     "output_type": "stream",
     "text": [
      "A    1\n",
      "B    4\n",
      "C    7\n",
      "Name: row1, dtype: int64\n"
     ]
    }
   ],
   "source": [
    "# Доступ к строке по индексу\n",
    "print(df.iloc[0])  # Первая строка"
   ]
  },
  {
   "cell_type": "code",
   "execution_count": 13,
   "id": "4cf10c49-999f-4732-863e-280cc6a30bbb",
   "metadata": {},
   "outputs": [
    {
     "name": "stdout",
     "output_type": "stream",
     "text": [
      "      A  B  C\n",
      "row1  1  4  7\n",
      "row2  2  5  8\n"
     ]
    }
   ],
   "source": [
    "# Доступ к нескольким строкам\n",
    "print(df.iloc[[0, 1]])  # Первые две строки"
   ]
  },
  {
   "cell_type": "code",
   "execution_count": 14,
   "id": "d85b70c0-e3c0-4bed-be94-47f73fc84350",
   "metadata": {},
   "outputs": [
    {
     "name": "stdout",
     "output_type": "stream",
     "text": [
      "1\n"
     ]
    }
   ],
   "source": [
    "# Доступ к строкам и столбцам по индексам\n",
    "print(df.iloc[0, 0])  # Значение в первой строке и первом столбце"
   ]
  },
  {
   "cell_type": "code",
   "execution_count": 15,
   "id": "6b736a45-53ec-459f-b750-6464a7ffe042",
   "metadata": {},
   "outputs": [
    {
     "name": "stdout",
     "output_type": "stream",
     "text": [
      "      A  B\n",
      "row1  1  4\n",
      "row2  2  5\n"
     ]
    }
   ],
   "source": [
    "# Доступ к срезу строк и столбцов\n",
    "print(df.iloc[0:2, 0:2])  # Первые две строки и первые два столбца"
   ]
  },
  {
   "cell_type": "code",
   "execution_count": null,
   "id": "5ccbbc7a-6164-4696-8b74-8abf86e2d84e",
   "metadata": {},
   "outputs": [],
   "source": []
  }
 ],
 "metadata": {
  "kernelspec": {
   "display_name": "Python 3 (ipykernel)",
   "language": "python",
   "name": "python3"
  },
  "language_info": {
   "codemirror_mode": {
    "name": "ipython",
    "version": 3
   },
   "file_extension": ".py",
   "mimetype": "text/x-python",
   "name": "python",
   "nbconvert_exporter": "python",
   "pygments_lexer": "ipython3",
   "version": "3.12.3"
  }
 },
 "nbformat": 4,
 "nbformat_minor": 5
}
